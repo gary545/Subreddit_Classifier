{
 "cells": [
  {
   "cell_type": "markdown",
   "id": "4748e237-f777-4f7e-9382-bc72da1fc836",
   "metadata": {},
   "source": [
    "# Project 3: Web APIs & NLP"
   ]
  },
  {
   "cell_type": "markdown",
   "id": "adc6f5f7-324d-4eab-b8c8-fe19efab38c1",
   "metadata": {},
   "source": [
    "---\n",
    "\n",
    "## Part 3: Data Preprocessing & Modelling\n",
    "\n",
    "### Contents:\n",
    "\n",
    "- [Data Preprocessing](#Data-Preprocessing)\n",
    "- [Modelling](#Modelling)\n",
    "- [Summary](#Summary)\n",
    "- [Recommendations and Future Works](#Recommendations-and-Future-Works)\n",
    "\n",
    "---"
   ]
  },
  {
   "cell_type": "markdown",
   "id": "71377c43-88c1-4d4e-8447-99af23702916",
   "metadata": {},
   "source": [
    "#### Import libraries"
   ]
  },
  {
   "cell_type": "code",
   "execution_count": null,
   "id": "e0235b6f-c8f3-48ee-a506-7f9896f43352",
   "metadata": {},
   "outputs": [],
   "source": [
    "import pandas as pd\n",
    "import numpy as np\n",
    "import matplotlib.pyplot as plt\n",
    "import seaborn as sns\n",
    "import re\n",
    "\n",
    "from bs4 import BeautifulSoup\n",
    "\n",
    "from nltk.tokenize import sent_tokenize, word_tokenize, RegexpTokenizer\n",
    "from nltk.stem import WordNetLemmatizer\n",
    "from nltk.stem.porter import PorterStemmer\n",
    "from nltk.corpus import stopwords\n",
    "from nltk.sentiment.vader import SentimentIntensityAnalyzer\n",
    "\n",
    "from sklearn.model_selection import train_test_split, GridSearchCV\n",
    "from sklearn.linear_model import LogisticRegression\n",
    "from sklearn.pipeline import Pipeline\n",
    "from sklearn.naive_bayes import MultinomialNB\n",
    "from sklearn.metrics import (confusion_matrix, ConfusionMatrixDisplay,\n",
    "accuracy_score, f1_score, plot_roc_curve, roc_auc_score, RocCurveDisplay)\n",
    "from sklearn.feature_extraction.text import CountVectorizer, TfidfVectorizer\n",
    "from sklearn.tree import DecisionTreeClassifier\n",
    "from sklearn.ensemble import BaggingClassifier, RandomForestClassifier, ExtraTreesClassifier"
   ]
  },
  {
   "cell_type": "markdown",
   "id": "55f36201-0ff0-47c6-b275-8228e0cb649e",
   "metadata": {},
   "source": [
    "#### Read in datasets"
   ]
  },
  {
   "cell_type": "code",
   "execution_count": null,
   "id": "054d4877-042e-4f38-b0d7-5208010d4f9b",
   "metadata": {},
   "outputs": [],
   "source": [
    "ps4 = pd.read_csv(\"../datasets/ps4_clean.csv\")\n",
    "ps5 = pd.read_csv(\"../datasets/ps5_clean.csv\")"
   ]
  },
  {
   "cell_type": "code",
   "execution_count": null,
   "id": "2ebbbfd2-0100-47d0-961a-5d633ce4b2dd",
   "metadata": {},
   "outputs": [],
   "source": [
    "ps4.info()"
   ]
  },
  {
   "cell_type": "code",
   "execution_count": null,
   "id": "a2acdfd2-61e9-4793-b3fc-cbf0fda25d61",
   "metadata": {},
   "outputs": [],
   "source": [
    "ps5.info()"
   ]
  },
  {
   "cell_type": "markdown",
   "id": "c07eff4e-6cc6-441c-abfc-b72b524dee09",
   "metadata": {},
   "source": [
    "## Data Preprocessing"
   ]
  },
  {
   "cell_type": "code",
   "execution_count": null,
   "id": "769605bc-1eea-41f0-991e-97472df805cc",
   "metadata": {},
   "outputs": [],
   "source": [
    "# Merge both dataframes\n",
    "df = pd.concat([ps4, ps5], axis=0) "
   ]
  },
  {
   "cell_type": "code",
   "execution_count": null,
   "id": "0c2ac6c5-aec6-4ebd-a6b6-854fa839b846",
   "metadata": {},
   "outputs": [],
   "source": [
    "df.shape"
   ]
  },
  {
   "cell_type": "code",
   "execution_count": null,
   "id": "a86fcb24-983c-4428-8427-5b7148277e44",
   "metadata": {},
   "outputs": [],
   "source": [
    "df.info()"
   ]
  },
  {
   "cell_type": "markdown",
   "id": "f68297a7-a79c-49da-9314-771784dd6916",
   "metadata": {},
   "source": [
    "#### Binarize target variable"
   ]
  },
  {
   "cell_type": "markdown",
   "id": "da938971-426f-44a7-a205-d6ced800d2ca",
   "metadata": {},
   "source": [
    "Convert PS4 and PS5 in `subreddit` into binary labels:\n",
    " - 0 for PS4\n",
    " - 1 for PS5"
   ]
  },
  {
   "cell_type": "code",
   "execution_count": null,
   "id": "09ccf640-dd34-48a4-a969-e07145aced8e",
   "metadata": {},
   "outputs": [],
   "source": [
    "df['subreddit'] = df['subreddit'].map({'PS4': 0, 'PS5': 1})"
   ]
  },
  {
   "cell_type": "code",
   "execution_count": null,
   "id": "3c7e59dd-3657-4f90-9798-c50a2fb347f3",
   "metadata": {},
   "outputs": [],
   "source": [
    "df['subreddit'].value_counts()"
   ]
  },
  {
   "cell_type": "markdown",
   "id": "b24b532f-43b7-4a49-a50a-55a7077b1fc5",
   "metadata": {},
   "source": [
    "After data cleaning, we find that there are more valid posts retrieved from PS5 subreddit than PS4.\n",
    "\n",
    "As the PS5 is the latest gaming console from Sony, we can expect more active discussions in terms of new game releases, announcements and reviews made, as compared to the PS4, resulting in higher number of valid posts.\n",
    "\n",
    "With an imbalanced dataset, we can use other metrics such as the F1 score to assess the classifier."
   ]
  },
  {
   "cell_type": "markdown",
   "id": "4d9dbe82-7285-4d92-ba41-63b9b5d9a8f9",
   "metadata": {},
   "source": [
    "#### Engineer new feature `post`"
   ]
  },
  {
   "cell_type": "markdown",
   "id": "176b1215-29d9-49fe-b16f-dd12297993d7",
   "metadata": {},
   "source": [
    "During data cleaning, many `selftext` rows are found blank. However, we can still utilise the words from `title`. We will engineer a new feature called `post` by combining `title` and `selftext`, in order to build on the list of features for modelling."
   ]
  },
  {
   "cell_type": "code",
   "execution_count": null,
   "id": "03d8c864-27f7-4652-af82-a8e080b8ab80",
   "metadata": {},
   "outputs": [],
   "source": [
    "# Create new `post` consisting of `title` and `selftext`\n",
    "df['post'] = df['title'] + ' ' + df['selftext']"
   ]
  },
  {
   "cell_type": "code",
   "execution_count": null,
   "id": "66de39cb-bba0-4d20-b9c8-2963e6b0297d",
   "metadata": {},
   "outputs": [],
   "source": [
    "df.head(2)"
   ]
  },
  {
   "cell_type": "code",
   "execution_count": null,
   "id": "73c4ad03-f856-49cb-814a-e36781931ab1",
   "metadata": {},
   "outputs": [],
   "source": [
    "# Drop unwanted features\n",
    "df.drop(['id', 'title', 'selftext'], axis=1, inplace=True)"
   ]
  },
  {
   "cell_type": "code",
   "execution_count": null,
   "id": "3a57219e-6bba-484e-873c-2cf945733b72",
   "metadata": {},
   "outputs": [],
   "source": [
    "df.head()"
   ]
  },
  {
   "cell_type": "code",
   "execution_count": null,
   "id": "48188479-1411-4d11-bf27-a1c22fab0019",
   "metadata": {},
   "outputs": [],
   "source": [
    "df.to_csv(\"../datasets/combined.csv\", index=False)"
   ]
  },
  {
   "cell_type": "markdown",
   "id": "35145afa-0caf-40a9-9edc-dc75bfcb3a75",
   "metadata": {},
   "source": [
    "#### Train/test split dataset"
   ]
  },
  {
   "cell_type": "code",
   "execution_count": null,
   "id": "ea39329c-14a0-4d28-8da6-deb995a06824",
   "metadata": {},
   "outputs": [],
   "source": [
    "# Perform train/test split for data preprocessing:\n",
    "X = df['post']\n",
    "y = df['subreddit']"
   ]
  },
  {
   "cell_type": "code",
   "execution_count": null,
   "id": "287c29cc-b812-4ad8-bee1-cb5ea89f3d5e",
   "metadata": {},
   "outputs": [],
   "source": [
    "df.info()"
   ]
  },
  {
   "cell_type": "code",
   "execution_count": null,
   "id": "20a84819-9a5d-4abc-b7de-0bd638d3f37a",
   "metadata": {},
   "outputs": [],
   "source": [
    "y.value_counts(normalize=True)"
   ]
  },
  {
   "cell_type": "code",
   "execution_count": null,
   "id": "10bce843-89f0-4090-9bbc-f2eb67032055",
   "metadata": {},
   "outputs": [],
   "source": [
    "X_train, X_test, y_train, y_test = train_test_split(X, y,\n",
    "                                                    test_size=0.20,\n",
    "                                                    stratify=y,\n",
    "                                                    random_state=42\n",
    "                                                   )"
   ]
  },
  {
   "cell_type": "code",
   "execution_count": null,
   "id": "d124b2cc-14ed-4247-ba72-5e0c40ba9d09",
   "metadata": {},
   "outputs": [],
   "source": [
    "X_train.shape"
   ]
  },
  {
   "cell_type": "code",
   "execution_count": null,
   "id": "d3d4a4cb-fd6a-42cd-8753-000d9910fa1e",
   "metadata": {},
   "outputs": [],
   "source": [
    "X_test.shape"
   ]
  },
  {
   "cell_type": "markdown",
   "id": "8305e1f9-2525-42b1-87d1-ac17dd437987",
   "metadata": {},
   "source": [
    "#### Tokenize and lemmatize"
   ]
  },
  {
   "cell_type": "code",
   "execution_count": null,
   "id": "917ffe18-6420-4fe6-b8ab-d6bd85c0e50e",
   "metadata": {},
   "outputs": [],
   "source": [
    "# Update list of stopwords\n",
    "stop_words = set(stopwords.words('english'))\n",
    "add_stopwords = ['ps4', 'ps5', 'playstation', 'game', 'video', 'sony' 'ps', 'plus', 'got', 'just']\n",
    "\n",
    "stop_words = stop_words.union(add_stopwords)"
   ]
  },
  {
   "cell_type": "code",
   "execution_count": null,
   "id": "4984e620-6be4-4154-a775-25e957ac376e",
   "metadata": {},
   "outputs": [],
   "source": [
    "# Instantiate lemmatizer.\n",
    "lemmatizer = WordNetLemmatizer()"
   ]
  },
  {
   "cell_type": "code",
   "execution_count": null,
   "id": "53845ece-87ae-4295-b13d-76909fadad00",
   "metadata": {},
   "outputs": [],
   "source": [
    "# Create function to further clean `post`\n",
    "\n",
    "def clean_post(raw_post):\n",
    "    \n",
    "    # 1. Remove HTML.\n",
    "    html_removed = BeautifulSoup(raw_post).get_text()\n",
    "    \n",
    "    # 2. Remove http.\n",
    "    http_removed = re.sub(r\"http\\S+\", \"\", html_removed)\n",
    "    \n",
    "    # 3. Remove www.\n",
    "    www_removed = re.sub(r\"www\\S+\", \"\", http_removed)\n",
    "    \n",
    "    # 4. Remove non-letters.\n",
    "    letters_only = re.sub(\"[^a-zA-Z]\", \" \",  www_removed)\n",
    "    \n",
    "    # 5. Convert to lower case, split into individual words.\n",
    "    words = letters_only.lower().split()\n",
    "    \n",
    "    #6. Lemmatize word tokens.\n",
    "    tokens_lem = [lemmatizer.lemmatize(i) for i in words]\n",
    "   \n",
    "    # 7. Remove stopwords.\n",
    "    meaningful_words = [w for w in tokens_lem if not w in stop_words]\n",
    "    \n",
    "    # 8. Join the words back into one string separated by space and return the result.\n",
    "    return(\" \".join(meaningful_words))"
   ]
  },
  {
   "cell_type": "code",
   "execution_count": null,
   "id": "f89113ef-0827-4fc6-8df2-3294abda1cae",
   "metadata": {},
   "outputs": [],
   "source": [
    "# Get the number of posts based on the dataframe size.\n",
    "total_posts = df.shape[0]\n",
    "print(f'There are {total_posts} posts.')"
   ]
  },
  {
   "cell_type": "code",
   "execution_count": null,
   "id": "9d9a556d-f546-4f46-9cd6-602f4c8667c0",
   "metadata": {},
   "outputs": [],
   "source": [
    "# Initialize an empty list to hold clean posts.\n",
    "clean_train_post = []\n",
    "clean_test_post = []"
   ]
  },
  {
   "cell_type": "code",
   "execution_count": null,
   "id": "4b09342b-ba19-4690-8019-d4f5d6977576",
   "metadata": {},
   "outputs": [],
   "source": [
    "# Clean 'post' \n",
    "\n",
    "print(\"Cleaning and parsing the training set posts...\")\n",
    "\n",
    "# Instantiate counter.\n",
    "j = 0\n",
    "\n",
    "# For every post in our training set...\n",
    "for train_post in X_train:\n",
    "    \n",
    "    # Convert post to words, then append to clean_train_post.\n",
    "    clean_train_post.append(clean_post(train_post))\n",
    "    \n",
    "    # If the index is divisible by 1000, print a message.\n",
    "    if (j + 1) % 1000 == 0:\n",
    "        print(f'{j + 1} of {total_posts} posts.')\n",
    "    \n",
    "    j += 1\n",
    "\n",
    "# Let's do the same for our testing set.\n",
    "print(\"Cleaning and parsing the testing set posts...\")\n",
    "\n",
    "# For every post in our testing set...\n",
    "for test_post in X_test:\n",
    "    \n",
    "    # Convert post to words, then append to clean_test_post.\n",
    "    clean_test_post.append(clean_post(test_post))\n",
    "    \n",
    "    # If the index is divisible by 1000, print a message.\n",
    "    if (j + 1) % 1000 == 0:\n",
    "        print(f'{j + 1} of {total_posts} posts.')\n",
    "        \n",
    "    j += 1\n",
    "print('Cleaning for all posts completed')"
   ]
  },
  {
   "cell_type": "code",
   "execution_count": null,
   "id": "6647fa50-7ea8-46fa-974e-19dd87f4dcb3",
   "metadata": {},
   "outputs": [],
   "source": [
    "# Store cleaned posts back in train/test sets\n",
    "X_train = clean_train_post\n",
    "X_test = clean_test_post"
   ]
  },
  {
   "cell_type": "markdown",
   "id": "bf6b60df-a9ed-46ad-86b7-091f4563ccad",
   "metadata": {},
   "source": [
    "## Modelling"
   ]
  },
  {
   "cell_type": "markdown",
   "id": "1de0ea91-4112-4022-bdfb-f8b4843c3af2",
   "metadata": {},
   "source": [
    "We will create our models using a mixture of transformers and classifiers:\n",
    "1. CountVectorizer and Multinomial Naive Bayes\n",
    "2. TF-IDF Vectorizer and Multinomial Naive Bayes\n",
    "3. CountVectorizer and Logistic Regression\n",
    "4. TF-IDF Vectorizer and Logistic Regression\n",
    "5. CountVectorizer and Decision Tree Classifier\n",
    "6. TF-IDF Vectorizer and Decision Tree Classifier\n",
    "7. CountVectorizer and Random Forest Classifier\n",
    "8. TF-IDF Vectorizer and Random Forest Classifier"
   ]
  },
  {
   "cell_type": "markdown",
   "id": "6b82a16f-9d6d-43cd-9ddf-8cbbde5db21d",
   "metadata": {},
   "source": [
    "#### Baseline model"
   ]
  },
  {
   "cell_type": "markdown",
   "id": "e450c272-26dc-4477-9a3e-69418a0e7cf9",
   "metadata": {},
   "source": [
    "We will first establish a baseline model for our prediction before running the classification models."
   ]
  },
  {
   "cell_type": "code",
   "execution_count": null,
   "id": "80e8fb01-99dd-492b-9de8-ff0fee5cd6ad",
   "metadata": {},
   "outputs": [],
   "source": [
    "y_train.value_counts(normalize=True)"
   ]
  },
  {
   "cell_type": "markdown",
   "id": "a09ee66f-1479-426e-90e9-00f9bfca3421",
   "metadata": {},
   "source": [
    "The baseline model has a 70% accuracy of predicting the correct subreddit. We will evaluate the classification models whether they can provide a better prediction by obtaining higher accuracy scores."
   ]
  },
  {
   "cell_type": "markdown",
   "id": "6e90c3d0-303e-48d7-9579-4e24622de6b6",
   "metadata": {},
   "source": [
    "#### Model 1 - CountVectorizer + MultinomialNB"
   ]
  },
  {
   "cell_type": "code",
   "execution_count": null,
   "id": "f997d144-4bcb-4a00-8513-20c7d7e3d8fb",
   "metadata": {},
   "outputs": [],
   "source": [
    "# Set up pipeline, hyperparameters and GridSearch\n",
    "pipe1 = Pipeline([\n",
    "    ('cvec', CountVectorizer()),\n",
    "    ('nb', MultinomialNB())\n",
    "])\n",
    "\n",
    "pipe1_params = {\n",
    "    'cvec__max_features': [4000],      #[1000, 2000, 3000, 3500, 4500, 5000]\n",
    "    'cvec__min_df': [1],               #[2, 3]\n",
    "    'cvec__max_df': [.90],             #[0.95, 0.85, 0.80, ]\n",
    "    'cvec__ngram_range': [(1,4)]       #[(1,1), (1,2), (1,3), (1,5) ]\n",
    "}\n",
    "\n",
    "gs1 = GridSearchCV(pipe1,\n",
    "                   param_grid=pipe1_params, \n",
    "                   cv=5,\n",
    "                   n_jobs=-1,\n",
    "                   verbose=1\n",
    "                  )"
   ]
  },
  {
   "cell_type": "code",
   "execution_count": null,
   "id": "a7f35406-fb8f-4e72-9793-0a815939d0f4",
   "metadata": {},
   "outputs": [],
   "source": [
    "gs1.get_params().keys()"
   ]
  },
  {
   "cell_type": "code",
   "execution_count": null,
   "id": "c9f690eb-104e-491f-bfd9-9c317c1819a6",
   "metadata": {},
   "outputs": [],
   "source": [
    "%%time\n",
    "# Fit GridSearch to training data.\n",
    "gs1.fit(X_train, y_train)"
   ]
  },
  {
   "cell_type": "code",
   "execution_count": null,
   "id": "79ed64c0-5793-40b7-98d9-b126f5be044a",
   "metadata": {},
   "outputs": [],
   "source": [
    "# Model 1 best parameters\n",
    "gs1.best_params_"
   ]
  },
  {
   "cell_type": "code",
   "execution_count": null,
   "id": "e6d16a1a-8aa4-4900-ac8d-3fd969270e23",
   "metadata": {},
   "outputs": [],
   "source": [
    "print(f\"Model 1 Train score: {gs1.score(X_train, y_train)}\")\n",
    "print(f\"Model 1 Test score: {gs1.score(X_test, y_test)}\")\n",
    "print(f\"Model 1 CV score: {gs1.best_score_}\")"
   ]
  },
  {
   "cell_type": "code",
   "execution_count": null,
   "id": "4f6a67e5-ec97-4090-9e4d-d3d3a6ecbc0e",
   "metadata": {},
   "outputs": [],
   "source": [
    "gs1_features = gs1.best_estimator_[0].get_feature_names_out()\n",
    "gs1_features"
   ]
  },
  {
   "cell_type": "code",
   "execution_count": null,
   "id": "d3c98f29-f9da-4804-a0c9-b28e7f027b3a",
   "metadata": {},
   "outputs": [],
   "source": [
    "log_prob_diff = gs1.best_estimator_.steps[1][1].feature_log_prob_[1] - gs1.best_estimator_.steps[1][1].feature_log_prob_[0]\n",
    "log_prob_diff"
   ]
  },
  {
   "cell_type": "code",
   "execution_count": null,
   "id": "eae04db6-1d7a-4796-a908-363c4e1862f0",
   "metadata": {},
   "outputs": [],
   "source": [
    "gs1_df = pd.DataFrame(log_prob_diff, index=gs1_features, columns=['log_prob'])"
   ]
  },
  {
   "cell_type": "code",
   "execution_count": null,
   "id": "9490eb63-7f4b-4fcf-85ed-5af876dc30a4",
   "metadata": {},
   "outputs": [],
   "source": [
    "gs1_df.sort_values(by='log_prob', ascending=False).head(30)"
   ]
  },
  {
   "cell_type": "code",
   "execution_count": null,
   "id": "5a426b74-56a0-4ee8-86d6-551b339d9b06",
   "metadata": {},
   "outputs": [],
   "source": [
    "# Get predictions\n",
    "preds = gs1.predict(X_test)\n",
    "\n",
    "# Save confusion matrix values\n",
    "tn, fp, fn, tp = confusion_matrix(y_test, preds).ravel()\n",
    "cm = confusion_matrix(y_test, preds)"
   ]
  },
  {
   "cell_type": "code",
   "execution_count": null,
   "id": "bc33636e-3080-4197-945f-d1cf05532685",
   "metadata": {},
   "outputs": [],
   "source": [
    "# View confusion matrix\n",
    "disp = ConfusionMatrixDisplay(cm)\n",
    "disp.plot();"
   ]
  },
  {
   "cell_type": "code",
   "execution_count": null,
   "id": "33e4bf3b-b6b1-4b33-a7f5-1e6178ad14ae",
   "metadata": {},
   "outputs": [],
   "source": [
    "# Calculate F1 score\n",
    "print(f\"Model 1 F1 score: {f1_score(y_test, preds)}\")"
   ]
  },
  {
   "cell_type": "markdown",
   "id": "f8e0ec4d-a198-4ab5-aae1-8579e53f4314",
   "metadata": {},
   "source": [
    "#### Model 2 - TF-IDF Vectorizer + MultinomialNB"
   ]
  },
  {
   "cell_type": "code",
   "execution_count": null,
   "id": "84ec41a0-f86f-4be4-89a0-92db9459595f",
   "metadata": {},
   "outputs": [],
   "source": [
    "# Set up pipeline, hyperparameters and GridSearch\n",
    "pipe2 = Pipeline([\n",
    "    ('tvec', TfidfVectorizer()),\n",
    "    ('nb', MultinomialNB())\n",
    "])\n",
    "\n",
    "pipe2_params = {\n",
    "    'tvec__max_features': [4500],     #[1000, 3000, 3500, 4000, 5000]\n",
    "    'tvec__min_df': [2],              #[1,3]\n",
    "    'tvec__max_df': [.85],            #[0.95, 0.9, 0.8]\n",
    "    'tvec__ngram_range': [(1,2)]      #[(1,4), (1,3)]\n",
    "}\n",
    "\n",
    "gs2 = GridSearchCV(pipe2,\n",
    "                   param_grid=pipe2_params, \n",
    "                   cv=5,\n",
    "                   n_jobs=-1,\n",
    "                   verbose=1\n",
    "                  )"
   ]
  },
  {
   "cell_type": "code",
   "execution_count": null,
   "id": "1e646648-3841-479f-802f-3c1662ea52d6",
   "metadata": {},
   "outputs": [],
   "source": [
    "gs2.get_params().keys()"
   ]
  },
  {
   "cell_type": "code",
   "execution_count": null,
   "id": "b5181a44-5f9f-496b-a82d-8fd81d99cf7c",
   "metadata": {},
   "outputs": [],
   "source": [
    "%%time\n",
    "# Fit GridSearch to training data.\n",
    "gs2.fit(X_train, y_train)"
   ]
  },
  {
   "cell_type": "code",
   "execution_count": null,
   "id": "2a19de9a-5a58-4524-92ce-fe40a12f8293",
   "metadata": {},
   "outputs": [],
   "source": [
    "# Model 2 best parameters\n",
    "gs2.best_params_"
   ]
  },
  {
   "cell_type": "code",
   "execution_count": null,
   "id": "ede1d45b-877a-47b3-af98-856d8e76be13",
   "metadata": {},
   "outputs": [],
   "source": [
    "print(f\"Model 2 Train score: {gs2.score(X_train, y_train)}\")\n",
    "print(f\"Model 2 Test score: {gs2.score(X_test, y_test)}\")\n",
    "print(f\"Model 2 CV score: {gs2.best_score_}\")"
   ]
  },
  {
   "cell_type": "code",
   "execution_count": null,
   "id": "c39b918f-fe20-425b-b59e-41d4db844261",
   "metadata": {},
   "outputs": [],
   "source": [
    "gs2_features = gs2.best_estimator_[0].get_feature_names_out()"
   ]
  },
  {
   "cell_type": "code",
   "execution_count": null,
   "id": "97aed96b-b0b3-477b-bf61-bc63795ea3df",
   "metadata": {},
   "outputs": [],
   "source": [
    "log_prob_diff = gs2.best_estimator_.steps[1][1].feature_log_prob_[1] - gs2.best_estimator_.steps[1][1].feature_log_prob_[0]"
   ]
  },
  {
   "cell_type": "code",
   "execution_count": null,
   "id": "b66ac416-1659-4b3f-82f5-14313e92f6bb",
   "metadata": {},
   "outputs": [],
   "source": [
    "gs2_df = pd.DataFrame(log_prob_diff, index=gs2_features, columns=['log_prob'])"
   ]
  },
  {
   "cell_type": "code",
   "execution_count": null,
   "id": "fe6110fa-649d-49c0-87f4-858b8d7c2a51",
   "metadata": {},
   "outputs": [],
   "source": [
    "gs2_df.sort_values(by='log_prob', ascending=False).head(30)"
   ]
  },
  {
   "cell_type": "code",
   "execution_count": null,
   "id": "5a34b21a-2f79-4ff0-a867-805bc53a2525",
   "metadata": {},
   "outputs": [],
   "source": [
    "# Get predictions\n",
    "preds = gs2.predict(X_test)\n",
    "\n",
    "# Save confusion matrix values\n",
    "tn, fp, fn, tp = confusion_matrix(y_test, preds).ravel()\n",
    "cm = confusion_matrix(y_test, preds)"
   ]
  },
  {
   "cell_type": "code",
   "execution_count": null,
   "id": "482e7db3-c558-4c6c-aafb-c0df24820645",
   "metadata": {},
   "outputs": [],
   "source": [
    "# View confusion matrix\n",
    "disp = ConfusionMatrixDisplay(cm)\n",
    "disp.plot();"
   ]
  },
  {
   "cell_type": "code",
   "execution_count": null,
   "id": "a9006e3f-058e-4af3-896c-e47a97706ea5",
   "metadata": {},
   "outputs": [],
   "source": [
    "# Calculate F1 score\n",
    "print(f\"Model 2 F1 score: {f1_score(y_test, preds)}\")"
   ]
  },
  {
   "cell_type": "markdown",
   "id": "cfa499e8-ce51-404f-881e-4163c379bf1d",
   "metadata": {},
   "source": [
    "#### Model 3 - CountVectorizer + Logistic Regression"
   ]
  },
  {
   "cell_type": "code",
   "execution_count": null,
   "id": "76181b99-5d51-482e-a4a9-f190caaaa403",
   "metadata": {},
   "outputs": [],
   "source": [
    "# Set up pipeline, hyperparameters and GridSearch\n",
    "pipe3 = Pipeline([\n",
    "    ('cvec', CountVectorizer()),\n",
    "    ('lr', LogisticRegression())\n",
    "])\n",
    "\n",
    "pipe3_params = {\n",
    "    'cvec__max_features': [5000],           #[4000, 6000, 4500, 5500]\n",
    "    'cvec__min_df': [2],                    #[1,3]\n",
    "    'cvec__max_df': [0.85],                 #[0.9, 0.8]\n",
    "    'cvec__ngram_range': [(1,2)],           #[(1,3), (1,4)]\n",
    "    'lr__C': [0.1],                         #[10, 1, 0.01]\n",
    "    'lr__penalty': ['l2'],                  #['l1']\n",
    "    'lr__solver': ['sag'],                  #['liblinear', 'newton-cg', 'lbfgs']\n",
    "    'lr__max_iter': [7000],\n",
    "    'lr__class_weight': [None]              #['balanced']\n",
    "}\n",
    "\n",
    "gs3 = GridSearchCV(pipe3,\n",
    "                   param_grid=pipe3_params, \n",
    "                   cv=5,\n",
    "                   n_jobs=-1,\n",
    "                   verbose=1\n",
    "                  )"
   ]
  },
  {
   "cell_type": "code",
   "execution_count": null,
   "id": "9cf01677-ebf7-4bc5-9b4a-7ac8390d2e80",
   "metadata": {},
   "outputs": [],
   "source": [
    "gs3.get_params().keys()"
   ]
  },
  {
   "cell_type": "code",
   "execution_count": null,
   "id": "dc13da5e-360e-4935-bfdf-8e1534fd9fd8",
   "metadata": {},
   "outputs": [],
   "source": [
    "%%time\n",
    "# Fit GridSearch to training data.\n",
    "gs3.fit(X_train, y_train)"
   ]
  },
  {
   "cell_type": "code",
   "execution_count": null,
   "id": "cba83da3-5404-48a8-a4c6-3736d5a79904",
   "metadata": {},
   "outputs": [],
   "source": [
    "# Model 3 best parameters\n",
    "gs3.best_params_"
   ]
  },
  {
   "cell_type": "code",
   "execution_count": null,
   "id": "5b2355cd-c2a8-40fe-bbcc-3301cd6abd5d",
   "metadata": {},
   "outputs": [],
   "source": [
    "print(f\"Model 3 Train score: {gs3.score(X_train, y_train)}\")\n",
    "print(f\"Model 3 Test score: {gs3.score(X_test, y_test)}\")\n",
    "print(f\"Model 3 CV score: {gs3.best_score_}\")"
   ]
  },
  {
   "cell_type": "code",
   "execution_count": null,
   "id": "72378887-becd-4660-910c-c56aa516270e",
   "metadata": {},
   "outputs": [],
   "source": [
    "# Get predictions\n",
    "preds = gs3.predict(X_test)\n",
    "\n",
    "# Save confusion matrix values\n",
    "tn, fp, fn, tp = confusion_matrix(y_test, preds).ravel()\n",
    "cm = confusion_matrix(y_test, preds)"
   ]
  },
  {
   "cell_type": "code",
   "execution_count": null,
   "id": "04d2d41d-0e23-4f54-81c3-112c17a48ca8",
   "metadata": {},
   "outputs": [],
   "source": [
    "# View confusion matrix\n",
    "disp = ConfusionMatrixDisplay(cm)\n",
    "disp.plot();"
   ]
  },
  {
   "cell_type": "code",
   "execution_count": null,
   "id": "e893b041-e666-4de9-a736-3a6902465252",
   "metadata": {},
   "outputs": [],
   "source": [
    "# Calculate F1 score\n",
    "print(f\"Model 3 F1 score: {f1_score(y_test, preds)}\")"
   ]
  },
  {
   "cell_type": "code",
   "execution_count": null,
   "id": "2f09a459-e785-4a9d-9170-f8bd3e37cb49",
   "metadata": {},
   "outputs": [],
   "source": [
    "gs3_features = gs3.best_estimator_[0].get_feature_names_out()\n",
    "gs3_features.shape"
   ]
  },
  {
   "cell_type": "code",
   "execution_count": null,
   "id": "eea382f0-f7dc-4d41-9a01-6b5d6c945e12",
   "metadata": {},
   "outputs": [],
   "source": [
    "gs3_coef = np.exp(gs3.best_estimator_.named_steps.lr.coef_).T\n",
    "gs3_coef.shape"
   ]
  },
  {
   "cell_type": "code",
   "execution_count": null,
   "id": "99714ba2-17dc-4ad7-8801-fc147347b91e",
   "metadata": {},
   "outputs": [],
   "source": [
    "gs3_df = pd.DataFrame(gs3_coef, index=gs3_features, columns=['coef'])"
   ]
  },
  {
   "cell_type": "code",
   "execution_count": null,
   "id": "c6207c84-5ef1-4d63-b1ea-c3c11ae57b75",
   "metadata": {},
   "outputs": [],
   "source": [
    "gs3_df.sort_values(by='coef', ascending=False).head(30)"
   ]
  },
  {
   "cell_type": "markdown",
   "id": "72e24c98-2ff5-4092-9130-016cdbd72904",
   "metadata": {},
   "source": [
    "#### Model 4 - TF-IDF Vectorizer + Logistic Regression"
   ]
  },
  {
   "cell_type": "code",
   "execution_count": null,
   "id": "35e3a1f9-256f-44da-b5e0-030fbf51111f",
   "metadata": {},
   "outputs": [],
   "source": [
    "# Set up pipeline, hyperparameters and GridSearch\n",
    "pipe4 = Pipeline([\n",
    "    ('tvec', TfidfVectorizer()),\n",
    "    ('lr', LogisticRegression())\n",
    "])\n",
    "\n",
    "pipe4_params = {\n",
    "    'tvec__max_features': [5000],           #[4000, 6000, 4500, 5500]\n",
    "    'tvec__min_df': [1,2],                  #[1,3]\n",
    "    'tvec__max_df': [0.85],                 #[0.9, 0.8]\n",
    "    'tvec__ngram_range': [(1,2)],           #[(1,3), (1,4)]\n",
    "    'lr__C': [1],                           #[10, 0.1, 0.01]\n",
    "    'lr__penalty': ['l2'],                  #['l1']\n",
    "    'lr__solver': ['sag'],                  #['sag','liblinear', 'newton-cg', 'lbfgs']\n",
    "    'lr__max_iter': [7000],\n",
    "    'lr__class_weight': [None]              #['balanced']\n",
    "}\n",
    "\n",
    "gs4 = GridSearchCV(pipe4,\n",
    "                   param_grid=pipe4_params, \n",
    "                   cv=5,\n",
    "                   n_jobs=-1,\n",
    "                   verbose=1\n",
    "                  )"
   ]
  },
  {
   "cell_type": "code",
   "execution_count": null,
   "id": "506690d4-e7ee-46b4-a9cd-7aade1852f51",
   "metadata": {},
   "outputs": [],
   "source": [
    "gs4.get_params().keys()"
   ]
  },
  {
   "cell_type": "code",
   "execution_count": null,
   "id": "935b6b55-bcd5-4bba-bbde-2ead14c47039",
   "metadata": {},
   "outputs": [],
   "source": [
    "%%time\n",
    "# Fit GridSearch to training data.\n",
    "gs4.fit(X_train, y_train)"
   ]
  },
  {
   "cell_type": "code",
   "execution_count": null,
   "id": "e0d4cc68-ad7b-4135-81f0-fa7e12d39f8e",
   "metadata": {},
   "outputs": [],
   "source": [
    "# Model 4 best parameters\n",
    "gs4.best_params_"
   ]
  },
  {
   "cell_type": "code",
   "execution_count": null,
   "id": "9ba2790f-3372-4a04-a2f9-e37e61ad658d",
   "metadata": {},
   "outputs": [],
   "source": [
    "print(f\"Model 4 Train score: {gs4.score(X_train, y_train)}\")\n",
    "print(f\"Model 4 Test score: {gs4.score(X_test, y_test)}\")\n",
    "print(f\"Model 4 CV score: {gs4.best_score_}\")"
   ]
  },
  {
   "cell_type": "code",
   "execution_count": null,
   "id": "dfcc043a-243b-41e5-a6cc-8e0031f09889",
   "metadata": {},
   "outputs": [],
   "source": [
    "# Get predictions\n",
    "preds = gs4.predict(X_test)\n",
    "\n",
    "# Save confusion matrix values\n",
    "tn, fp, fn, tp = confusion_matrix(y_test, preds).ravel()\n",
    "cm = confusion_matrix(y_test, preds)"
   ]
  },
  {
   "cell_type": "code",
   "execution_count": null,
   "id": "468cad55-d3cf-41d0-8ba2-25c0b8c63929",
   "metadata": {},
   "outputs": [],
   "source": [
    "# View confusion matrix\n",
    "disp = ConfusionMatrixDisplay(cm)\n",
    "disp.plot();"
   ]
  },
  {
   "cell_type": "code",
   "execution_count": null,
   "id": "d7ef6c96-e0ce-4fb2-a61e-63a7cf1c6829",
   "metadata": {},
   "outputs": [],
   "source": [
    "# Calculate F1 score\n",
    "print(f\"Model 4 F1 score: {f1_score(y_test, preds)}\")"
   ]
  },
  {
   "cell_type": "code",
   "execution_count": null,
   "id": "a051f13b-5fb5-4d00-87e4-d5dd6c2a6728",
   "metadata": {},
   "outputs": [],
   "source": [
    "gs4_features = gs4.best_estimator_[0].get_feature_names_out()\n"
   ]
  },
  {
   "cell_type": "code",
   "execution_count": null,
   "id": "9ba7e2d1-e7a4-486b-8b47-60bd9d9fd50c",
   "metadata": {},
   "outputs": [],
   "source": [
    "gs4_coef = np.exp(gs4.best_estimator_.named_steps.lr.coef_).T\n"
   ]
  },
  {
   "cell_type": "code",
   "execution_count": null,
   "id": "fe90e5e1-1e87-4aab-8107-99c2f0e4c321",
   "metadata": {},
   "outputs": [],
   "source": [
    "gs4_coef.shape"
   ]
  },
  {
   "cell_type": "code",
   "execution_count": null,
   "id": "26125833-d4ff-44bc-b882-6a1dd1e26ab9",
   "metadata": {},
   "outputs": [],
   "source": [
    "gs4_df = pd.DataFrame(gs4_coef, index=gs4_features, columns=['coef'])"
   ]
  },
  {
   "cell_type": "code",
   "execution_count": null,
   "id": "beb9a5e9-9fe8-48e5-a0e5-9a33d63ad0c9",
   "metadata": {},
   "outputs": [],
   "source": [
    "gs4_df.sort_values(by='coef', ascending=False).head(30)"
   ]
  },
  {
   "cell_type": "markdown",
   "id": "789ccdf3-8077-4ee9-a51b-9875961ce0fa",
   "metadata": {},
   "source": [
    "#### Model 5 - CountVectorizer + Decision Tree"
   ]
  },
  {
   "cell_type": "code",
   "execution_count": null,
   "id": "200e07ce-1456-4e07-951b-51999ebf8435",
   "metadata": {},
   "outputs": [],
   "source": [
    "# Set up pipeline, hyperparameters and GridSearch\n",
    "pipe5 = Pipeline([\n",
    "    ('cvec', TfidfVectorizer()),\n",
    "    ('dt', DecisionTreeClassifier())\n",
    "])\n",
    "\n",
    "pipe5_params = {\n",
    "    'cvec__max_features': [4000],            #[4500, 5000]\n",
    "    'cvec__min_df': [3],                     #[1, 2]\n",
    "    'cvec__max_df': [0.85],                  #[0.90, 0.80]\n",
    "    'cvec__ngram_range': [(1,3)],            #[(1,2), (1,4)]\n",
    "    'dt__ccp_alpha': [0],                   #[0.1, 1]                              \n",
    "    'dt__max_depth': [20],                   #[10, 30]             \n",
    "    'dt__min_samples_leaf': [1],             #[2, 5]\n",
    "    'dt__min_samples_split': [30],           #[10, 20, 40]\n",
    "    'dt__random_state': [42]                       \n",
    "}\n",
    "\n",
    "gs5 = GridSearchCV(pipe5,\n",
    "                   param_grid=pipe5_params, \n",
    "                   cv=5,\n",
    "                   n_jobs=-1,\n",
    "                   verbose=1\n",
    "                  )"
   ]
  },
  {
   "cell_type": "code",
   "execution_count": null,
   "id": "3185d568-30db-4eb5-84cc-52f7868f9522",
   "metadata": {
    "tags": []
   },
   "outputs": [],
   "source": [
    "gs5.get_params().keys()"
   ]
  },
  {
   "cell_type": "code",
   "execution_count": null,
   "id": "f37d2b29-e9ca-4e1c-bbd1-a69da53e09b2",
   "metadata": {
    "tags": []
   },
   "outputs": [],
   "source": [
    "%%time\n",
    "# Fit GridSearch to training data.\n",
    "gs5.fit(X_train, y_train)"
   ]
  },
  {
   "cell_type": "code",
   "execution_count": null,
   "id": "c642ea8b-b935-46ec-b22b-e15672d1653f",
   "metadata": {},
   "outputs": [],
   "source": [
    "# Model 5 best parameters\n",
    "gs5.best_params_"
   ]
  },
  {
   "cell_type": "code",
   "execution_count": null,
   "id": "b409f6a1-5f39-4705-846d-bdee1d4f7972",
   "metadata": {},
   "outputs": [],
   "source": [
    "print(f\"Model 5 Train score: {gs5.score(X_train, y_train)}\")\n",
    "print(f\"Model 5 Test score: {gs5.score(X_test, y_test)}\")\n",
    "print(f\"Model 5 CV score: {gs5.best_score_}\")"
   ]
  },
  {
   "cell_type": "code",
   "execution_count": null,
   "id": "f62d0b9f-051a-4941-b82b-dcccb45a1880",
   "metadata": {},
   "outputs": [],
   "source": [
    "# Get predictions\n",
    "preds = gs5.predict(X_test)\n",
    "\n",
    "# Save confusion matrix values\n",
    "tn, fp, fn, tp = confusion_matrix(y_test, preds).ravel()\n",
    "cm = confusion_matrix(y_test, preds)"
   ]
  },
  {
   "cell_type": "code",
   "execution_count": null,
   "id": "fc5b3dcd-3170-4f45-bfe0-4cf0c5cdaa82",
   "metadata": {},
   "outputs": [],
   "source": [
    "# View confusion matrix\n",
    "disp = ConfusionMatrixDisplay(cm)\n",
    "disp.plot();"
   ]
  },
  {
   "cell_type": "code",
   "execution_count": null,
   "id": "c6db364a-8f5d-405c-aa78-d92a183e8e63",
   "metadata": {},
   "outputs": [],
   "source": [
    "# Calculate F1 score\n",
    "print(f\"Model 5 F1 score: {f1_score(y_test, preds)}\")"
   ]
  },
  {
   "cell_type": "code",
   "execution_count": null,
   "id": "a158c86a-53c1-49db-9c50-ece3f148cb01",
   "metadata": {},
   "outputs": [],
   "source": [
    "gs5_features = gs5.best_estimator_[0].get_feature_names_out()"
   ]
  },
  {
   "cell_type": "code",
   "execution_count": null,
   "id": "f157caf8-3af4-4a36-9078-2aa4b8cd85c3",
   "metadata": {},
   "outputs": [],
   "source": [
    "gs5_coef = gs5.best_estimator_.steps[1][1].feature_importances_\n",
    "gs5_coef"
   ]
  },
  {
   "cell_type": "code",
   "execution_count": null,
   "id": "28c01dde-0d64-4c1e-81fb-d3b21500d853",
   "metadata": {},
   "outputs": [],
   "source": [
    "gs5_df = pd.DataFrame(gs5_coef, index=gs5_features, columns=['node_prob'])"
   ]
  },
  {
   "cell_type": "code",
   "execution_count": null,
   "id": "ad7f3cb7-8961-4f12-8b58-82573273f384",
   "metadata": {},
   "outputs": [],
   "source": [
    "gs5_df.sort_values(by='node_prob', ascending=False).head(30)"
   ]
  },
  {
   "cell_type": "markdown",
   "id": "d69d0796-497a-4f41-a9c6-fbe49d5fd020",
   "metadata": {},
   "source": [
    "#### Model 6 - TF-IDF Vectorizer + Decision Tree"
   ]
  },
  {
   "cell_type": "code",
   "execution_count": null,
   "id": "17268bd2-893b-4ddd-b761-4b6ae46d3614",
   "metadata": {},
   "outputs": [],
   "source": [
    "# Set up pipeline, hyperparameters and GridSearch\n",
    "pipe6 = Pipeline([\n",
    "    ('tvec', TfidfVectorizer()),\n",
    "    ('dt', DecisionTreeClassifier())\n",
    "])\n",
    "\n",
    "pipe6_params = {\n",
    "    'tvec__max_features': [4500],            #[4000, 5000, 5500]\n",
    "    'tvec__min_df': [1],                     #[2]\n",
    "    'tvec__max_df': [0.85],                  #[0.80, 0.90]\n",
    "    'tvec__ngram_range': [(1,2)],            #[(1,3)]\n",
    "    'dt__ccp_alpha': [0] ,                   #[0.01, 0.1, 1, 10]                              \n",
    "    'dt__max_depth': [20],                   #[None, 5, 10]             \n",
    "    'dt__min_samples_leaf': [1],             #[2, 5, 10]\n",
    "    'dt__min_samples_split': [20],           #[2,10,20,50]\n",
    "    'dt__random_state': [42]                       \n",
    "}\n",
    "\n",
    "gs6 = GridSearchCV(pipe6,\n",
    "                   param_grid=pipe6_params, \n",
    "                   cv=5,\n",
    "                   n_jobs=-1,\n",
    "                   verbose=1\n",
    "                  )"
   ]
  },
  {
   "cell_type": "code",
   "execution_count": null,
   "id": "9fefdc47-d89f-4af4-a239-1cba8afe21b7",
   "metadata": {
    "tags": []
   },
   "outputs": [],
   "source": [
    "gs6.get_params().keys()"
   ]
  },
  {
   "cell_type": "code",
   "execution_count": null,
   "id": "538eb97c-fbd9-4341-8514-98e93b5f907c",
   "metadata": {
    "tags": []
   },
   "outputs": [],
   "source": [
    "%%time\n",
    "# Fit GridSearch to training data.\n",
    "gs6.fit(X_train, y_train)"
   ]
  },
  {
   "cell_type": "code",
   "execution_count": null,
   "id": "979251dc-2886-4cfc-b99e-7173c63fe065",
   "metadata": {},
   "outputs": [],
   "source": [
    "# Model 6 best parameters\n",
    "gs6.best_params_"
   ]
  },
  {
   "cell_type": "code",
   "execution_count": null,
   "id": "d20917f0-8f5d-4ccb-933a-d5630b464769",
   "metadata": {},
   "outputs": [],
   "source": [
    "print(f\"Model 6 Train score: {gs6.score(X_train, y_train)}\")\n",
    "print(f\"Model 6 Test score: {gs6.score(X_test, y_test)}\")\n",
    "print(f\"Model 6 CV score: {gs6.best_score_}\")"
   ]
  },
  {
   "cell_type": "code",
   "execution_count": null,
   "id": "014c9eb6-040b-421e-bba7-80b3eaea73df",
   "metadata": {},
   "outputs": [],
   "source": [
    "# Get predictions\n",
    "preds = gs6.predict(X_test)\n",
    "\n",
    "# Save confusion matrix values\n",
    "tn, fp, fn, tp = confusion_matrix(y_test, preds).ravel()\n",
    "cm = confusion_matrix(y_test, preds)"
   ]
  },
  {
   "cell_type": "code",
   "execution_count": null,
   "id": "a0ee8123-a9fd-46a8-b773-372442126156",
   "metadata": {},
   "outputs": [],
   "source": [
    "# View confusion matrix\n",
    "disp = ConfusionMatrixDisplay(cm)\n",
    "disp.plot();"
   ]
  },
  {
   "cell_type": "code",
   "execution_count": null,
   "id": "2c722bed-6ed4-4620-8ae5-12e3c078813e",
   "metadata": {},
   "outputs": [],
   "source": [
    "# Calculate F1 score\n",
    "print(f\"Model 6 F1 score: {f1_score(y_test, preds)}\")"
   ]
  },
  {
   "cell_type": "code",
   "execution_count": null,
   "id": "8875dab5-6126-46d9-9308-916cfcf32d42",
   "metadata": {},
   "outputs": [],
   "source": [
    "gs6_features = gs6.best_estimator_[0].get_feature_names_out()\n",
    "gs6_features"
   ]
  },
  {
   "cell_type": "code",
   "execution_count": null,
   "id": "553b90e1-7c2a-49fd-8c5a-b61e88856b05",
   "metadata": {},
   "outputs": [],
   "source": [
    "gs6_coef = gs6.best_estimator_.steps[1][1].feature_importances_\n",
    "gs6_coef"
   ]
  },
  {
   "cell_type": "code",
   "execution_count": null,
   "id": "23c2cf39-6204-4815-9194-cb3b5d1b92bf",
   "metadata": {},
   "outputs": [],
   "source": [
    "gs6_df = pd.DataFrame(gs6_coef, index=gs6_features, columns=['node_prob'])"
   ]
  },
  {
   "cell_type": "code",
   "execution_count": null,
   "id": "4c07e999-9291-4af9-b4c1-b5f2704ed6ce",
   "metadata": {},
   "outputs": [],
   "source": [
    "gs6_df.sort_values(by='node_prob', ascending=False).head(30)"
   ]
  },
  {
   "cell_type": "markdown",
   "id": "9e9f245f-3f61-4512-a11e-ab3960282edf",
   "metadata": {},
   "source": [
    "#### Model 7 - CountVectorizer + Random Forest"
   ]
  },
  {
   "cell_type": "code",
   "execution_count": null,
   "id": "08d64118-9482-4f61-b00c-e40fa87ccf71",
   "metadata": {},
   "outputs": [],
   "source": [
    "# Set up pipeline, hyperparameters and GridSearch\n",
    "pipe7 = Pipeline([\n",
    "    ('cvec', CountVectorizer()),\n",
    "    ('rt', RandomForestClassifier())\n",
    "])\n",
    "\n",
    "pipe7_params = {\n",
    "    'cvec__max_features': [4500],         #[4000, 5000]      \n",
    "    'cvec__min_df': [1],                  #[2]        \n",
    "    'cvec__max_df': [0.85],               #[0.90]\n",
    "    'cvec__ngram_range': [(1,2)],         #[(1,3)]     \n",
    "    'rt__ccp_alpha': [0],                 #[1, 0.1]         \n",
    "    'rt__max_depth': [None],              #[20]         \n",
    "    'rt__min_samples_leaf': [1],            \n",
    "    'rt__min_samples_split': [40],        #[20, 60] \n",
    "    'rt__n_estimators': [200],            #[100, 300]\n",
    "    'rt__random_state': [42]                   \n",
    "}\n",
    "\n",
    "gs7 = GridSearchCV(pipe7,\n",
    "                   param_grid=pipe7_params, \n",
    "                   cv=5,\n",
    "                   n_jobs=-1,\n",
    "                   verbose=1\n",
    "                  )"
   ]
  },
  {
   "cell_type": "code",
   "execution_count": null,
   "id": "a7546626-1503-4a49-abda-e4f9bdd759e0",
   "metadata": {},
   "outputs": [],
   "source": [
    "gs7.get_params().keys()"
   ]
  },
  {
   "cell_type": "code",
   "execution_count": null,
   "id": "0b2089bf-e215-4c1f-8dba-41d0c6e16b4c",
   "metadata": {
    "tags": []
   },
   "outputs": [],
   "source": [
    "%%time\n",
    "# Fit GridSearch to training data.\n",
    "gs7.fit(X_train, y_train)"
   ]
  },
  {
   "cell_type": "code",
   "execution_count": null,
   "id": "51cd5824-376a-4180-9b67-d67ee106fa24",
   "metadata": {},
   "outputs": [],
   "source": [
    "# Model 7 best parameters\n",
    "gs7.best_params_"
   ]
  },
  {
   "cell_type": "code",
   "execution_count": null,
   "id": "7974a089-f537-4081-b0b7-a1c83c916acc",
   "metadata": {},
   "outputs": [],
   "source": [
    "print(f\"Model 7 Train score: {gs7.score(X_train, y_train)}\")\n",
    "print(f\"Model 7 Test score: {gs7.score(X_test, y_test)}\")\n",
    "print(f\"Model 7 CV score: {gs7.best_score_}\")"
   ]
  },
  {
   "cell_type": "code",
   "execution_count": null,
   "id": "fdf03c0a-7508-4e84-9ead-935b65b73be1",
   "metadata": {},
   "outputs": [],
   "source": [
    "# Get predictions\n",
    "preds = gs7.predict(X_test)\n",
    "\n",
    "# Save confusion matrix values\n",
    "tn, fp, fn, tp = confusion_matrix(y_test, preds).ravel()\n",
    "cm = confusion_matrix(y_test, preds)"
   ]
  },
  {
   "cell_type": "code",
   "execution_count": null,
   "id": "60745918-73dc-4e0f-beeb-f7d1874780ab",
   "metadata": {},
   "outputs": [],
   "source": [
    "# Calculate F1 score\n",
    "print(f\"Model 7 F1 score: {f1_score(y_test, preds)}\")"
   ]
  },
  {
   "cell_type": "code",
   "execution_count": null,
   "id": "b4a07413-0b3d-4365-8ba0-e66db5b4666e",
   "metadata": {},
   "outputs": [],
   "source": [
    "gs7_features = gs7.best_estimator_[0].get_feature_names_out()"
   ]
  },
  {
   "cell_type": "code",
   "execution_count": null,
   "id": "ac8076d4-62ee-41d9-8692-c798aa34bfd6",
   "metadata": {},
   "outputs": [],
   "source": [
    "gs7_coef = gs7.best_estimator_.steps[1][1].feature_importances_\n",
    "gs7_coef"
   ]
  },
  {
   "cell_type": "code",
   "execution_count": null,
   "id": "e64a3615-a8e5-42b6-9eeb-447468533863",
   "metadata": {},
   "outputs": [],
   "source": [
    "gs7_df = pd.DataFrame(gs7_coef, index=gs7_features, columns=['node_prob'])"
   ]
  },
  {
   "cell_type": "code",
   "execution_count": null,
   "id": "161bdc7f-1936-4acb-b689-5d77458d99e8",
   "metadata": {},
   "outputs": [],
   "source": [
    "gs7_df.sort_values(by='node_prob', ascending=False).head(30)"
   ]
  },
  {
   "cell_type": "markdown",
   "id": "dcc82987-2617-4121-80c1-89cf613b4046",
   "metadata": {},
   "source": [
    "#### Model 8 - TF-IDF Vectorizer + Random Forest"
   ]
  },
  {
   "cell_type": "code",
   "execution_count": null,
   "id": "3c36c280-f57a-4a44-a6ba-692cdaa54447",
   "metadata": {},
   "outputs": [],
   "source": [
    "# Set up pipeline, hyperparameters and GridSearch\n",
    "pipe8 = Pipeline([\n",
    "    ('tvec', TfidfVectorizer()),\n",
    "    ('rt', RandomForestClassifier())\n",
    "])\n",
    "\n",
    "pipe8_params = {\n",
    "    'tvec__max_features': [4500],      #[4000, 5000]      \n",
    "    'tvec__min_df': [2],               #[1,3 ]        \n",
    "    'tvec__max_df': [0.85],                  \n",
    "    'tvec__ngram_range': [(1,3)],      #[(1,2), (1,4)]     \n",
    "    'rt__ccp_alpha': [0],                              \n",
    "    'rt__max_depth': [None],           #[20]         \n",
    "    'rt__min_samples_leaf': [1],            \n",
    "    'rt__min_samples_split': [40],    #[20, 60] \n",
    "    'rt__n_estimators': [200],         # [100, 300]\n",
    "    'rt__random_state': [42]                     \n",
    "}\n",
    "\n",
    "gs8 = GridSearchCV(pipe8,\n",
    "                   param_grid=pipe8_params, \n",
    "                   cv=5,\n",
    "                   n_jobs=-1,\n",
    "                   verbose=1\n",
    "                  )"
   ]
  },
  {
   "cell_type": "code",
   "execution_count": null,
   "id": "3710e752-8ea6-4d12-ba22-65b85ba4d3ec",
   "metadata": {
    "tags": []
   },
   "outputs": [],
   "source": [
    "%%time\n",
    "# Fit GridSearch to training data.\n",
    "gs8.fit(X_train, y_train)"
   ]
  },
  {
   "cell_type": "code",
   "execution_count": null,
   "id": "fce5a276-a341-4fa2-9fd2-b7db920ba53c",
   "metadata": {},
   "outputs": [],
   "source": [
    "# Model 8 best parameters\n",
    "gs8.best_params_"
   ]
  },
  {
   "cell_type": "code",
   "execution_count": null,
   "id": "db6330ef-0604-4099-ad57-5456ff315945",
   "metadata": {},
   "outputs": [],
   "source": [
    "print(f\"Model 8 Train score: {gs8.score(X_train, y_train)}\")\n",
    "print(f\"Model 8 Test score: {gs8.score(X_test, y_test)}\")\n",
    "print(f\"Model 8 CV score: {gs8.best_score_}\")"
   ]
  },
  {
   "cell_type": "code",
   "execution_count": null,
   "id": "53a7f09a-86a4-4612-ad74-135701cd719d",
   "metadata": {},
   "outputs": [],
   "source": [
    "# Get predictions\n",
    "preds = gs8.predict(X_test)\n",
    "\n",
    "# Save confusion matrix values\n",
    "tn, fp, fn, tp = confusion_matrix(y_test, preds).ravel()\n",
    "cm = confusion_matrix(y_test, preds)"
   ]
  },
  {
   "cell_type": "code",
   "execution_count": null,
   "id": "ba153164-019c-4544-989e-33e489cbcc04",
   "metadata": {},
   "outputs": [],
   "source": [
    "# View confusion matrix\n",
    "disp = ConfusionMatrixDisplay(cm)\n",
    "disp.plot();"
   ]
  },
  {
   "cell_type": "code",
   "execution_count": null,
   "id": "8184d454-e4ca-4fad-96fd-22ff46c08257",
   "metadata": {},
   "outputs": [],
   "source": [
    "# Calculate F1 score\n",
    "print(f\"Model 8 F1 score: {f1_score(y_test, preds)}\")"
   ]
  },
  {
   "cell_type": "code",
   "execution_count": null,
   "id": "47b34c17-d9e6-4288-b99a-86616cba66e9",
   "metadata": {},
   "outputs": [],
   "source": [
    "gs8_features = gs8.best_estimator_[0].get_feature_names_out()"
   ]
  },
  {
   "cell_type": "code",
   "execution_count": null,
   "id": "e7971d55-5bca-45bf-9ea7-3e5560228daf",
   "metadata": {},
   "outputs": [],
   "source": [
    "gs8_coef = gs8.best_estimator_.steps[1][1].feature_importances_\n",
    "gs8_coef"
   ]
  },
  {
   "cell_type": "code",
   "execution_count": null,
   "id": "a7dddb6f-c904-48a4-97ba-54a56adc8ed9",
   "metadata": {},
   "outputs": [],
   "source": [
    "gs8_df = pd.DataFrame(gs8_coef, index=gs8_features, columns=['node_prob'])"
   ]
  },
  {
   "cell_type": "code",
   "execution_count": null,
   "id": "9f2ecfff-11f4-4ad5-ae6a-51fcb4db48b3",
   "metadata": {},
   "outputs": [],
   "source": [
    "gs8_df.sort_values(by='node_prob', ascending=False).head(30)"
   ]
  },
  {
   "cell_type": "markdown",
   "id": "2d58042b-1c79-43c7-95bd-7f2bde3be4f4",
   "metadata": {},
   "source": [
    "## Summary"
   ]
  },
  {
   "cell_type": "markdown",
   "id": "7752f8c6-995c-4881-9c5d-9f55e7d8c5c3",
   "metadata": {},
   "source": [
    "#### Classification Models"
   ]
  },
  {
   "cell_type": "markdown",
   "id": "6d7b09f0-7644-4ecd-9a9e-dc62cb5a3799",
   "metadata": {},
   "source": [
    "| Classification Model                       | Train Score | Test Score | Cross Val Score | F1 Score |\n",
    "|--------------------------------------------|-------------|------------|-----------------|----------|\n",
    "| 1. CountVectorizer + Multinomial NB        | 0.79849     | 0.73531    | 0.74214         | 0.82652  |\n",
    "| 2. TF-IDF Vectorizer + Multinomial NB      | 0.79223     | 0.74093    | 0.74840         | 0.83910  |\n",
    "| 3. CountVectorizer + Logistic Regression   | 0.83453     | 0.74604    | 0.75019         | 0.83710  |\n",
    "| **4. TF-IDF Vectorizer + Logistic Regression** | **0.81919**     | **0.75013**    | **0.75300**         | **0.84077**  |\n",
    "| 5. CountVectorizer + Decision Tree         | 0.78469     | 0.72305    | 0.72451         | 0.82750  |\n",
    "| 6. TF IDF Vectorizer + Decision Tree       | 0.78776     | 0.71794    | 0.72170         | 0.82432  |\n",
    "| 7. CountVectorizer + Random Forest         | 0.93087     | 0.73020    | 0.73869         | 0.83088  |\n",
    "| 8. TF IDF Vectorizer + Random Forest       | 0.96179     | 0.73684    | 0.74240         | 0.83252  |"
   ]
  },
  {
   "cell_type": "markdown",
   "id": "3c2945ed-be52-4993-b3b2-f7b7147e5e65",
   "metadata": {},
   "source": [
    "Results from the various models are summarised in the table above. The best performing model is using a combination of TF-IDF Vectorizer and Logistic Regression, obtaining the highest cross-validation and f1 score among all the models. \n",
    "\n",
    "All of the models are overfitted, with higher performance score observed on the train dataset and lower score on test dataset. By applying k-fold cross validation, the models are able to learn from more dataset and thus reducing overfitting. Therefore, the cross-validation scores obtained are much to their respective test scores. \n",
    "\n",
    "The classification models used did not obtain a much higher score over our baseline score. This is likely due to the imbalanced dataset used. The F1 score is calculated as it gives a better measure of incorrectly classified posts than accuracy score, using the harmonic mean to penalize extreme values. In our case, false positives and false negatives are of equal importance, hence F1 score is used.\n"
   ]
  },
  {
   "cell_type": "code",
   "execution_count": null,
   "id": "01122559-bd27-4f42-b5f0-85ec3c80cf74",
   "metadata": {},
   "outputs": [],
   "source": [
    "# ROC curve\n",
    "RocCurveDisplay.from_estimator(gs4, X_test, y_test)\n",
    "\n",
    "# add worst case scenario line\n",
    "plt.plot([0,1], [0,1], label='baseline', linestyle='--')\n",
    "\n",
    "# add a legend\n",
    "plt.legend();"
   ]
  },
  {
   "cell_type": "code",
   "execution_count": null,
   "id": "27cb58b1-bb60-4cbb-b97f-b97a50d2f22b",
   "metadata": {},
   "outputs": [],
   "source": [
    "# Calculate ROC AUC.\n",
    "roc_auc_score(y_test, gs4.predict_proba(X_test)[:,1])"
   ]
  },
  {
   "cell_type": "markdown",
   "id": "a1399b01-b0a7-4aff-960a-10c9142d316a",
   "metadata": {},
   "source": [
    "#### Top features"
   ]
  },
  {
   "cell_type": "code",
   "execution_count": null,
   "id": "0c893d91-2cc5-4815-8981-b56a242445f2",
   "metadata": {},
   "outputs": [],
   "source": [
    "model_df = gs4_df.sort_values(by='coef', ascending=False).head(30)"
   ]
  },
  {
   "cell_type": "code",
   "execution_count": null,
   "id": "a5448bf4-ae4e-43bf-b5e1-6d042a082f5c",
   "metadata": {},
   "outputs": [],
   "source": [
    "plt.figure(figsize = (15,8))\n",
    "ax = sns.barplot(data=model_df, y=model_df.index, x='coef', color='slateblue')\n",
    "plt.ylabel('features', size=14)\n",
    "plt.xlabel('coefficient', size=14)\n",
    "plt.title('Top 30 features with highest coefficients', size=14);"
   ]
  },
  {
   "cell_type": "markdown",
   "id": "c1779a76-3e4a-47f2-ac53-471229bcae1e",
   "metadata": {},
   "source": [
    "From the list of top 30 words generated, 'trailer' has obtained the highest coefficient, which is likely referring to discussions of upcoming games to be released. Other words such as 'upgrade', 'preview' and 'development' also contribute to the list of features for r/PS5, reflecting the ongoing changes and development for the console. There are technical terms such as the DualSense wireless controller and Variable Refresh Rate (VRR) specific to PS5 listed here. Lastly, game titles exclusive to the PS5 such as 'Bloodhunt' and 'Returnal' are included as well.\n"
   ]
  },
  {
   "cell_type": "markdown",
   "id": "b9d2fed8-6b2c-4d00-a6f2-07df330d5928",
   "metadata": {},
   "source": [
    "## Recommendations and Future Works\n",
    "\n"
   ]
  },
  {
   "cell_type": "markdown",
   "id": "9c3fc02a-37dc-43a8-8422-2478df8ce8fc",
   "metadata": {},
   "source": [
    "We have created a classification model using TF-IDF Vectorizer and Logistic Regression to differentiate between r/PS5 and r/PS4 posts. Gamers can use the classifier to determine which subreddit is more suitable to submit their post.\n",
    "\n",
    "Our best model did not obtain a relatively higher score over our baseline model, likely due to the imbalanced dataset. To improve our model, we can consider scrapping more data from the subreddits and obtain a more balanced dataset to work with. Other classification models such as Support Vector Machines or K Nearest Neighbors can be explored and reviewed. \n",
    "\n",
    "For future works, we could expand the project to further classify other similar subreddits such as [r/playstation](https://www.reddit.com/r/playstation/) or [r/gaming](https://www.reddit.com/r/gaming/). Given that images and videos are commonly used in Reddit posts, we can consider decoding and adding such features to our models."
   ]
  },
  {
   "cell_type": "code",
   "execution_count": null,
   "id": "c14d4d33-0396-4c57-99d8-c0e09b2f7b1f",
   "metadata": {},
   "outputs": [],
   "source": []
  }
 ],
 "metadata": {
  "kernelspec": {
   "display_name": "Python 3 (ipykernel)",
   "language": "python",
   "name": "python3"
  },
  "language_info": {
   "codemirror_mode": {
    "name": "ipython",
    "version": 3
   },
   "file_extension": ".py",
   "mimetype": "text/x-python",
   "name": "python",
   "nbconvert_exporter": "python",
   "pygments_lexer": "ipython3",
   "version": "3.8.13"
  }
 },
 "nbformat": 4,
 "nbformat_minor": 5
}
