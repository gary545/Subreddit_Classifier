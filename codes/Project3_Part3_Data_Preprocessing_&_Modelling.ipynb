{
 "cells": [
  {
   "cell_type": "markdown",
   "id": "4748e237-f777-4f7e-9382-bc72da1fc836",
   "metadata": {},
   "source": [
    "# Project 3: Web APIs & NLP"
   ]
  },
  {
   "cell_type": "markdown",
   "id": "adc6f5f7-324d-4eab-b8c8-fe19efab38c1",
   "metadata": {},
   "source": [
    "---\n",
    "\n",
    "## Part 3: Data Preprocessing & Modelling\n",
    "\n",
    "### Contents:\n",
    "\n",
    "- [Data Preprocessing](#Data-Preprocessing)\n",
    "- [Modelling](#Modelling)\n",
    "- [Summary](#Summary)\n",
    "- [Recommendations and Future Works](#Recommendations-and-Future-Works)\n",
    "\n",
    "---"
   ]
  },
  {
   "cell_type": "markdown",
   "id": "71377c43-88c1-4d4e-8447-99af23702916",
   "metadata": {},
   "source": [
    "#### Import libraries"
   ]
  },
  {
   "cell_type": "code",
   "execution_count": 1,
   "id": "e0235b6f-c8f3-48ee-a506-7f9896f43352",
   "metadata": {},
   "outputs": [],
   "source": [
    "import pandas as pd\n",
    "import numpy as np\n",
    "import matplotlib.pyplot as plt\n",
    "import seaborn as sns\n",
    "import re\n",
    "\n",
    "from bs4 import BeautifulSoup\n",
    "\n",
    "from nltk.tokenize import sent_tokenize, word_tokenize, RegexpTokenizer\n",
    "from nltk.stem import WordNetLemmatizer\n",
    "from nltk.stem.porter import PorterStemmer\n",
    "from nltk.corpus import stopwords\n",
    "from nltk.sentiment.vader import SentimentIntensityAnalyzer\n",
    "\n",
    "from sklearn.model_selection import train_test_split, GridSearchCV\n",
    "from sklearn.linear_model import LogisticRegression\n",
    "from sklearn.pipeline import Pipeline\n",
    "from sklearn.naive_bayes import MultinomialNB\n",
    "from sklearn.metrics import (confusion_matrix, ConfusionMatrixDisplay,\n",
    "accuracy_score, f1_score, plot_roc_curve, roc_auc_score, RocCurveDisplay)\n",
    "from sklearn.feature_extraction.text import CountVectorizer, TfidfVectorizer\n",
    "from sklearn.tree import DecisionTreeClassifier\n",
    "from sklearn.ensemble import BaggingClassifier, RandomForestClassifier, ExtraTreesClassifier"
   ]
  },
  {
   "cell_type": "markdown",
   "id": "55f36201-0ff0-47c6-b275-8228e0cb649e",
   "metadata": {},
   "source": [
    "#### Read in datasets"
   ]
  },
  {
   "cell_type": "code",
   "execution_count": 2,
   "id": "054d4877-042e-4f38-b0d7-5208010d4f9b",
   "metadata": {},
   "outputs": [],
   "source": [
    "ps4 = pd.read_csv(\"../datasets/ps4_clean.csv\")\n",
    "ps5 = pd.read_csv(\"../datasets/ps5_clean.csv\")"
   ]
  },
  {
   "cell_type": "code",
   "execution_count": 3,
   "id": "2ebbbfd2-0100-47d0-961a-5d633ce4b2dd",
   "metadata": {},
   "outputs": [
    {
     "name": "stdout",
     "output_type": "stream",
     "text": [
      "<class 'pandas.core.frame.DataFrame'>\n",
      "RangeIndex: 2883 entries, 0 to 2882\n",
      "Data columns (total 4 columns):\n",
      " #   Column     Non-Null Count  Dtype \n",
      "---  ------     --------------  ----- \n",
      " 0   subreddit  2883 non-null   object\n",
      " 1   id         2883 non-null   object\n",
      " 2   title      2883 non-null   object\n",
      " 3   selftext   2883 non-null   object\n",
      "dtypes: object(4)\n",
      "memory usage: 90.2+ KB\n"
     ]
    }
   ],
   "source": [
    "ps4.info()"
   ]
  },
  {
   "cell_type": "code",
   "execution_count": 4,
   "id": "a2acdfd2-61e9-4793-b3fc-cbf0fda25d61",
   "metadata": {},
   "outputs": [
    {
     "name": "stdout",
     "output_type": "stream",
     "text": [
      "<class 'pandas.core.frame.DataFrame'>\n",
      "RangeIndex: 6900 entries, 0 to 6899\n",
      "Data columns (total 4 columns):\n",
      " #   Column     Non-Null Count  Dtype \n",
      "---  ------     --------------  ----- \n",
      " 0   subreddit  6900 non-null   object\n",
      " 1   id         6900 non-null   object\n",
      " 2   title      6900 non-null   object\n",
      " 3   selftext   6900 non-null   object\n",
      "dtypes: object(4)\n",
      "memory usage: 215.8+ KB\n"
     ]
    }
   ],
   "source": [
    "ps5.info()"
   ]
  },
  {
   "cell_type": "markdown",
   "id": "c07eff4e-6cc6-441c-abfc-b72b524dee09",
   "metadata": {},
   "source": [
    "## Data Preprocessing"
   ]
  },
  {
   "cell_type": "code",
   "execution_count": 5,
   "id": "769605bc-1eea-41f0-991e-97472df805cc",
   "metadata": {},
   "outputs": [],
   "source": [
    "# Merge both dataframes\n",
    "df = pd.concat([ps4, ps5], axis=0) "
   ]
  },
  {
   "cell_type": "code",
   "execution_count": 6,
   "id": "0c2ac6c5-aec6-4ebd-a6b6-854fa839b846",
   "metadata": {},
   "outputs": [
    {
     "data": {
      "text/plain": [
       "(9783, 4)"
      ]
     },
     "execution_count": 6,
     "metadata": {},
     "output_type": "execute_result"
    }
   ],
   "source": [
    "df.shape"
   ]
  },
  {
   "cell_type": "code",
   "execution_count": 7,
   "id": "a86fcb24-983c-4428-8427-5b7148277e44",
   "metadata": {},
   "outputs": [
    {
     "name": "stdout",
     "output_type": "stream",
     "text": [
      "<class 'pandas.core.frame.DataFrame'>\n",
      "Int64Index: 9783 entries, 0 to 6899\n",
      "Data columns (total 4 columns):\n",
      " #   Column     Non-Null Count  Dtype \n",
      "---  ------     --------------  ----- \n",
      " 0   subreddit  9783 non-null   object\n",
      " 1   id         9783 non-null   object\n",
      " 2   title      9783 non-null   object\n",
      " 3   selftext   9783 non-null   object\n",
      "dtypes: object(4)\n",
      "memory usage: 382.1+ KB\n"
     ]
    }
   ],
   "source": [
    "df.info()"
   ]
  },
  {
   "cell_type": "markdown",
   "id": "f68297a7-a79c-49da-9314-771784dd6916",
   "metadata": {},
   "source": [
    "#### Binarize target variable"
   ]
  },
  {
   "cell_type": "markdown",
   "id": "da938971-426f-44a7-a205-d6ced800d2ca",
   "metadata": {},
   "source": [
    "Convert PS4 and PS5 in `subreddit` into binary labels:\n",
    " - 0 for PS4\n",
    " - 1 for PS5"
   ]
  },
  {
   "cell_type": "code",
   "execution_count": 8,
   "id": "09ccf640-dd34-48a4-a969-e07145aced8e",
   "metadata": {},
   "outputs": [],
   "source": [
    "df['subreddit'] = df['subreddit'].map({'PS4': 0, 'PS5': 1})"
   ]
  },
  {
   "cell_type": "code",
   "execution_count": 9,
   "id": "3c7e59dd-3657-4f90-9798-c50a2fb347f3",
   "metadata": {},
   "outputs": [
    {
     "data": {
      "text/plain": [
       "1    6900\n",
       "0    2883\n",
       "Name: subreddit, dtype: int64"
      ]
     },
     "execution_count": 9,
     "metadata": {},
     "output_type": "execute_result"
    }
   ],
   "source": [
    "df['subreddit'].value_counts()"
   ]
  },
  {
   "cell_type": "markdown",
   "id": "b24b532f-43b7-4a49-a50a-55a7077b1fc5",
   "metadata": {},
   "source": [
    "After data cleaning, we find that there are more valid posts retrieved from PS5 subreddit than PS4.\n",
    "\n",
    "As the PS5 is the latest gaming console from Sony, we can expect more active discussions in terms of new game releases, announcements and reviews made, as compared to the PS4, resulting in higher number of valid posts.\n",
    "\n",
    "With an imbalanced dataset, we can use other metrics such as the F1 score to assess the classifier."
   ]
  },
  {
   "cell_type": "markdown",
   "id": "4d9dbe82-7285-4d92-ba41-63b9b5d9a8f9",
   "metadata": {},
   "source": [
    "#### Engineer new feature `post`"
   ]
  },
  {
   "cell_type": "markdown",
   "id": "176b1215-29d9-49fe-b16f-dd12297993d7",
   "metadata": {},
   "source": [
    "During data cleaning, many `selftext` rows are found blank. However, we can still utilise the words from `title`. We will engineer a new feature called `post` by combining `title` and `selftext`, in order to build on the list of features for modelling."
   ]
  },
  {
   "cell_type": "code",
   "execution_count": 10,
   "id": "03d8c864-27f7-4652-af82-a8e080b8ab80",
   "metadata": {},
   "outputs": [],
   "source": [
    "# Create new `post` consisting of `title` and `selftext`\n",
    "df['post'] = df['title'] + ' ' + df['selftext']"
   ]
  },
  {
   "cell_type": "code",
   "execution_count": 11,
   "id": "66de39cb-bba0-4d20-b9c8-2963e6b0297d",
   "metadata": {},
   "outputs": [
    {
     "data": {
      "text/html": [
       "<div>\n",
       "<style scoped>\n",
       "    .dataframe tbody tr th:only-of-type {\n",
       "        vertical-align: middle;\n",
       "    }\n",
       "\n",
       "    .dataframe tbody tr th {\n",
       "        vertical-align: top;\n",
       "    }\n",
       "\n",
       "    .dataframe thead th {\n",
       "        text-align: right;\n",
       "    }\n",
       "</style>\n",
       "<table border=\"1\" class=\"dataframe\">\n",
       "  <thead>\n",
       "    <tr style=\"text-align: right;\">\n",
       "      <th></th>\n",
       "      <th>subreddit</th>\n",
       "      <th>id</th>\n",
       "      <th>title</th>\n",
       "      <th>selftext</th>\n",
       "      <th>post</th>\n",
       "    </tr>\n",
       "  </thead>\n",
       "  <tbody>\n",
       "    <tr>\n",
       "      <th>0</th>\n",
       "      <td>0</td>\n",
       "      <td>vobgp9</td>\n",
       "      <td>How long do you play a game before you decide ...</td>\n",
       "      <td>I know that some games take some time to reall...</td>\n",
       "      <td>How long do you play a game before you decide ...</td>\n",
       "    </tr>\n",
       "    <tr>\n",
       "      <th>1</th>\n",
       "      <td>0</td>\n",
       "      <td>vob0uc</td>\n",
       "      <td>God of War Ragnarok Release Date Announcement ...</td>\n",
       "      <td></td>\n",
       "      <td>God of War Ragnarok Release Date Announcement ...</td>\n",
       "    </tr>\n",
       "  </tbody>\n",
       "</table>\n",
       "</div>"
      ],
      "text/plain": [
       "   subreddit      id                                              title  \\\n",
       "0          0  vobgp9  How long do you play a game before you decide ...   \n",
       "1          0  vob0uc  God of War Ragnarok Release Date Announcement ...   \n",
       "\n",
       "                                            selftext  \\\n",
       "0  I know that some games take some time to reall...   \n",
       "1                                                      \n",
       "\n",
       "                                                post  \n",
       "0  How long do you play a game before you decide ...  \n",
       "1  God of War Ragnarok Release Date Announcement ...  "
      ]
     },
     "execution_count": 11,
     "metadata": {},
     "output_type": "execute_result"
    }
   ],
   "source": [
    "df.head(2)"
   ]
  },
  {
   "cell_type": "code",
   "execution_count": 12,
   "id": "73c4ad03-f856-49cb-814a-e36781931ab1",
   "metadata": {},
   "outputs": [],
   "source": [
    "# Drop unwanted features\n",
    "df.drop(['id', 'title', 'selftext'], axis=1, inplace=True)"
   ]
  },
  {
   "cell_type": "code",
   "execution_count": 13,
   "id": "3a57219e-6bba-484e-873c-2cf945733b72",
   "metadata": {},
   "outputs": [
    {
     "data": {
      "text/html": [
       "<div>\n",
       "<style scoped>\n",
       "    .dataframe tbody tr th:only-of-type {\n",
       "        vertical-align: middle;\n",
       "    }\n",
       "\n",
       "    .dataframe tbody tr th {\n",
       "        vertical-align: top;\n",
       "    }\n",
       "\n",
       "    .dataframe thead th {\n",
       "        text-align: right;\n",
       "    }\n",
       "</style>\n",
       "<table border=\"1\" class=\"dataframe\">\n",
       "  <thead>\n",
       "    <tr style=\"text-align: right;\">\n",
       "      <th></th>\n",
       "      <th>subreddit</th>\n",
       "      <th>post</th>\n",
       "    </tr>\n",
       "  </thead>\n",
       "  <tbody>\n",
       "    <tr>\n",
       "      <th>0</th>\n",
       "      <td>0</td>\n",
       "      <td>How long do you play a game before you decide ...</td>\n",
       "    </tr>\n",
       "    <tr>\n",
       "      <th>1</th>\n",
       "      <td>0</td>\n",
       "      <td>God of War Ragnarok Release Date Announcement ...</td>\n",
       "    </tr>\n",
       "    <tr>\n",
       "      <th>2</th>\n",
       "      <td>0</td>\n",
       "      <td>One Piece Odyssey - Gameplay</td>\n",
       "    </tr>\n",
       "    <tr>\n",
       "      <th>3</th>\n",
       "      <td>0</td>\n",
       "      <td>One Piece Odyssey - Dev Diary</td>\n",
       "    </tr>\n",
       "    <tr>\n",
       "      <th>4</th>\n",
       "      <td>0</td>\n",
       "      <td>Upgrade Ps4 to Ps5 I have the original Ps4 and...</td>\n",
       "    </tr>\n",
       "  </tbody>\n",
       "</table>\n",
       "</div>"
      ],
      "text/plain": [
       "   subreddit                                               post\n",
       "0          0  How long do you play a game before you decide ...\n",
       "1          0  God of War Ragnarok Release Date Announcement ...\n",
       "2          0                     One Piece Odyssey - Gameplay  \n",
       "3          0                    One Piece Odyssey - Dev Diary  \n",
       "4          0  Upgrade Ps4 to Ps5 I have the original Ps4 and..."
      ]
     },
     "execution_count": 13,
     "metadata": {},
     "output_type": "execute_result"
    }
   ],
   "source": [
    "df.head()"
   ]
  },
  {
   "cell_type": "code",
   "execution_count": 14,
   "id": "48188479-1411-4d11-bf27-a1c22fab0019",
   "metadata": {},
   "outputs": [],
   "source": [
    "df.to_csv(\"../datasets/combined.csv\", index=False)"
   ]
  },
  {
   "cell_type": "markdown",
   "id": "35145afa-0caf-40a9-9edc-dc75bfcb3a75",
   "metadata": {},
   "source": [
    "#### Train/test split dataset"
   ]
  },
  {
   "cell_type": "code",
   "execution_count": 15,
   "id": "ea39329c-14a0-4d28-8da6-deb995a06824",
   "metadata": {},
   "outputs": [],
   "source": [
    "# Perform train/test split for data preprocessing:\n",
    "X = df['post']\n",
    "y = df['subreddit']"
   ]
  },
  {
   "cell_type": "code",
   "execution_count": 16,
   "id": "287c29cc-b812-4ad8-bee1-cb5ea89f3d5e",
   "metadata": {},
   "outputs": [
    {
     "name": "stdout",
     "output_type": "stream",
     "text": [
      "<class 'pandas.core.frame.DataFrame'>\n",
      "Int64Index: 9783 entries, 0 to 6899\n",
      "Data columns (total 2 columns):\n",
      " #   Column     Non-Null Count  Dtype \n",
      "---  ------     --------------  ----- \n",
      " 0   subreddit  9783 non-null   int64 \n",
      " 1   post       9783 non-null   object\n",
      "dtypes: int64(1), object(1)\n",
      "memory usage: 229.3+ KB\n"
     ]
    }
   ],
   "source": [
    "df.info()"
   ]
  },
  {
   "cell_type": "code",
   "execution_count": 17,
   "id": "20a84819-9a5d-4abc-b7de-0bd638d3f37a",
   "metadata": {},
   "outputs": [
    {
     "data": {
      "text/plain": [
       "1    0.705305\n",
       "0    0.294695\n",
       "Name: subreddit, dtype: float64"
      ]
     },
     "execution_count": 17,
     "metadata": {},
     "output_type": "execute_result"
    }
   ],
   "source": [
    "y.value_counts(normalize=True)"
   ]
  },
  {
   "cell_type": "code",
   "execution_count": 18,
   "id": "10bce843-89f0-4090-9bbc-f2eb67032055",
   "metadata": {},
   "outputs": [],
   "source": [
    "X_train, X_test, y_train, y_test = train_test_split(X, y,\n",
    "                                                    test_size=0.20,\n",
    "                                                    stratify=y,\n",
    "                                                    random_state=42\n",
    "                                                   )"
   ]
  },
  {
   "cell_type": "code",
   "execution_count": 19,
   "id": "d124b2cc-14ed-4247-ba72-5e0c40ba9d09",
   "metadata": {},
   "outputs": [
    {
     "data": {
      "text/plain": [
       "(7826,)"
      ]
     },
     "execution_count": 19,
     "metadata": {},
     "output_type": "execute_result"
    }
   ],
   "source": [
    "X_train.shape"
   ]
  },
  {
   "cell_type": "code",
   "execution_count": 20,
   "id": "d3d4a4cb-fd6a-42cd-8753-000d9910fa1e",
   "metadata": {},
   "outputs": [
    {
     "data": {
      "text/plain": [
       "(1957,)"
      ]
     },
     "execution_count": 20,
     "metadata": {},
     "output_type": "execute_result"
    }
   ],
   "source": [
    "X_test.shape"
   ]
  },
  {
   "cell_type": "markdown",
   "id": "8305e1f9-2525-42b1-87d1-ac17dd437987",
   "metadata": {},
   "source": [
    "#### Tokenize and lemmatize"
   ]
  },
  {
   "cell_type": "code",
   "execution_count": 21,
   "id": "917ffe18-6420-4fe6-b8ab-d6bd85c0e50e",
   "metadata": {},
   "outputs": [],
   "source": [
    "# Update list of stopwords\n",
    "stop_words = set(stopwords.words('english'))\n",
    "add_stopwords = ['ps4', 'ps5', 'playstation', 'game', 'video', 'sony' 'ps', 'plus', 'got', 'just']\n",
    "\n",
    "stop_words = stop_words.union(add_stopwords)"
   ]
  },
  {
   "cell_type": "code",
   "execution_count": 22,
   "id": "4984e620-6be4-4154-a775-25e957ac376e",
   "metadata": {},
   "outputs": [],
   "source": [
    "# Instantiate lemmatizer.\n",
    "lemmatizer = WordNetLemmatizer()"
   ]
  },
  {
   "cell_type": "code",
   "execution_count": 23,
   "id": "53845ece-87ae-4295-b13d-76909fadad00",
   "metadata": {},
   "outputs": [],
   "source": [
    "# Create function to further clean `post`\n",
    "\n",
    "def clean_post(raw_post):\n",
    "    \n",
    "    # 1. Remove HTML.\n",
    "    html_removed = BeautifulSoup(raw_post).get_text()\n",
    "    \n",
    "    # 2. Remove http.\n",
    "    http_removed = re.sub(r\"http\\S+\", \"\", html_removed)\n",
    "    \n",
    "    # 3. Remove www.\n",
    "    www_removed = re.sub(r\"www\\S+\", \"\", http_removed)\n",
    "    \n",
    "    # 4. Remove non-letters.\n",
    "    letters_only = re.sub(\"[^a-zA-Z]\", \" \",  www_removed)\n",
    "    \n",
    "    # 5. Convert to lower case, split into individual words.\n",
    "    words = letters_only.lower().split()\n",
    "    \n",
    "    #6. Lemmatize word tokens.\n",
    "    tokens_lem = [lemmatizer.lemmatize(i) for i in words]\n",
    "   \n",
    "    # 7. Remove stopwords.\n",
    "    meaningful_words = [w for w in tokens_lem if not w in stop_words]\n",
    "    \n",
    "    # 8. Join the words back into one string separated by space and return the result.\n",
    "    return(\" \".join(meaningful_words))"
   ]
  },
  {
   "cell_type": "code",
   "execution_count": 24,
   "id": "f89113ef-0827-4fc6-8df2-3294abda1cae",
   "metadata": {},
   "outputs": [
    {
     "name": "stdout",
     "output_type": "stream",
     "text": [
      "There are 9783 posts.\n"
     ]
    }
   ],
   "source": [
    "# Get the number of posts based on the dataframe size.\n",
    "total_posts = df.shape[0]\n",
    "print(f'There are {total_posts} posts.')"
   ]
  },
  {
   "cell_type": "code",
   "execution_count": 25,
   "id": "9d9a556d-f546-4f46-9cd6-602f4c8667c0",
   "metadata": {},
   "outputs": [],
   "source": [
    "# Initialize an empty list to hold clean posts.\n",
    "clean_train_post = []\n",
    "clean_test_post = []"
   ]
  },
  {
   "cell_type": "code",
   "execution_count": 26,
   "id": "4b09342b-ba19-4690-8019-d4f5d6977576",
   "metadata": {},
   "outputs": [
    {
     "name": "stdout",
     "output_type": "stream",
     "text": [
      "Cleaning and parsing the training set posts...\n"
     ]
    },
    {
     "name": "stderr",
     "output_type": "stream",
     "text": [
      "C:\\Users\\chang\\anaconda3\\envs\\dsi30\\lib\\site-packages\\bs4\\__init__.py:435: MarkupResemblesLocatorWarning: The input looks more like a filename than markup. You may want to open this file and pass the filehandle into Beautiful Soup.\n",
      "  warnings.warn(\n"
     ]
    },
    {
     "name": "stdout",
     "output_type": "stream",
     "text": [
      "1000 of 9783 posts.\n",
      "2000 of 9783 posts.\n",
      "3000 of 9783 posts.\n",
      "4000 of 9783 posts.\n",
      "5000 of 9783 posts.\n",
      "6000 of 9783 posts.\n",
      "7000 of 9783 posts.\n",
      "Cleaning and parsing the testing set posts...\n",
      "8000 of 9783 posts.\n",
      "9000 of 9783 posts.\n",
      "Cleaning for all posts completed\n"
     ]
    }
   ],
   "source": [
    "# Clean 'post' \n",
    "\n",
    "print(\"Cleaning and parsing the training set posts...\")\n",
    "\n",
    "# Instantiate counter.\n",
    "j = 0\n",
    "\n",
    "# For every post in our training set...\n",
    "for train_post in X_train:\n",
    "    \n",
    "    # Convert post to words, then append to clean_train_post.\n",
    "    clean_train_post.append(clean_post(train_post))\n",
    "    \n",
    "    # If the index is divisible by 1000, print a message.\n",
    "    if (j + 1) % 1000 == 0:\n",
    "        print(f'{j + 1} of {total_posts} posts.')\n",
    "    \n",
    "    j += 1\n",
    "\n",
    "# Let's do the same for our testing set.\n",
    "print(\"Cleaning and parsing the testing set posts...\")\n",
    "\n",
    "# For every post in our testing set...\n",
    "for test_post in X_test:\n",
    "    \n",
    "    # Convert post to words, then append to clean_test_post.\n",
    "    clean_test_post.append(clean_post(test_post))\n",
    "    \n",
    "    # If the index is divisible by 1000, print a message.\n",
    "    if (j + 1) % 1000 == 0:\n",
    "        print(f'{j + 1} of {total_posts} posts.')\n",
    "        \n",
    "    j += 1\n",
    "print('Cleaning for all posts completed')"
   ]
  },
  {
   "cell_type": "code",
   "execution_count": 27,
   "id": "6647fa50-7ea8-46fa-974e-19dd87f4dcb3",
   "metadata": {},
   "outputs": [],
   "source": [
    "# Store cleaned posts back in train/test sets\n",
    "X_train = clean_train_post\n",
    "X_test = clean_test_post"
   ]
  },
  {
   "cell_type": "markdown",
   "id": "bf6b60df-a9ed-46ad-86b7-091f4563ccad",
   "metadata": {},
   "source": [
    "## Modelling"
   ]
  },
  {
   "cell_type": "markdown",
   "id": "1de0ea91-4112-4022-bdfb-f8b4843c3af2",
   "metadata": {},
   "source": [
    "We will create our models using a mixture of transformers and classifiers:\n",
    "1. CountVectorizer and Multinomial Naive Bayes\n",
    "2. TF-IDF Vectorizer and Multinomial Naive Bayes\n",
    "3. CountVectorizer and Logistic Regression\n",
    "4. TF-IDF Vectorizer and Logistic Regression\n",
    "5. CountVectorizer and Decision Tree Classifier\n",
    "6. TF-IDF Vectorizer and Decision Tree Classifier\n",
    "7. CountVectorizer and Random Forest Classifier\n",
    "8. TF-IDF Vectorizer and Random Forest Classifier"
   ]
  },
  {
   "cell_type": "markdown",
   "id": "6b82a16f-9d6d-43cd-9ddf-8cbbde5db21d",
   "metadata": {},
   "source": [
    "#### Baseline model"
   ]
  },
  {
   "cell_type": "markdown",
   "id": "e450c272-26dc-4477-9a3e-69418a0e7cf9",
   "metadata": {},
   "source": [
    "We will first establish a baseline model for our prediction before running the classification models."
   ]
  },
  {
   "cell_type": "code",
   "execution_count": 28,
   "id": "80e8fb01-99dd-492b-9de8-ff0fee5cd6ad",
   "metadata": {},
   "outputs": [
    {
     "data": {
      "text/plain": [
       "1    0.705341\n",
       "0    0.294659\n",
       "Name: subreddit, dtype: float64"
      ]
     },
     "execution_count": 28,
     "metadata": {},
     "output_type": "execute_result"
    }
   ],
   "source": [
    "y_train.value_counts(normalize=True)"
   ]
  },
  {
   "cell_type": "markdown",
   "id": "a09ee66f-1479-426e-90e9-00f9bfca3421",
   "metadata": {},
   "source": [
    "The baseline model has a 70% accuracy of predicting the correct subreddit. We will evaluate the classification models whether they can provide a better prediction by obtaining higher accuracy scores."
   ]
  },
  {
   "cell_type": "markdown",
   "id": "6e90c3d0-303e-48d7-9579-4e24622de6b6",
   "metadata": {},
   "source": [
    "#### Model 1 - CountVectorizer + MultinomialNB"
   ]
  },
  {
   "cell_type": "code",
   "execution_count": 29,
   "id": "f997d144-4bcb-4a00-8513-20c7d7e3d8fb",
   "metadata": {},
   "outputs": [],
   "source": [
    "# Set up pipeline, hyperparameters and GridSearch\n",
    "pipe1 = Pipeline([\n",
    "    ('cvec', CountVectorizer()),\n",
    "    ('nb', MultinomialNB())\n",
    "])\n",
    "\n",
    "pipe1_params = {\n",
    "    'cvec__max_features': [4000],      #[1000, 2000, 3000, 3500, 4500, 5000]\n",
    "    'cvec__min_df': [1],               #[2, 3]\n",
    "    'cvec__max_df': [.90],             #[0.95, 0.85, 0.80, ]\n",
    "    'cvec__ngram_range': [(1,4)]       #[(1,1), (1,2), (1,3), (1,5) ]\n",
    "}\n",
    "\n",
    "gs1 = GridSearchCV(pipe1,\n",
    "                   param_grid=pipe1_params, \n",
    "                   cv=5,\n",
    "                   n_jobs=-1,\n",
    "                   verbose=1\n",
    "                  )"
   ]
  },
  {
   "cell_type": "code",
   "execution_count": 30,
   "id": "a7f35406-fb8f-4e72-9793-0a815939d0f4",
   "metadata": {},
   "outputs": [
    {
     "data": {
      "text/plain": [
       "dict_keys(['cv', 'error_score', 'estimator__memory', 'estimator__steps', 'estimator__verbose', 'estimator__cvec', 'estimator__nb', 'estimator__cvec__analyzer', 'estimator__cvec__binary', 'estimator__cvec__decode_error', 'estimator__cvec__dtype', 'estimator__cvec__encoding', 'estimator__cvec__input', 'estimator__cvec__lowercase', 'estimator__cvec__max_df', 'estimator__cvec__max_features', 'estimator__cvec__min_df', 'estimator__cvec__ngram_range', 'estimator__cvec__preprocessor', 'estimator__cvec__stop_words', 'estimator__cvec__strip_accents', 'estimator__cvec__token_pattern', 'estimator__cvec__tokenizer', 'estimator__cvec__vocabulary', 'estimator__nb__alpha', 'estimator__nb__class_prior', 'estimator__nb__fit_prior', 'estimator', 'n_jobs', 'param_grid', 'pre_dispatch', 'refit', 'return_train_score', 'scoring', 'verbose'])"
      ]
     },
     "execution_count": 30,
     "metadata": {},
     "output_type": "execute_result"
    }
   ],
   "source": [
    "gs1.get_params().keys()"
   ]
  },
  {
   "cell_type": "code",
   "execution_count": 31,
   "id": "c9f690eb-104e-491f-bfd9-9c317c1819a6",
   "metadata": {},
   "outputs": [
    {
     "name": "stdout",
     "output_type": "stream",
     "text": [
      "Fitting 5 folds for each of 1 candidates, totalling 5 fits\n",
      "CPU times: total: 1.53 s\n",
      "Wall time: 8.45 s\n"
     ]
    },
    {
     "data": {
      "text/plain": [
       "GridSearchCV(cv=5,\n",
       "             estimator=Pipeline(steps=[('cvec', CountVectorizer()),\n",
       "                                       ('nb', MultinomialNB())]),\n",
       "             n_jobs=-1,\n",
       "             param_grid={'cvec__max_df': [0.9], 'cvec__max_features': [4000],\n",
       "                         'cvec__min_df': [1], 'cvec__ngram_range': [(1, 4)]},\n",
       "             verbose=1)"
      ]
     },
     "execution_count": 31,
     "metadata": {},
     "output_type": "execute_result"
    }
   ],
   "source": [
    "%%time\n",
    "# Fit GridSearch to training data.\n",
    "gs1.fit(X_train, y_train)"
   ]
  },
  {
   "cell_type": "code",
   "execution_count": 32,
   "id": "79ed64c0-5793-40b7-98d9-b126f5be044a",
   "metadata": {},
   "outputs": [
    {
     "data": {
      "text/plain": [
       "{'cvec__max_df': 0.9,\n",
       " 'cvec__max_features': 4000,\n",
       " 'cvec__min_df': 1,\n",
       " 'cvec__ngram_range': (1, 4)}"
      ]
     },
     "execution_count": 32,
     "metadata": {},
     "output_type": "execute_result"
    }
   ],
   "source": [
    "# Model 1 best parameters\n",
    "gs1.best_params_"
   ]
  },
  {
   "cell_type": "code",
   "execution_count": 33,
   "id": "e6d16a1a-8aa4-4900-ac8d-3fd969270e23",
   "metadata": {},
   "outputs": [
    {
     "name": "stdout",
     "output_type": "stream",
     "text": [
      "Model 1 Train score: 0.7984922054689496\n",
      "Model 1 Test score: 0.7353091466530404\n",
      "Model 1 CV score: 0.7421407790957202\n"
     ]
    }
   ],
   "source": [
    "print(f\"Model 1 Train score: {gs1.score(X_train, y_train)}\")\n",
    "print(f\"Model 1 Test score: {gs1.score(X_test, y_test)}\")\n",
    "print(f\"Model 1 CV score: {gs1.best_score_}\")"
   ]
  },
  {
   "cell_type": "code",
   "execution_count": 34,
   "id": "4f6a67e5-ec97-4090-9e4d-d3d3a6ecbc0e",
   "metadata": {},
   "outputs": [
    {
     "data": {
      "text/plain": [
       "array(['aaa', 'ability', 'able', ..., 'zero dawn', 'zombie', 'zone'],\n",
       "      dtype=object)"
      ]
     },
     "execution_count": 34,
     "metadata": {},
     "output_type": "execute_result"
    }
   ],
   "source": [
    "gs1_features = gs1.best_estimator_[0].get_feature_names_out()\n",
    "gs1_features"
   ]
  },
  {
   "cell_type": "code",
   "execution_count": 35,
   "id": "d3c98f29-f9da-4804-a0c9-b28e7f027b3a",
   "metadata": {},
   "outputs": [
    {
     "data": {
      "text/plain": [
       "array([ 0.42490538,  0.07659868,  0.26940152, ..., -0.90423057,\n",
       "       -0.13104068,  0.07659868])"
      ]
     },
     "execution_count": 35,
     "metadata": {},
     "output_type": "execute_result"
    }
   ],
   "source": [
    "log_prob_diff = gs1.best_estimator_.steps[1][1].feature_log_prob_[1] - gs1.best_estimator_.steps[1][1].feature_log_prob_[0]\n",
    "log_prob_diff"
   ]
  },
  {
   "cell_type": "code",
   "execution_count": 36,
   "id": "eae04db6-1d7a-4796-a908-363c4e1862f0",
   "metadata": {},
   "outputs": [],
   "source": [
    "gs1_df = pd.DataFrame(log_prob_diff, index=gs1_features, columns=['log_prob'])"
   ]
  },
  {
   "cell_type": "code",
   "execution_count": 37,
   "id": "9490eb63-7f4b-4fcf-85ed-5af876dc30a4",
   "metadata": {},
   "outputs": [
    {
     "data": {
      "text/html": [
       "<div>\n",
       "<style scoped>\n",
       "    .dataframe tbody tr th:only-of-type {\n",
       "        vertical-align: middle;\n",
       "    }\n",
       "\n",
       "    .dataframe tbody tr th {\n",
       "        vertical-align: top;\n",
       "    }\n",
       "\n",
       "    .dataframe thead th {\n",
       "        text-align: right;\n",
       "    }\n",
       "</style>\n",
       "<table border=\"1\" class=\"dataframe\">\n",
       "  <thead>\n",
       "    <tr style=\"text-align: right;\">\n",
       "      <th></th>\n",
       "      <th>log_prob</th>\n",
       "    </tr>\n",
       "  </thead>\n",
       "  <tbody>\n",
       "    <tr>\n",
       "      <th>dualsense</th>\n",
       "      <td>3.877690</td>\n",
       "    </tr>\n",
       "    <tr>\n",
       "      <th>vrr</th>\n",
       "      <td>3.443895</td>\n",
       "    </tr>\n",
       "    <tr>\n",
       "      <th>dual sense</th>\n",
       "      <td>3.072331</td>\n",
       "    </tr>\n",
       "    <tr>\n",
       "      <th>preview</th>\n",
       "      <td>2.909812</td>\n",
       "    </tr>\n",
       "    <tr>\n",
       "      <th>capture</th>\n",
       "      <td>2.909812</td>\n",
       "    </tr>\n",
       "    <tr>\n",
       "      <th>performance mode</th>\n",
       "      <td>2.849187</td>\n",
       "    </tr>\n",
       "    <tr>\n",
       "      <th>fidelity</th>\n",
       "      <td>2.784649</td>\n",
       "    </tr>\n",
       "    <tr>\n",
       "      <th>plate</th>\n",
       "      <td>2.784649</td>\n",
       "    </tr>\n",
       "    <tr>\n",
       "      <th>queue</th>\n",
       "      <td>2.715656</td>\n",
       "    </tr>\n",
       "    <tr>\n",
       "      <th>accessory</th>\n",
       "      <td>2.715656</td>\n",
       "    </tr>\n",
       "    <tr>\n",
       "      <th>faq</th>\n",
       "      <td>2.679288</td>\n",
       "    </tr>\n",
       "    <tr>\n",
       "      <th>ray</th>\n",
       "      <td>2.641548</td>\n",
       "    </tr>\n",
       "    <tr>\n",
       "      <th>trailer revealing</th>\n",
       "      <td>2.561505</td>\n",
       "    </tr>\n",
       "    <tr>\n",
       "      <th>new trailer revealing</th>\n",
       "      <td>2.561505</td>\n",
       "    </tr>\n",
       "    <tr>\n",
       "      <th>producer</th>\n",
       "      <td>2.561505</td>\n",
       "    </tr>\n",
       "    <tr>\n",
       "      <th>dualsense controller</th>\n",
       "      <td>2.540452</td>\n",
       "    </tr>\n",
       "    <tr>\n",
       "      <th>showcase</th>\n",
       "      <td>2.518946</td>\n",
       "    </tr>\n",
       "    <tr>\n",
       "      <th>next month</th>\n",
       "      <td>2.518946</td>\n",
       "    </tr>\n",
       "    <tr>\n",
       "      <th>ign</th>\n",
       "      <td>2.496967</td>\n",
       "    </tr>\n",
       "    <tr>\n",
       "      <th>stuck blue light</th>\n",
       "      <td>2.474494</td>\n",
       "    </tr>\n",
       "    <tr>\n",
       "      <th>hacker new</th>\n",
       "      <td>2.474494</td>\n",
       "    </tr>\n",
       "    <tr>\n",
       "      <th>soul hacker new</th>\n",
       "      <td>2.474494</td>\n",
       "    </tr>\n",
       "    <tr>\n",
       "      <th>official support</th>\n",
       "      <td>2.474494</td>\n",
       "    </tr>\n",
       "    <tr>\n",
       "      <th>transferring</th>\n",
       "      <td>2.474494</td>\n",
       "    </tr>\n",
       "    <tr>\n",
       "      <th>hacker new trailer</th>\n",
       "      <td>2.427974</td>\n",
       "    </tr>\n",
       "    <tr>\n",
       "      <th>sync</th>\n",
       "      <td>2.427974</td>\n",
       "    </tr>\n",
       "    <tr>\n",
       "      <th>help tech support</th>\n",
       "      <td>2.427974</td>\n",
       "    </tr>\n",
       "    <tr>\n",
       "      <th>help tech</th>\n",
       "      <td>2.427974</td>\n",
       "    </tr>\n",
       "    <tr>\n",
       "      <th>invitation</th>\n",
       "      <td>2.427974</td>\n",
       "    </tr>\n",
       "    <tr>\n",
       "      <th>help question thread</th>\n",
       "      <td>2.427974</td>\n",
       "    </tr>\n",
       "  </tbody>\n",
       "</table>\n",
       "</div>"
      ],
      "text/plain": [
       "                       log_prob\n",
       "dualsense              3.877690\n",
       "vrr                    3.443895\n",
       "dual sense             3.072331\n",
       "preview                2.909812\n",
       "capture                2.909812\n",
       "performance mode       2.849187\n",
       "fidelity               2.784649\n",
       "plate                  2.784649\n",
       "queue                  2.715656\n",
       "accessory              2.715656\n",
       "faq                    2.679288\n",
       "ray                    2.641548\n",
       "trailer revealing      2.561505\n",
       "new trailer revealing  2.561505\n",
       "producer               2.561505\n",
       "dualsense controller   2.540452\n",
       "showcase               2.518946\n",
       "next month             2.518946\n",
       "ign                    2.496967\n",
       "stuck blue light       2.474494\n",
       "hacker new             2.474494\n",
       "soul hacker new        2.474494\n",
       "official support       2.474494\n",
       "transferring           2.474494\n",
       "hacker new trailer     2.427974\n",
       "sync                   2.427974\n",
       "help tech support      2.427974\n",
       "help tech              2.427974\n",
       "invitation             2.427974\n",
       "help question thread   2.427974"
      ]
     },
     "execution_count": 37,
     "metadata": {},
     "output_type": "execute_result"
    }
   ],
   "source": [
    "gs1_df.sort_values(by='log_prob', ascending=False).head(30)"
   ]
  },
  {
   "cell_type": "code",
   "execution_count": 38,
   "id": "5a426b74-56a0-4ee8-86d6-551b339d9b06",
   "metadata": {},
   "outputs": [],
   "source": [
    "# Get predictions\n",
    "preds = gs1.predict(X_test)\n",
    "\n",
    "# Save confusion matrix values\n",
    "tn, fp, fn, tp = confusion_matrix(y_test, preds).ravel()\n",
    "cm = confusion_matrix(y_test, preds)"
   ]
  },
  {
   "cell_type": "code",
   "execution_count": 39,
   "id": "bc33636e-3080-4197-945f-d1cf05532685",
   "metadata": {},
   "outputs": [
    {
     "data": {
      "image/png": "[encoded data removed]",
      "text/plain": [
       "<Figure size 432x288 with 2 Axes>"
      ]
     },
     "metadata": {
      "needs_background": "light"
     },
     "output_type": "display_data"
    }
   ],
   "source": [
    "# View confusion matrix\n",
    "disp = ConfusionMatrixDisplay(cm)\n",
    "disp.plot();"
   ]
  },
  {
   "cell_type": "code",
   "execution_count": 40,
   "id": "33e4bf3b-b6b1-4b33-a7f5-1e6178ad14ae",
   "metadata": {},
   "outputs": [
    {
     "name": "stdout",
     "output_type": "stream",
     "text": [
      "Model 1 F1 score: 0.826523777628935\n"
     ]
    }
   ],
   "source": [
    "# Calculate F1 score\n",
    "print(f\"Model 1 F1 score: {f1_score(y_test, preds)}\")"
   ]
  },
  {
   "cell_type": "markdown",
   "id": "f8e0ec4d-a198-4ab5-aae1-8579e53f4314",
   "metadata": {},
   "source": [
    "#### Model 2 - TF-IDF Vectorizer + MultinomialNB"
   ]
  },
  {
   "cell_type": "code",
   "execution_count": 41,
   "id": "84ec41a0-f86f-4be4-89a0-92db9459595f",
   "metadata": {},
   "outputs": [],
   "source": [
    "# Set up pipeline, hyperparameters and GridSearch\n",
    "pipe2 = Pipeline([\n",
    "    ('tvec', TfidfVectorizer()),\n",
    "    ('nb', MultinomialNB())\n",
    "])\n",
    "\n",
    "pipe2_params = {\n",
    "    'tvec__max_features': [4500],     #[1000, 3000, 3500, 4000, 5000]\n",
    "    'tvec__min_df': [2],              #[1,3]\n",
    "    'tvec__max_df': [.85],            #[0.95, 0.9, 0.8]\n",
    "    'tvec__ngram_range': [(1,2)]      #[(1,4), (1,3)]\n",
    "}\n",
    "\n",
    "gs2 = GridSearchCV(pipe2,\n",
    "                   param_grid=pipe2_params, \n",
    "                   cv=5,\n",
    "                   n_jobs=-1,\n",
    "                   verbose=1\n",
    "                  )"
   ]
  },
  {
   "cell_type": "code",
   "execution_count": 42,
   "id": "1e646648-3841-479f-802f-3c1662ea52d6",
   "metadata": {},
   "outputs": [
    {
     "data": {
      "text/plain": [
       "dict_keys(['cv', 'error_score', 'estimator__memory', 'estimator__steps', 'estimator__verbose', 'estimator__tvec', 'estimator__nb', 'estimator__tvec__analyzer', 'estimator__tvec__binary', 'estimator__tvec__decode_error', 'estimator__tvec__dtype', 'estimator__tvec__encoding', 'estimator__tvec__input', 'estimator__tvec__lowercase', 'estimator__tvec__max_df', 'estimator__tvec__max_features', 'estimator__tvec__min_df', 'estimator__tvec__ngram_range', 'estimator__tvec__norm', 'estimator__tvec__preprocessor', 'estimator__tvec__smooth_idf', 'estimator__tvec__stop_words', 'estimator__tvec__strip_accents', 'estimator__tvec__sublinear_tf', 'estimator__tvec__token_pattern', 'estimator__tvec__tokenizer', 'estimator__tvec__use_idf', 'estimator__tvec__vocabulary', 'estimator__nb__alpha', 'estimator__nb__class_prior', 'estimator__nb__fit_prior', 'estimator', 'n_jobs', 'param_grid', 'pre_dispatch', 'refit', 'return_train_score', 'scoring', 'verbose'])"
      ]
     },
     "execution_count": 42,
     "metadata": {},
     "output_type": "execute_result"
    }
   ],
   "source": [
    "gs2.get_params().keys()"
   ]
  },
  {
   "cell_type": "code",
   "execution_count": 43,
   "id": "b5181a44-5f9f-496b-a82d-8fd81d99cf7c",
   "metadata": {},
   "outputs": [
    {
     "name": "stdout",
     "output_type": "stream",
     "text": [
      "Fitting 5 folds for each of 1 candidates, totalling 5 fits\n",
      "CPU times: total: 547 ms\n",
      "Wall time: 2.74 s\n"
     ]
    },
    {
     "data": {
      "text/plain": [
       "GridSearchCV(cv=5,\n",
       "             estimator=Pipeline(steps=[('tvec', TfidfVectorizer()),\n",
       "                                       ('nb', MultinomialNB())]),\n",
       "             n_jobs=-1,\n",
       "             param_grid={'tvec__max_df': [0.85], 'tvec__max_features': [4500],\n",
       "                         'tvec__min_df': [2], 'tvec__ngram_range': [(1, 2)]},\n",
       "             verbose=1)"
      ]
     },
     "execution_count": 43,
     "metadata": {},
     "output_type": "execute_result"
    }
   ],
   "source": [
    "%%time\n",
    "# Fit GridSearch to training data.\n",
    "gs2.fit(X_train, y_train)"
   ]
  },
  {
   "cell_type": "code",
   "execution_count": 44,
   "id": "2a19de9a-5a58-4524-92ce-fe40a12f8293",
   "metadata": {},
   "outputs": [
    {
     "data": {
      "text/plain": [
       "{'tvec__max_df': 0.85,\n",
       " 'tvec__max_features': 4500,\n",
       " 'tvec__min_df': 2,\n",
       " 'tvec__ngram_range': (1, 2)}"
      ]
     },
     "execution_count": 44,
     "metadata": {},
     "output_type": "execute_result"
    }
   ],
   "source": [
    "# Model 2 best parameters\n",
    "gs2.best_params_"
   ]
  },
  {
   "cell_type": "code",
   "execution_count": 45,
   "id": "ede1d45b-877a-47b3-af98-856d8e76be13",
   "metadata": {},
   "outputs": [
    {
     "name": "stdout",
     "output_type": "stream",
     "text": [
      "Model 2 Train score: 0.7922310247891643\n",
      "Model 2 Test score: 0.740929994890138\n",
      "Model 2 CV score: 0.7484008013742509\n"
     ]
    }
   ],
   "source": [
    "print(f\"Model 2 Train score: {gs2.score(X_train, y_train)}\")\n",
    "print(f\"Model 2 Test score: {gs2.score(X_test, y_test)}\")\n",
    "print(f\"Model 2 CV score: {gs2.best_score_}\")"
   ]
  },
  {
   "cell_type": "code",
   "execution_count": 46,
   "id": "c39b918f-fe20-425b-b59e-41d4db844261",
   "metadata": {},
   "outputs": [],
   "source": [
    "gs2_features = gs2.best_estimator_[0].get_feature_names_out()"
   ]
  },
  {
   "cell_type": "code",
   "execution_count": 47,
   "id": "97aed96b-b0b3-477b-bf61-bc63795ea3df",
   "metadata": {},
   "outputs": [],
   "source": [
    "log_prob_diff = gs2.best_estimator_.steps[1][1].feature_log_prob_[1] - gs2.best_estimator_.steps[1][1].feature_log_prob_[0]"
   ]
  },
  {
   "cell_type": "code",
   "execution_count": 48,
   "id": "b66ac416-1659-4b3f-82f5-14313e92f6bb",
   "metadata": {},
   "outputs": [],
   "source": [
    "gs2_df = pd.DataFrame(log_prob_diff, index=gs2_features, columns=['log_prob'])"
   ]
  },
  {
   "cell_type": "code",
   "execution_count": 49,
   "id": "fe6110fa-649d-49c0-87f4-858b8d7c2a51",
   "metadata": {},
   "outputs": [
    {
     "data": {
      "text/html": [
       "<div>\n",
       "<style scoped>\n",
       "    .dataframe tbody tr th:only-of-type {\n",
       "        vertical-align: middle;\n",
       "    }\n",
       "\n",
       "    .dataframe tbody tr th {\n",
       "        vertical-align: top;\n",
       "    }\n",
       "\n",
       "    .dataframe thead th {\n",
       "        text-align: right;\n",
       "    }\n",
       "</style>\n",
       "<table border=\"1\" class=\"dataframe\">\n",
       "  <thead>\n",
       "    <tr style=\"text-align: right;\">\n",
       "      <th></th>\n",
       "      <th>log_prob</th>\n",
       "    </tr>\n",
       "  </thead>\n",
       "  <tbody>\n",
       "    <tr>\n",
       "      <th>vrr</th>\n",
       "      <td>2.547643</td>\n",
       "    </tr>\n",
       "    <tr>\n",
       "      <th>dualsense</th>\n",
       "      <td>2.509875</td>\n",
       "    </tr>\n",
       "    <tr>\n",
       "      <th>preview</th>\n",
       "      <td>2.036528</td>\n",
       "    </tr>\n",
       "    <tr>\n",
       "      <th>ign</th>\n",
       "      <td>2.022062</td>\n",
       "    </tr>\n",
       "    <tr>\n",
       "      <th>showcase</th>\n",
       "      <td>1.910058</td>\n",
       "    </tr>\n",
       "    <tr>\n",
       "      <th>soul hacker</th>\n",
       "      <td>1.903139</td>\n",
       "    </tr>\n",
       "    <tr>\n",
       "      <th>new trailer</th>\n",
       "      <td>1.828241</td>\n",
       "    </tr>\n",
       "    <tr>\n",
       "      <th>development</th>\n",
       "      <td>1.744318</td>\n",
       "    </tr>\n",
       "    <tr>\n",
       "      <th>trailer revealing</th>\n",
       "      <td>1.683200</td>\n",
       "    </tr>\n",
       "    <tr>\n",
       "      <th>hacker new</th>\n",
       "      <td>1.675047</td>\n",
       "    </tr>\n",
       "    <tr>\n",
       "      <th>hacker</th>\n",
       "      <td>1.673920</td>\n",
       "    </tr>\n",
       "    <tr>\n",
       "      <th>callisto</th>\n",
       "      <td>1.666751</td>\n",
       "    </tr>\n",
       "    <tr>\n",
       "      <th>direct</th>\n",
       "      <td>1.657018</td>\n",
       "    </tr>\n",
       "    <tr>\n",
       "      <th>callisto protocol</th>\n",
       "      <td>1.646240</td>\n",
       "    </tr>\n",
       "    <tr>\n",
       "      <th>revealing</th>\n",
       "      <td>1.605781</td>\n",
       "    </tr>\n",
       "    <tr>\n",
       "      <th>event</th>\n",
       "      <td>1.594631</td>\n",
       "    </tr>\n",
       "    <tr>\n",
       "      <th>gameplay trailer</th>\n",
       "      <td>1.589430</td>\n",
       "    </tr>\n",
       "    <tr>\n",
       "      <th>vampire</th>\n",
       "      <td>1.585100</td>\n",
       "    </tr>\n",
       "    <tr>\n",
       "      <th>trailer</th>\n",
       "      <td>1.570014</td>\n",
       "    </tr>\n",
       "    <tr>\n",
       "      <th>informer</th>\n",
       "      <td>1.567812</td>\n",
       "    </tr>\n",
       "    <tr>\n",
       "      <th>producer</th>\n",
       "      <td>1.543834</td>\n",
       "    </tr>\n",
       "    <tr>\n",
       "      <th>announce</th>\n",
       "      <td>1.536272</td>\n",
       "    </tr>\n",
       "    <tr>\n",
       "      <th>dualsense controller</th>\n",
       "      <td>1.503619</td>\n",
       "    </tr>\n",
       "    <tr>\n",
       "      <th>outrider</th>\n",
       "      <td>1.500113</td>\n",
       "    </tr>\n",
       "    <tr>\n",
       "      <th>protocol</th>\n",
       "      <td>1.495732</td>\n",
       "    </tr>\n",
       "    <tr>\n",
       "      <th>trigger</th>\n",
       "      <td>1.489340</td>\n",
       "    </tr>\n",
       "    <tr>\n",
       "      <th>hz</th>\n",
       "      <td>1.472725</td>\n",
       "    </tr>\n",
       "    <tr>\n",
       "      <th>summer fest</th>\n",
       "      <td>1.469832</td>\n",
       "    </tr>\n",
       "    <tr>\n",
       "      <th>overview</th>\n",
       "      <td>1.377381</td>\n",
       "    </tr>\n",
       "    <tr>\n",
       "      <th>sonic</th>\n",
       "      <td>1.376183</td>\n",
       "    </tr>\n",
       "  </tbody>\n",
       "</table>\n",
       "</div>"
      ],
      "text/plain": [
       "                      log_prob\n",
       "vrr                   2.547643\n",
       "dualsense             2.509875\n",
       "preview               2.036528\n",
       "ign                   2.022062\n",
       "showcase              1.910058\n",
       "soul hacker           1.903139\n",
       "new trailer           1.828241\n",
       "development           1.744318\n",
       "trailer revealing     1.683200\n",
       "hacker new            1.675047\n",
       "hacker                1.673920\n",
       "callisto              1.666751\n",
       "direct                1.657018\n",
       "callisto protocol     1.646240\n",
       "revealing             1.605781\n",
       "event                 1.594631\n",
       "gameplay trailer      1.589430\n",
       "vampire               1.585100\n",
       "trailer               1.570014\n",
       "informer              1.567812\n",
       "producer              1.543834\n",
       "announce              1.536272\n",
       "dualsense controller  1.503619\n",
       "outrider              1.500113\n",
       "protocol              1.495732\n",
       "trigger               1.489340\n",
       "hz                    1.472725\n",
       "summer fest           1.469832\n",
       "overview              1.377381\n",
       "sonic                 1.376183"
      ]
     },
     "execution_count": 49,
     "metadata": {},
     "output_type": "execute_result"
    }
   ],
   "source": [
    "gs2_df.sort_values(by='log_prob', ascending=False).head(30)"
   ]
  },
  {
   "cell_type": "code",
   "execution_count": 50,
   "id": "5a34b21a-2f79-4ff0-a867-805bc53a2525",
   "metadata": {},
   "outputs": [],
   "source": [
    "# Get predictions\n",
    "preds = gs2.predict(X_test)\n",
    "\n",
    "# Save confusion matrix values\n",
    "tn, fp, fn, tp = confusion_matrix(y_test, preds).ravel()\n",
    "cm = confusion_matrix(y_test, preds)"
   ]
  },
  {
   "cell_type": "code",
   "execution_count": 51,
   "id": "482e7db3-c558-4c6c-aafb-c0df24820645",
   "metadata": {},
   "outputs": [
    {
     "data": {
      "image/png": "[encoded data removed]",
      "text/plain": [
       "<Figure size 432x288 with 2 Axes>"
      ]
     },
     "metadata": {
      "needs_background": "light"
     },
     "output_type": "display_data"
    }
   ],
   "source": [
    "# View confusion matrix\n",
    "disp = ConfusionMatrixDisplay(cm)\n",
    "disp.plot();"
   ]
  },
  {
   "cell_type": "code",
   "execution_count": 52,
   "id": "a9006e3f-058e-4af3-896c-e47a97706ea5",
   "metadata": {},
   "outputs": [
    {
     "name": "stdout",
     "output_type": "stream",
     "text": [
      "Model 2 F1 score: 0.8390986988257696\n"
     ]
    }
   ],
   "source": [
    "# Calculate F1 score\n",
    "print(f\"Model 2 F1 score: {f1_score(y_test, preds)}\")"
   ]
  },
  {
   "cell_type": "markdown",
   "id": "cfa499e8-ce51-404f-881e-4163c379bf1d",
   "metadata": {},
   "source": [
    "#### Model 3 - CountVectorizer + Logistic Regression"
   ]
  },
  {
   "cell_type": "code",
   "execution_count": 53,
   "id": "76181b99-5d51-482e-a4a9-f190caaaa403",
   "metadata": {},
   "outputs": [],
   "source": [
    "# Set up pipeline, hyperparameters and GridSearch\n",
    "pipe3 = Pipeline([\n",
    "    ('cvec', CountVectorizer()),\n",
    "    ('lr', LogisticRegression())\n",
    "])\n",
    "\n",
    "pipe3_params = {\n",
    "    'cvec__max_features': [5000],           #[4000, 6000, 4500, 5500]\n",
    "    'cvec__min_df': [2],                    #[1,3]\n",
    "    'cvec__max_df': [0.85],                 #[0.9, 0.8]\n",
    "    'cvec__ngram_range': [(1,2)],           #[(1,3), (1,4)]\n",
    "    'lr__C': [0.1],                         #[10, 1, 0.01]\n",
    "    'lr__penalty': ['l2'],                  #['l1']\n",
    "    'lr__solver': ['sag'],                  #['liblinear', 'newton-cg', 'lbfgs']\n",
    "    'lr__max_iter': [7000],\n",
    "    'lr__class_weight': [None]              #['balanced']\n",
    "}\n",
    "\n",
    "gs3 = GridSearchCV(pipe3,\n",
    "                   param_grid=pipe3_params, \n",
    "                   cv=5,\n",
    "                   n_jobs=-1,\n",
    "                   verbose=1\n",
    "                  )"
   ]
  },
  {
   "cell_type": "code",
   "execution_count": 54,
   "id": "9cf01677-ebf7-4bc5-9b4a-7ac8390d2e80",
   "metadata": {},
   "outputs": [
    {
     "data": {
      "text/plain": [
       "dict_keys(['cv', 'error_score', 'estimator__memory', 'estimator__steps', 'estimator__verbose', 'estimator__cvec', 'estimator__lr', 'estimator__cvec__analyzer', 'estimator__cvec__binary', 'estimator__cvec__decode_error', 'estimator__cvec__dtype', 'estimator__cvec__encoding', 'estimator__cvec__input', 'estimator__cvec__lowercase', 'estimator__cvec__max_df', 'estimator__cvec__max_features', 'estimator__cvec__min_df', 'estimator__cvec__ngram_range', 'estimator__cvec__preprocessor', 'estimator__cvec__stop_words', 'estimator__cvec__strip_accents', 'estimator__cvec__token_pattern', 'estimator__cvec__tokenizer', 'estimator__cvec__vocabulary', 'estimator__lr__C', 'estimator__lr__class_weight', 'estimator__lr__dual', 'estimator__lr__fit_intercept', 'estimator__lr__intercept_scaling', 'estimator__lr__l1_ratio', 'estimator__lr__max_iter', 'estimator__lr__multi_class', 'estimator__lr__n_jobs', 'estimator__lr__penalty', 'estimator__lr__random_state', 'estimator__lr__solver', 'estimator__lr__tol', 'estimator__lr__verbose', 'estimator__lr__warm_start', 'estimator', 'n_jobs', 'param_grid', 'pre_dispatch', 'refit', 'return_train_score', 'scoring', 'verbose'])"
      ]
     },
     "execution_count": 54,
     "metadata": {},
     "output_type": "execute_result"
    }
   ],
   "source": [
    "gs3.get_params().keys()"
   ]
  },
  {
   "cell_type": "code",
   "execution_count": 55,
   "id": "dc13da5e-360e-4935-bfdf-8e1534fd9fd8",
   "metadata": {},
   "outputs": [
    {
     "name": "stdout",
     "output_type": "stream",
     "text": [
      "Fitting 5 folds for each of 1 candidates, totalling 5 fits\n",
      "CPU times: total: 2.52 s\n",
      "Wall time: 6.32 s\n"
     ]
    },
    {
     "data": {
      "text/plain": [
       "GridSearchCV(cv=5,\n",
       "             estimator=Pipeline(steps=[('cvec', CountVectorizer()),\n",
       "                                       ('lr', LogisticRegression())]),\n",
       "             n_jobs=-1,\n",
       "             param_grid={'cvec__max_df': [0.85], 'cvec__max_features': [5000],\n",
       "                         'cvec__min_df': [2], 'cvec__ngram_range': [(1, 2)],\n",
       "                         'lr__C': [0.1], 'lr__class_weight': [None],\n",
       "                         'lr__max_iter': [7000], 'lr__penalty': ['l2'],\n",
       "                         'lr__solver': ['sag']},\n",
       "             verbose=1)"
      ]
     },
     "execution_count": 55,
     "metadata": {},
     "output_type": "execute_result"
    }
   ],
   "source": [
    "%%time\n",
    "# Fit GridSearch to training data.\n",
    "gs3.fit(X_train, y_train)"
   ]
  },
  {
   "cell_type": "code",
   "execution_count": 56,
   "id": "cba83da3-5404-48a8-a4c6-3736d5a79904",
   "metadata": {},
   "outputs": [
    {
     "data": {
      "text/plain": [
       "{'cvec__max_df': 0.85,\n",
       " 'cvec__max_features': 5000,\n",
       " 'cvec__min_df': 2,\n",
       " 'cvec__ngram_range': (1, 2),\n",
       " 'lr__C': 0.1,\n",
       " 'lr__class_weight': None,\n",
       " 'lr__max_iter': 7000,\n",
       " 'lr__penalty': 'l2',\n",
       " 'lr__solver': 'sag'}"
      ]
     },
     "execution_count": 56,
     "metadata": {},
     "output_type": "execute_result"
    }
   ],
   "source": [
    "# Model 3 best parameters\n",
    "gs3.best_params_"
   ]
  },
  {
   "cell_type": "code",
   "execution_count": 57,
   "id": "5b2355cd-c2a8-40fe-bbcc-3301cd6abd5d",
   "metadata": {},
   "outputs": [
    {
     "name": "stdout",
     "output_type": "stream",
     "text": [
      "Model 3 Train score: 0.8345259391771019\n",
      "Model 3 Test score: 0.7460398569238631\n",
      "Model 3 CV score: 0.7500618984082683\n"
     ]
    }
   ],
   "source": [
    "print(f\"Model 3 Train score: {gs3.score(X_train, y_train)}\")\n",
    "print(f\"Model 3 Test score: {gs3.score(X_test, y_test)}\")\n",
    "print(f\"Model 3 CV score: {gs3.best_score_}\")"
   ]
  },
  {
   "cell_type": "code",
   "execution_count": 58,
   "id": "72378887-becd-4660-910c-c56aa516270e",
   "metadata": {},
   "outputs": [],
   "source": [
    "# Get predictions\n",
    "preds = gs3.predict(X_test)\n",
    "\n",
    "# Save confusion matrix values\n",
    "tn, fp, fn, tp = confusion_matrix(y_test, preds).ravel()\n",
    "cm = confusion_matrix(y_test, preds)"
   ]
  },
  {
   "cell_type": "code",
   "execution_count": 59,
   "id": "04d2d41d-0e23-4f54-81c3-112c17a48ca8",
   "metadata": {},
   "outputs": [
    {
     "data": {
      "image/png": "[encoded data removed]",
      "text/plain": [
       "<Figure size 432x288 with 2 Axes>"
      ]
     },
     "metadata": {
      "needs_background": "light"
     },
     "output_type": "display_data"
    }
   ],
   "source": [
    "# View confusion matrix\n",
    "disp = ConfusionMatrixDisplay(cm)\n",
    "disp.plot();"
   ]
  },
  {
   "cell_type": "code",
   "execution_count": 60,
   "id": "e893b041-e666-4de9-a736-3a6902465252",
   "metadata": {},
   "outputs": [
    {
     "name": "stdout",
     "output_type": "stream",
     "text": [
      "Model 3 F1 score: 0.8371025893149787\n"
     ]
    }
   ],
   "source": [
    "# Calculate F1 score\n",
    "print(f\"Model 3 F1 score: {f1_score(y_test, preds)}\")"
   ]
  },
  {
   "cell_type": "code",
   "execution_count": 61,
   "id": "2f09a459-e785-4a9d-9170-f8bd3e37cb49",
   "metadata": {},
   "outputs": [
    {
     "data": {
      "text/plain": [
       "(5000,)"
      ]
     },
     "execution_count": 61,
     "metadata": {},
     "output_type": "execute_result"
    }
   ],
   "source": [
    "gs3_features = gs3.best_estimator_[0].get_feature_names_out()\n",
    "gs3_features.shape"
   ]
  },
  {
   "cell_type": "code",
   "execution_count": 62,
   "id": "eea382f0-f7dc-4d41-9a01-6b5d6c945e12",
   "metadata": {},
   "outputs": [
    {
     "data": {
      "text/plain": [
       "(5000, 1)"
      ]
     },
     "execution_count": 62,
     "metadata": {},
     "output_type": "execute_result"
    }
   ],
   "source": [
    "gs3_coef = np.exp(gs3.best_estimator_.named_steps.lr.coef_).T\n",
    "gs3_coef.shape"
   ]
  },
  {
   "cell_type": "code",
   "execution_count": 63,
   "id": "99714ba2-17dc-4ad7-8801-fc147347b91e",
   "metadata": {},
   "outputs": [],
   "source": [
    "gs3_df = pd.DataFrame(gs3_coef, index=gs3_features, columns=['coef'])"
   ]
  },
  {
   "cell_type": "code",
   "execution_count": 64,
   "id": "c6207c84-5ef1-4d63-b1ea-c3c11ae57b75",
   "metadata": {},
   "outputs": [
    {
     "data": {
      "text/html": [
       "<div>\n",
       "<style scoped>\n",
       "    .dataframe tbody tr th:only-of-type {\n",
       "        vertical-align: middle;\n",
       "    }\n",
       "\n",
       "    .dataframe tbody tr th {\n",
       "        vertical-align: top;\n",
       "    }\n",
       "\n",
       "    .dataframe thead th {\n",
       "        text-align: right;\n",
       "    }\n",
       "</style>\n",
       "<table border=\"1\" class=\"dataframe\">\n",
       "  <thead>\n",
       "    <tr style=\"text-align: right;\">\n",
       "      <th></th>\n",
       "      <th>coef</th>\n",
       "    </tr>\n",
       "  </thead>\n",
       "  <tbody>\n",
       "    <tr>\n",
       "      <th>trailer</th>\n",
       "      <td>2.570669</td>\n",
       "    </tr>\n",
       "    <tr>\n",
       "      <th>dualsense</th>\n",
       "      <td>2.303214</td>\n",
       "    </tr>\n",
       "    <tr>\n",
       "      <th>vrr</th>\n",
       "      <td>1.882861</td>\n",
       "    </tr>\n",
       "    <tr>\n",
       "      <th>upgrade</th>\n",
       "      <td>1.837341</td>\n",
       "    </tr>\n",
       "    <tr>\n",
       "      <th>review</th>\n",
       "      <td>1.744397</td>\n",
       "    </tr>\n",
       "    <tr>\n",
       "      <th>event</th>\n",
       "      <td>1.711681</td>\n",
       "    </tr>\n",
       "    <tr>\n",
       "      <th>preview</th>\n",
       "      <td>1.663635</td>\n",
       "    </tr>\n",
       "    <tr>\n",
       "      <th>direct</th>\n",
       "      <td>1.638043</td>\n",
       "    </tr>\n",
       "    <tr>\n",
       "      <th>development</th>\n",
       "      <td>1.636384</td>\n",
       "    </tr>\n",
       "    <tr>\n",
       "      <th>returnal</th>\n",
       "      <td>1.610645</td>\n",
       "    </tr>\n",
       "    <tr>\n",
       "      <th>summer</th>\n",
       "      <td>1.596581</td>\n",
       "    </tr>\n",
       "    <tr>\n",
       "      <th>ign</th>\n",
       "      <td>1.583645</td>\n",
       "    </tr>\n",
       "    <tr>\n",
       "      <th>sharing</th>\n",
       "      <td>1.581601</td>\n",
       "    </tr>\n",
       "    <tr>\n",
       "      <th>version</th>\n",
       "      <td>1.559924</td>\n",
       "    </tr>\n",
       "    <tr>\n",
       "      <th>showcase</th>\n",
       "      <td>1.556788</td>\n",
       "    </tr>\n",
       "    <tr>\n",
       "      <th>pulse</th>\n",
       "      <td>1.539103</td>\n",
       "    </tr>\n",
       "    <tr>\n",
       "      <th>june</th>\n",
       "      <td>1.509726</td>\n",
       "    </tr>\n",
       "    <tr>\n",
       "      <th>take two</th>\n",
       "      <td>1.505745</td>\n",
       "    </tr>\n",
       "    <tr>\n",
       "      <th>bloodhunt</th>\n",
       "      <td>1.499337</td>\n",
       "    </tr>\n",
       "    <tr>\n",
       "      <th>noticed</th>\n",
       "      <td>1.495781</td>\n",
       "    </tr>\n",
       "    <tr>\n",
       "      <th>turned</th>\n",
       "      <td>1.495299</td>\n",
       "    </tr>\n",
       "    <tr>\n",
       "      <th>ssd</th>\n",
       "      <td>1.495013</td>\n",
       "    </tr>\n",
       "    <tr>\n",
       "      <th>invite</th>\n",
       "      <td>1.486081</td>\n",
       "    </tr>\n",
       "    <tr>\n",
       "      <th>ea</th>\n",
       "      <td>1.480164</td>\n",
       "    </tr>\n",
       "    <tr>\n",
       "      <th>scalper</th>\n",
       "      <td>1.473012</td>\n",
       "    </tr>\n",
       "    <tr>\n",
       "      <th>sonic</th>\n",
       "      <td>1.471695</td>\n",
       "    </tr>\n",
       "    <tr>\n",
       "      <th>ubisoft</th>\n",
       "      <td>1.451203</td>\n",
       "    </tr>\n",
       "    <tr>\n",
       "      <th>box</th>\n",
       "      <td>1.448936</td>\n",
       "    </tr>\n",
       "    <tr>\n",
       "      <th>plate</th>\n",
       "      <td>1.442621</td>\n",
       "    </tr>\n",
       "    <tr>\n",
       "      <th>gta online</th>\n",
       "      <td>1.429992</td>\n",
       "    </tr>\n",
       "  </tbody>\n",
       "</table>\n",
       "</div>"
      ],
      "text/plain": [
       "                 coef\n",
       "trailer      2.570669\n",
       "dualsense    2.303214\n",
       "vrr          1.882861\n",
       "upgrade      1.837341\n",
       "review       1.744397\n",
       "event        1.711681\n",
       "preview      1.663635\n",
       "direct       1.638043\n",
       "development  1.636384\n",
       "returnal     1.610645\n",
       "summer       1.596581\n",
       "ign          1.583645\n",
       "sharing      1.581601\n",
       "version      1.559924\n",
       "showcase     1.556788\n",
       "pulse        1.539103\n",
       "june         1.509726\n",
       "take two     1.505745\n",
       "bloodhunt    1.499337\n",
       "noticed      1.495781\n",
       "turned       1.495299\n",
       "ssd          1.495013\n",
       "invite       1.486081\n",
       "ea           1.480164\n",
       "scalper      1.473012\n",
       "sonic        1.471695\n",
       "ubisoft      1.451203\n",
       "box          1.448936\n",
       "plate        1.442621\n",
       "gta online   1.429992"
      ]
     },
     "execution_count": 64,
     "metadata": {},
     "output_type": "execute_result"
    }
   ],
   "source": [
    "gs3_df.sort_values(by='coef', ascending=False).head(30)"
   ]
  },
  {
   "cell_type": "markdown",
   "id": "72e24c98-2ff5-4092-9130-016cdbd72904",
   "metadata": {},
   "source": [
    "#### Model 4 - TF-IDF Vectorizer + Logistic Regression"
   ]
  },
  {
   "cell_type": "code",
   "execution_count": 65,
   "id": "35e3a1f9-256f-44da-b5e0-030fbf51111f",
   "metadata": {},
   "outputs": [],
   "source": [
    "# Set up pipeline, hyperparameters and GridSearch\n",
    "pipe4 = Pipeline([\n",
    "    ('tvec', TfidfVectorizer()),\n",
    "    ('lr', LogisticRegression())\n",
    "])\n",
    "\n",
    "pipe4_params = {\n",
    "    'tvec__max_features': [5000],           #[4000, 6000, 4500, 5500]\n",
    "    'tvec__min_df': [1,2],                  #[1,3]\n",
    "    'tvec__max_df': [0.85],                 #[0.9, 0.8]\n",
    "    'tvec__ngram_range': [(1,2)],           #[(1,3), (1,4)]\n",
    "    'lr__C': [1],                           #[10, 0.1, 0.01]\n",
    "    'lr__penalty': ['l2'],                  #['l1']\n",
    "    'lr__solver': ['sag'],                  #['sag','liblinear', 'newton-cg', 'lbfgs']\n",
    "    'lr__max_iter': [7000],\n",
    "    'lr__class_weight': [None]              #['balanced']\n",
    "}\n",
    "\n",
    "gs4 = GridSearchCV(pipe4,\n",
    "                   param_grid=pipe4_params, \n",
    "                   cv=5,\n",
    "                   n_jobs=-1,\n",
    "                   verbose=1\n",
    "                  )"
   ]
  },
  {
   "cell_type": "code",
   "execution_count": 66,
   "id": "506690d4-e7ee-46b4-a9cd-7aade1852f51",
   "metadata": {},
   "outputs": [
    {
     "data": {
      "text/plain": [
       "dict_keys(['cv', 'error_score', 'estimator__memory', 'estimator__steps', 'estimator__verbose', 'estimator__tvec', 'estimator__lr', 'estimator__tvec__analyzer', 'estimator__tvec__binary', 'estimator__tvec__decode_error', 'estimator__tvec__dtype', 'estimator__tvec__encoding', 'estimator__tvec__input', 'estimator__tvec__lowercase', 'estimator__tvec__max_df', 'estimator__tvec__max_features', 'estimator__tvec__min_df', 'estimator__tvec__ngram_range', 'estimator__tvec__norm', 'estimator__tvec__preprocessor', 'estimator__tvec__smooth_idf', 'estimator__tvec__stop_words', 'estimator__tvec__strip_accents', 'estimator__tvec__sublinear_tf', 'estimator__tvec__token_pattern', 'estimator__tvec__tokenizer', 'estimator__tvec__use_idf', 'estimator__tvec__vocabulary', 'estimator__lr__C', 'estimator__lr__class_weight', 'estimator__lr__dual', 'estimator__lr__fit_intercept', 'estimator__lr__intercept_scaling', 'estimator__lr__l1_ratio', 'estimator__lr__max_iter', 'estimator__lr__multi_class', 'estimator__lr__n_jobs', 'estimator__lr__penalty', 'estimator__lr__random_state', 'estimator__lr__solver', 'estimator__lr__tol', 'estimator__lr__verbose', 'estimator__lr__warm_start', 'estimator', 'n_jobs', 'param_grid', 'pre_dispatch', 'refit', 'return_train_score', 'scoring', 'verbose'])"
      ]
     },
     "execution_count": 66,
     "metadata": {},
     "output_type": "execute_result"
    }
   ],
   "source": [
    "gs4.get_params().keys()"
   ]
  },
  {
   "cell_type": "code",
   "execution_count": 67,
   "id": "935b6b55-bcd5-4bba-bbde-2ead14c47039",
   "metadata": {},
   "outputs": [
    {
     "name": "stdout",
     "output_type": "stream",
     "text": [
      "Fitting 5 folds for each of 2 candidates, totalling 10 fits\n",
      "CPU times: total: 766 ms\n",
      "Wall time: 2.38 s\n"
     ]
    },
    {
     "data": {
      "text/plain": [
       "GridSearchCV(cv=5,\n",
       "             estimator=Pipeline(steps=[('tvec', TfidfVectorizer()),\n",
       "                                       ('lr', LogisticRegression())]),\n",
       "             n_jobs=-1,\n",
       "             param_grid={'lr__C': [1], 'lr__class_weight': [None],\n",
       "                         'lr__max_iter': [7000], 'lr__penalty': ['l2'],\n",
       "                         'lr__solver': ['sag'], 'tvec__max_df': [0.85],\n",
       "                         'tvec__max_features': [5000], 'tvec__min_df': [1, 2],\n",
       "                         'tvec__ngram_range': [(1, 2)]},\n",
       "             verbose=1)"
      ]
     },
     "execution_count": 67,
     "metadata": {},
     "output_type": "execute_result"
    }
   ],
   "source": [
    "%%time\n",
    "# Fit GridSearch to training data.\n",
    "gs4.fit(X_train, y_train)"
   ]
  },
  {
   "cell_type": "code",
   "execution_count": 68,
   "id": "e0d4cc68-ad7b-4135-81f0-fa7e12d39f8e",
   "metadata": {},
   "outputs": [
    {
     "data": {
      "text/plain": [
       "{'lr__C': 1,\n",
       " 'lr__class_weight': None,\n",
       " 'lr__max_iter': 7000,\n",
       " 'lr__penalty': 'l2',\n",
       " 'lr__solver': 'sag',\n",
       " 'tvec__max_df': 0.85,\n",
       " 'tvec__max_features': 5000,\n",
       " 'tvec__min_df': 1,\n",
       " 'tvec__ngram_range': (1, 2)}"
      ]
     },
     "execution_count": 68,
     "metadata": {},
     "output_type": "execute_result"
    }
   ],
   "source": [
    "# Model 4 best parameters\n",
    "gs4.best_params_"
   ]
  },
  {
   "cell_type": "code",
   "execution_count": 69,
   "id": "9ba2790f-3372-4a04-a2f9-e37e61ad658d",
   "metadata": {},
   "outputs": [
    {
     "name": "stdout",
     "output_type": "stream",
     "text": [
      "Model 4 Train score: 0.8191924354715052\n",
      "Model 4 Test score: 0.7501277465508431\n",
      "Model 4 CV score: 0.7530006242884947\n"
     ]
    }
   ],
   "source": [
    "print(f\"Model 4 Train score: {gs4.score(X_train, y_train)}\")\n",
    "print(f\"Model 4 Test score: {gs4.score(X_test, y_test)}\")\n",
    "print(f\"Model 4 CV score: {gs4.best_score_}\")"
   ]
  },
  {
   "cell_type": "code",
   "execution_count": 70,
   "id": "dfcc043a-243b-41e5-a6cc-8e0031f09889",
   "metadata": {},
   "outputs": [],
   "source": [
    "# Get predictions\n",
    "preds = gs4.predict(X_test)\n",
    "\n",
    "# Save confusion matrix values\n",
    "tn, fp, fn, tp = confusion_matrix(y_test, preds).ravel()\n",
    "cm = confusion_matrix(y_test, preds)"
   ]
  },
  {
   "cell_type": "code",
   "execution_count": 71,
   "id": "468cad55-d3cf-41d0-8ba2-25c0b8c63929",
   "metadata": {},
   "outputs": [
    {
     "data": {
      "image/png": "[encoded data removed]",
      "text/plain": [
       "<Figure size 432x288 with 2 Axes>"
      ]
     },
     "metadata": {
      "needs_background": "light"
     },
     "output_type": "display_data"
    }
   ],
   "source": [
    "# View confusion matrix\n",
    "disp = ConfusionMatrixDisplay(cm)\n",
    "disp.plot();"
   ]
  },
  {
   "cell_type": "code",
   "execution_count": 72,
   "id": "d7ef6c96-e0ce-4fb2-a61e-63a7cf1c6829",
   "metadata": {},
   "outputs": [
    {
     "name": "stdout",
     "output_type": "stream",
     "text": [
      "Model 4 F1 score: 0.840768479322696\n"
     ]
    }
   ],
   "source": [
    "# Calculate F1 score\n",
    "print(f\"Model 4 F1 score: {f1_score(y_test, preds)}\")"
   ]
  },
  {
   "cell_type": "code",
   "execution_count": 73,
   "id": "a051f13b-5fb5-4d00-87e4-d5dd6c2a6728",
   "metadata": {},
   "outputs": [],
   "source": [
    "gs4_features = gs4.best_estimator_[0].get_feature_names_out()\n"
   ]
  },
  {
   "cell_type": "code",
   "execution_count": 74,
   "id": "9ba7e2d1-e7a4-486b-8b47-60bd9d9fd50c",
   "metadata": {},
   "outputs": [],
   "source": [
    "gs4_coef = np.exp(gs4.best_estimator_.named_steps.lr.coef_).T\n"
   ]
  },
  {
   "cell_type": "code",
   "execution_count": 75,
   "id": "fe90e5e1-1e87-4aab-8107-99c2f0e4c321",
   "metadata": {},
   "outputs": [
    {
     "data": {
      "text/plain": [
       "(5000, 1)"
      ]
     },
     "execution_count": 75,
     "metadata": {},
     "output_type": "execute_result"
    }
   ],
   "source": [
    "gs4_coef.shape"
   ]
  },
  {
   "cell_type": "code",
   "execution_count": 76,
   "id": "26125833-d4ff-44bc-b882-6a1dd1e26ab9",
   "metadata": {},
   "outputs": [],
   "source": [
    "gs4_df = pd.DataFrame(gs4_coef, index=gs4_features, columns=['coef'])"
   ]
  },
  {
   "cell_type": "code",
   "execution_count": 77,
   "id": "beb9a5e9-9fe8-48e5-a0e5-9a33d63ad0c9",
   "metadata": {},
   "outputs": [
    {
     "data": {
      "text/html": [
       "<div>\n",
       "<style scoped>\n",
       "    .dataframe tbody tr th:only-of-type {\n",
       "        vertical-align: middle;\n",
       "    }\n",
       "\n",
       "    .dataframe tbody tr th {\n",
       "        vertical-align: top;\n",
       "    }\n",
       "\n",
       "    .dataframe thead th {\n",
       "        text-align: right;\n",
       "    }\n",
       "</style>\n",
       "<table border=\"1\" class=\"dataframe\">\n",
       "  <thead>\n",
       "    <tr style=\"text-align: right;\">\n",
       "      <th></th>\n",
       "      <th>coef</th>\n",
       "    </tr>\n",
       "  </thead>\n",
       "  <tbody>\n",
       "    <tr>\n",
       "      <th>trailer</th>\n",
       "      <td>17.311560</td>\n",
       "    </tr>\n",
       "    <tr>\n",
       "      <th>dualsense</th>\n",
       "      <td>14.925936</td>\n",
       "    </tr>\n",
       "    <tr>\n",
       "      <th>vrr</th>\n",
       "      <td>11.131490</td>\n",
       "    </tr>\n",
       "    <tr>\n",
       "      <th>upgrade</th>\n",
       "      <td>10.697855</td>\n",
       "    </tr>\n",
       "    <tr>\n",
       "      <th>version</th>\n",
       "      <td>9.890452</td>\n",
       "    </tr>\n",
       "    <tr>\n",
       "      <th>review</th>\n",
       "      <td>6.554208</td>\n",
       "    </tr>\n",
       "    <tr>\n",
       "      <th>issue</th>\n",
       "      <td>6.307919</td>\n",
       "    </tr>\n",
       "    <tr>\n",
       "      <th>event</th>\n",
       "      <td>5.111698</td>\n",
       "    </tr>\n",
       "    <tr>\n",
       "      <th>ssd</th>\n",
       "      <td>4.993786</td>\n",
       "    </tr>\n",
       "    <tr>\n",
       "      <th>direct</th>\n",
       "      <td>4.860388</td>\n",
       "    </tr>\n",
       "    <tr>\n",
       "      <th>preview</th>\n",
       "      <td>4.564372</td>\n",
       "    </tr>\n",
       "    <tr>\n",
       "      <th>development</th>\n",
       "      <td>4.561219</td>\n",
       "    </tr>\n",
       "    <tr>\n",
       "      <th>console</th>\n",
       "      <td>4.462198</td>\n",
       "    </tr>\n",
       "    <tr>\n",
       "      <th>showcase</th>\n",
       "      <td>4.388920</td>\n",
       "    </tr>\n",
       "    <tr>\n",
       "      <th>sony</th>\n",
       "      <td>3.893365</td>\n",
       "    </tr>\n",
       "    <tr>\n",
       "      <th>since</th>\n",
       "      <td>3.882686</td>\n",
       "    </tr>\n",
       "    <tr>\n",
       "      <th>ign</th>\n",
       "      <td>3.849152</td>\n",
       "    </tr>\n",
       "    <tr>\n",
       "      <th>june</th>\n",
       "      <td>3.783872</td>\n",
       "    </tr>\n",
       "    <tr>\n",
       "      <th>ea</th>\n",
       "      <td>3.662066</td>\n",
       "    </tr>\n",
       "    <tr>\n",
       "      <th>premium</th>\n",
       "      <td>3.572108</td>\n",
       "    </tr>\n",
       "    <tr>\n",
       "      <th>summer</th>\n",
       "      <td>3.533772</td>\n",
       "    </tr>\n",
       "    <tr>\n",
       "      <th>wait</th>\n",
       "      <td>3.504739</td>\n",
       "    </tr>\n",
       "    <tr>\n",
       "      <th>pc</th>\n",
       "      <td>3.352435</td>\n",
       "    </tr>\n",
       "    <tr>\n",
       "      <th>port</th>\n",
       "      <td>3.326524</td>\n",
       "    </tr>\n",
       "    <tr>\n",
       "      <th>bloodhunt</th>\n",
       "      <td>3.325659</td>\n",
       "    </tr>\n",
       "    <tr>\n",
       "      <th>fine</th>\n",
       "      <td>3.282335</td>\n",
       "    </tr>\n",
       "    <tr>\n",
       "      <th>internet</th>\n",
       "      <td>3.278371</td>\n",
       "    </tr>\n",
       "    <tr>\n",
       "      <th>returnal</th>\n",
       "      <td>3.264754</td>\n",
       "    </tr>\n",
       "    <tr>\n",
       "      <th>walmart</th>\n",
       "      <td>3.215838</td>\n",
       "    </tr>\n",
       "    <tr>\n",
       "      <th>hz</th>\n",
       "      <td>3.196443</td>\n",
       "    </tr>\n",
       "  </tbody>\n",
       "</table>\n",
       "</div>"
      ],
      "text/plain": [
       "                  coef\n",
       "trailer      17.311560\n",
       "dualsense    14.925936\n",
       "vrr          11.131490\n",
       "upgrade      10.697855\n",
       "version       9.890452\n",
       "review        6.554208\n",
       "issue         6.307919\n",
       "event         5.111698\n",
       "ssd           4.993786\n",
       "direct        4.860388\n",
       "preview       4.564372\n",
       "development   4.561219\n",
       "console       4.462198\n",
       "showcase      4.388920\n",
       "sony          3.893365\n",
       "since         3.882686\n",
       "ign           3.849152\n",
       "june          3.783872\n",
       "ea            3.662066\n",
       "premium       3.572108\n",
       "summer        3.533772\n",
       "wait          3.504739\n",
       "pc            3.352435\n",
       "port          3.326524\n",
       "bloodhunt     3.325659\n",
       "fine          3.282335\n",
       "internet      3.278371\n",
       "returnal      3.264754\n",
       "walmart       3.215838\n",
       "hz            3.196443"
      ]
     },
     "execution_count": 77,
     "metadata": {},
     "output_type": "execute_result"
    }
   ],
   "source": [
    "gs4_df.sort_values(by='coef', ascending=False).head(30)"
   ]
  },
  {
   "cell_type": "markdown",
   "id": "789ccdf3-8077-4ee9-a51b-9875961ce0fa",
   "metadata": {},
   "source": [
    "#### Model 5 - CountVectorizer + Decision Tree"
   ]
  },
  {
   "cell_type": "code",
   "execution_count": 78,
   "id": "200e07ce-1456-4e07-951b-51999ebf8435",
   "metadata": {},
   "outputs": [],
   "source": [
    "# Set up pipeline, hyperparameters and GridSearch\n",
    "pipe5 = Pipeline([\n",
    "    ('cvec', TfidfVectorizer()),\n",
    "    ('dt', DecisionTreeClassifier())\n",
    "])\n",
    "\n",
    "pipe5_params = {\n",
    "    'cvec__max_features': [4000],            #[4500, 5000]\n",
    "    'cvec__min_df': [3],                     #[1, 2]\n",
    "    'cvec__max_df': [0.85],                  #[0.90, 0.80]\n",
    "    'cvec__ngram_range': [(1,3)],            #[(1,2), (1,4)]\n",
    "    'dt__ccp_alpha': [0],                   #[0.1, 1]                              \n",
    "    'dt__max_depth': [20],                   #[10, 30]             \n",
    "    'dt__min_samples_leaf': [1],             #[2, 5]\n",
    "    'dt__min_samples_split': [30],           #[10, 20, 40]\n",
    "    'dt__random_state': [42]                       \n",
    "}\n",
    "\n",
    "gs5 = GridSearchCV(pipe5,\n",
    "                   param_grid=pipe5_params, \n",
    "                   cv=5,\n",
    "                   n_jobs=-1,\n",
    "                   verbose=1\n",
    "                  )"
   ]
  },
  {
   "cell_type": "code",
   "execution_count": 79,
   "id": "3185d568-30db-4eb5-84cc-52f7868f9522",
   "metadata": {
    "tags": []
   },
   "outputs": [
    {
     "data": {
      "text/plain": [
       "dict_keys(['cv', 'error_score', 'estimator__memory', 'estimator__steps', 'estimator__verbose', 'estimator__cvec', 'estimator__dt', 'estimator__cvec__analyzer', 'estimator__cvec__binary', 'estimator__cvec__decode_error', 'estimator__cvec__dtype', 'estimator__cvec__encoding', 'estimator__cvec__input', 'estimator__cvec__lowercase', 'estimator__cvec__max_df', 'estimator__cvec__max_features', 'estimator__cvec__min_df', 'estimator__cvec__ngram_range', 'estimator__cvec__norm', 'estimator__cvec__preprocessor', 'estimator__cvec__smooth_idf', 'estimator__cvec__stop_words', 'estimator__cvec__strip_accents', 'estimator__cvec__sublinear_tf', 'estimator__cvec__token_pattern', 'estimator__cvec__tokenizer', 'estimator__cvec__use_idf', 'estimator__cvec__vocabulary', 'estimator__dt__ccp_alpha', 'estimator__dt__class_weight', 'estimator__dt__criterion', 'estimator__dt__max_depth', 'estimator__dt__max_features', 'estimator__dt__max_leaf_nodes', 'estimator__dt__min_impurity_decrease', 'estimator__dt__min_samples_leaf', 'estimator__dt__min_samples_split', 'estimator__dt__min_weight_fraction_leaf', 'estimator__dt__random_state', 'estimator__dt__splitter', 'estimator', 'n_jobs', 'param_grid', 'pre_dispatch', 'refit', 'return_train_score', 'scoring', 'verbose'])"
      ]
     },
     "execution_count": 79,
     "metadata": {},
     "output_type": "execute_result"
    }
   ],
   "source": [
    "gs5.get_params().keys()"
   ]
  },
  {
   "cell_type": "code",
   "execution_count": 80,
   "id": "f37d2b29-e9ca-4e1c-bbd1-a69da53e09b2",
   "metadata": {
    "tags": []
   },
   "outputs": [
    {
     "name": "stdout",
     "output_type": "stream",
     "text": [
      "Fitting 5 folds for each of 1 candidates, totalling 5 fits\n",
      "CPU times: total: 1.41 s\n",
      "Wall time: 3.89 s\n"
     ]
    },
    {
     "data": {
      "text/plain": [
       "GridSearchCV(cv=5,\n",
       "             estimator=Pipeline(steps=[('cvec', TfidfVectorizer()),\n",
       "                                       ('dt', DecisionTreeClassifier())]),\n",
       "             n_jobs=-1,\n",
       "             param_grid={'cvec__max_df': [0.85], 'cvec__max_features': [4000],\n",
       "                         'cvec__min_df': [3], 'cvec__ngram_range': [(1, 3)],\n",
       "                         'dt__ccp_alpha': [0], 'dt__max_depth': [20],\n",
       "                         'dt__min_samples_leaf': [1],\n",
       "                         'dt__min_samples_split': [30],\n",
       "                         'dt__random_state': [42]},\n",
       "             verbose=1)"
      ]
     },
     "execution_count": 80,
     "metadata": {},
     "output_type": "execute_result"
    }
   ],
   "source": [
    "%%time\n",
    "# Fit GridSearch to training data.\n",
    "gs5.fit(X_train, y_train)"
   ]
  },
  {
   "cell_type": "code",
   "execution_count": 81,
   "id": "c642ea8b-b935-46ec-b22b-e15672d1653f",
   "metadata": {},
   "outputs": [
    {
     "data": {
      "text/plain": [
       "{'cvec__max_df': 0.85,\n",
       " 'cvec__max_features': 4000,\n",
       " 'cvec__min_df': 3,\n",
       " 'cvec__ngram_range': (1, 3),\n",
       " 'dt__ccp_alpha': 0,\n",
       " 'dt__max_depth': 20,\n",
       " 'dt__min_samples_leaf': 1,\n",
       " 'dt__min_samples_split': 30,\n",
       " 'dt__random_state': 42}"
      ]
     },
     "execution_count": 81,
     "metadata": {},
     "output_type": "execute_result"
    }
   ],
   "source": [
    "# Model 5 best parameters\n",
    "gs5.best_params_"
   ]
  },
  {
   "cell_type": "code",
   "execution_count": 82,
   "id": "b409f6a1-5f39-4705-846d-bdee1d4f7972",
   "metadata": {},
   "outputs": [
    {
     "name": "stdout",
     "output_type": "stream",
     "text": [
      "Model 5 Train score: 0.7846920521339126\n",
      "Model 5 Test score: 0.7230454777721002\n",
      "Model 5 CV score: 0.7245075261446309\n"
     ]
    }
   ],
   "source": [
    "print(f\"Model 5 Train score: {gs5.score(X_train, y_train)}\")\n",
    "print(f\"Model 5 Test score: {gs5.score(X_test, y_test)}\")\n",
    "print(f\"Model 5 CV score: {gs5.best_score_}\")"
   ]
  },
  {
   "cell_type": "code",
   "execution_count": 83,
   "id": "f62d0b9f-051a-4941-b82b-dcccb45a1880",
   "metadata": {},
   "outputs": [],
   "source": [
    "# Get predictions\n",
    "preds = gs5.predict(X_test)\n",
    "\n",
    "# Save confusion matrix values\n",
    "tn, fp, fn, tp = confusion_matrix(y_test, preds).ravel()\n",
    "cm = confusion_matrix(y_test, preds)"
   ]
  },
  {
   "cell_type": "code",
   "execution_count": 84,
   "id": "fc5b3dcd-3170-4f45-bfe0-4cf0c5cdaa82",
   "metadata": {},
   "outputs": [
    {
     "data": {
      "image/png": "[encoded data removed]",
      "text/plain": [
       "<Figure size 432x288 with 2 Axes>"
      ]
     },
     "metadata": {
      "needs_background": "light"
     },
     "output_type": "display_data"
    }
   ],
   "source": [
    "# View confusion matrix\n",
    "disp = ConfusionMatrixDisplay(cm)\n",
    "disp.plot();"
   ]
  },
  {
   "cell_type": "code",
   "execution_count": 85,
   "id": "c6db364a-8f5d-405c-aa78-d92a183e8e63",
   "metadata": {},
   "outputs": [
    {
     "name": "stdout",
     "output_type": "stream",
     "text": [
      "Model 5 F1 score: 0.8274984086569064\n"
     ]
    }
   ],
   "source": [
    "# Calculate F1 score\n",
    "print(f\"Model 5 F1 score: {f1_score(y_test, preds)}\")"
   ]
  },
  {
   "cell_type": "code",
   "execution_count": 86,
   "id": "a158c86a-53c1-49db-9c50-ece3f148cb01",
   "metadata": {},
   "outputs": [],
   "source": [
    "gs5_features = gs5.best_estimator_[0].get_feature_names_out()"
   ]
  },
  {
   "cell_type": "code",
   "execution_count": 87,
   "id": "f157caf8-3af4-4a36-9078-2aa4b8cd85c3",
   "metadata": {},
   "outputs": [
    {
     "data": {
      "text/plain": [
       "array([0.        , 0.        , 0.00523315, ..., 0.        , 0.        ,\n",
       "       0.        ])"
      ]
     },
     "execution_count": 87,
     "metadata": {},
     "output_type": "execute_result"
    }
   ],
   "source": [
    "gs5_coef = gs5.best_estimator_.steps[1][1].feature_importances_\n",
    "gs5_coef"
   ]
  },
  {
   "cell_type": "code",
   "execution_count": 88,
   "id": "28c01dde-0d64-4c1e-81fb-d3b21500d853",
   "metadata": {},
   "outputs": [],
   "source": [
    "gs5_df = pd.DataFrame(gs5_coef, index=gs5_features, columns=['node_prob'])"
   ]
  },
  {
   "cell_type": "code",
   "execution_count": 89,
   "id": "ad7f3cb7-8961-4f12-8b58-82573273f384",
   "metadata": {},
   "outputs": [
    {
     "data": {
      "text/html": [
       "<div>\n",
       "<style scoped>\n",
       "    .dataframe tbody tr th:only-of-type {\n",
       "        vertical-align: middle;\n",
       "    }\n",
       "\n",
       "    .dataframe tbody tr th {\n",
       "        vertical-align: top;\n",
       "    }\n",
       "\n",
       "    .dataframe thead th {\n",
       "        text-align: right;\n",
       "    }\n",
       "</style>\n",
       "<table border=\"1\" class=\"dataframe\">\n",
       "  <thead>\n",
       "    <tr style=\"text-align: right;\">\n",
       "      <th></th>\n",
       "      <th>node_prob</th>\n",
       "    </tr>\n",
       "  </thead>\n",
       "  <tbody>\n",
       "    <tr>\n",
       "      <th>server</th>\n",
       "      <td>0.071486</td>\n",
       "    </tr>\n",
       "    <tr>\n",
       "      <th>trailer</th>\n",
       "      <td>0.066256</td>\n",
       "    </tr>\n",
       "    <tr>\n",
       "      <th>good</th>\n",
       "      <td>0.044733</td>\n",
       "    </tr>\n",
       "    <tr>\n",
       "      <th>play</th>\n",
       "      <td>0.037885</td>\n",
       "    </tr>\n",
       "    <tr>\n",
       "      <th>slim</th>\n",
       "      <td>0.036393</td>\n",
       "    </tr>\n",
       "    <tr>\n",
       "      <th>friend</th>\n",
       "      <td>0.033305</td>\n",
       "    </tr>\n",
       "    <tr>\n",
       "      <th>episode</th>\n",
       "      <td>0.031492</td>\n",
       "    </tr>\n",
       "    <tr>\n",
       "      <th>played</th>\n",
       "      <td>0.025039</td>\n",
       "    </tr>\n",
       "    <tr>\n",
       "      <th>opinion</th>\n",
       "      <td>0.023212</td>\n",
       "    </tr>\n",
       "    <tr>\n",
       "      <th>asking</th>\n",
       "      <td>0.021815</td>\n",
       "    </tr>\n",
       "    <tr>\n",
       "      <th>help</th>\n",
       "      <td>0.020593</td>\n",
       "    </tr>\n",
       "    <tr>\n",
       "      <th>simulation</th>\n",
       "      <td>0.018956</td>\n",
       "    </tr>\n",
       "    <tr>\n",
       "      <th>get</th>\n",
       "      <td>0.018661</td>\n",
       "    </tr>\n",
       "    <tr>\n",
       "      <th>great</th>\n",
       "      <td>0.017508</td>\n",
       "    </tr>\n",
       "    <tr>\n",
       "      <th>code</th>\n",
       "      <td>0.017265</td>\n",
       "    </tr>\n",
       "    <tr>\n",
       "      <th>people play</th>\n",
       "      <td>0.016802</td>\n",
       "    </tr>\n",
       "    <tr>\n",
       "      <th>wanna</th>\n",
       "      <td>0.016079</td>\n",
       "    </tr>\n",
       "    <tr>\n",
       "      <th>like</th>\n",
       "      <td>0.015999</td>\n",
       "    </tr>\n",
       "    <tr>\n",
       "      <th>dualsense</th>\n",
       "      <td>0.015531</td>\n",
       "    </tr>\n",
       "    <tr>\n",
       "      <th>sekiro</th>\n",
       "      <td>0.015187</td>\n",
       "    </tr>\n",
       "    <tr>\n",
       "      <th>join</th>\n",
       "      <td>0.014682</td>\n",
       "    </tr>\n",
       "    <tr>\n",
       "      <th>gaming tv</th>\n",
       "      <td>0.013766</td>\n",
       "    </tr>\n",
       "    <tr>\n",
       "      <th>redemption</th>\n",
       "      <td>0.013718</td>\n",
       "    </tr>\n",
       "    <tr>\n",
       "      <th>vrr</th>\n",
       "      <td>0.013192</td>\n",
       "    </tr>\n",
       "    <tr>\n",
       "      <th>money</th>\n",
       "      <td>0.011605</td>\n",
       "    </tr>\n",
       "    <tr>\n",
       "      <th>looking</th>\n",
       "      <td>0.011345</td>\n",
       "    </tr>\n",
       "    <tr>\n",
       "      <th>looking friend</th>\n",
       "      <td>0.008722</td>\n",
       "    </tr>\n",
       "    <tr>\n",
       "      <th>kinda</th>\n",
       "      <td>0.008709</td>\n",
       "    </tr>\n",
       "    <tr>\n",
       "      <th>ghost</th>\n",
       "      <td>0.008631</td>\n",
       "    </tr>\n",
       "    <tr>\n",
       "      <th>thanks</th>\n",
       "      <td>0.008389</td>\n",
       "    </tr>\n",
       "  </tbody>\n",
       "</table>\n",
       "</div>"
      ],
      "text/plain": [
       "                node_prob\n",
       "server           0.071486\n",
       "trailer          0.066256\n",
       "good             0.044733\n",
       "play             0.037885\n",
       "slim             0.036393\n",
       "friend           0.033305\n",
       "episode          0.031492\n",
       "played           0.025039\n",
       "opinion          0.023212\n",
       "asking           0.021815\n",
       "help             0.020593\n",
       "simulation       0.018956\n",
       "get              0.018661\n",
       "great            0.017508\n",
       "code             0.017265\n",
       "people play      0.016802\n",
       "wanna            0.016079\n",
       "like             0.015999\n",
       "dualsense        0.015531\n",
       "sekiro           0.015187\n",
       "join             0.014682\n",
       "gaming tv        0.013766\n",
       "redemption       0.013718\n",
       "vrr              0.013192\n",
       "money            0.011605\n",
       "looking          0.011345\n",
       "looking friend   0.008722\n",
       "kinda            0.008709\n",
       "ghost            0.008631\n",
       "thanks           0.008389"
      ]
     },
     "execution_count": 89,
     "metadata": {},
     "output_type": "execute_result"
    }
   ],
   "source": [
    "gs5_df.sort_values(by='node_prob', ascending=False).head(30)"
   ]
  },
  {
   "cell_type": "markdown",
   "id": "d69d0796-497a-4f41-a9c6-fbe49d5fd020",
   "metadata": {},
   "source": [
    "#### Model 6 - TF-IDF Vectorizer + Decision Tree"
   ]
  },
  {
   "cell_type": "code",
   "execution_count": 90,
   "id": "17268bd2-893b-4ddd-b761-4b6ae46d3614",
   "metadata": {},
   "outputs": [],
   "source": [
    "# Set up pipeline, hyperparameters and GridSearch\n",
    "pipe6 = Pipeline([\n",
    "    ('tvec', TfidfVectorizer()),\n",
    "    ('dt', DecisionTreeClassifier())\n",
    "])\n",
    "\n",
    "pipe6_params = {\n",
    "    'tvec__max_features': [4500],            #[4000, 5000, 5500]\n",
    "    'tvec__min_df': [1],                     #[2]\n",
    "    'tvec__max_df': [0.85],                  #[0.80, 0.90]\n",
    "    'tvec__ngram_range': [(1,2)],            #[(1,3)]\n",
    "    'dt__ccp_alpha': [0] ,                   #[0.01, 0.1, 1, 10]                              \n",
    "    'dt__max_depth': [20],                   #[None, 5, 10]             \n",
    "    'dt__min_samples_leaf': [1],             #[2, 5, 10]\n",
    "    'dt__min_samples_split': [20],           #[2,10,20,50]\n",
    "    'dt__random_state': [42]                       \n",
    "}\n",
    "\n",
    "gs6 = GridSearchCV(pipe6,\n",
    "                   param_grid=pipe6_params, \n",
    "                   cv=5,\n",
    "                   n_jobs=-1,\n",
    "                   verbose=1\n",
    "                  )"
   ]
  },
  {
   "cell_type": "code",
   "execution_count": 91,
   "id": "9fefdc47-d89f-4af4-a239-1cba8afe21b7",
   "metadata": {
    "tags": []
   },
   "outputs": [
    {
     "data": {
      "text/plain": [
       "dict_keys(['cv', 'error_score', 'estimator__memory', 'estimator__steps', 'estimator__verbose', 'estimator__tvec', 'estimator__dt', 'estimator__tvec__analyzer', 'estimator__tvec__binary', 'estimator__tvec__decode_error', 'estimator__tvec__dtype', 'estimator__tvec__encoding', 'estimator__tvec__input', 'estimator__tvec__lowercase', 'estimator__tvec__max_df', 'estimator__tvec__max_features', 'estimator__tvec__min_df', 'estimator__tvec__ngram_range', 'estimator__tvec__norm', 'estimator__tvec__preprocessor', 'estimator__tvec__smooth_idf', 'estimator__tvec__stop_words', 'estimator__tvec__strip_accents', 'estimator__tvec__sublinear_tf', 'estimator__tvec__token_pattern', 'estimator__tvec__tokenizer', 'estimator__tvec__use_idf', 'estimator__tvec__vocabulary', 'estimator__dt__ccp_alpha', 'estimator__dt__class_weight', 'estimator__dt__criterion', 'estimator__dt__max_depth', 'estimator__dt__max_features', 'estimator__dt__max_leaf_nodes', 'estimator__dt__min_impurity_decrease', 'estimator__dt__min_samples_leaf', 'estimator__dt__min_samples_split', 'estimator__dt__min_weight_fraction_leaf', 'estimator__dt__random_state', 'estimator__dt__splitter', 'estimator', 'n_jobs', 'param_grid', 'pre_dispatch', 'refit', 'return_train_score', 'scoring', 'verbose'])"
      ]
     },
     "execution_count": 91,
     "metadata": {},
     "output_type": "execute_result"
    }
   ],
   "source": [
    "gs6.get_params().keys()"
   ]
  },
  {
   "cell_type": "code",
   "execution_count": 92,
   "id": "538eb97c-fbd9-4341-8514-98e93b5f907c",
   "metadata": {
    "tags": []
   },
   "outputs": [
    {
     "name": "stdout",
     "output_type": "stream",
     "text": [
      "Fitting 5 folds for each of 1 candidates, totalling 5 fits\n",
      "CPU times: total: 719 ms\n",
      "Wall time: 1.84 s\n"
     ]
    },
    {
     "data": {
      "text/plain": [
       "GridSearchCV(cv=5,\n",
       "             estimator=Pipeline(steps=[('tvec', TfidfVectorizer()),\n",
       "                                       ('dt', DecisionTreeClassifier())]),\n",
       "             n_jobs=-1,\n",
       "             param_grid={'dt__ccp_alpha': [0], 'dt__max_depth': [20],\n",
       "                         'dt__min_samples_leaf': [1],\n",
       "                         'dt__min_samples_split': [20],\n",
       "                         'dt__random_state': [42], 'tvec__max_df': [0.85],\n",
       "                         'tvec__max_features': [4500], 'tvec__min_df': [1],\n",
       "                         'tvec__ngram_range': [(1, 2)]},\n",
       "             verbose=1)"
      ]
     },
     "execution_count": 92,
     "metadata": {},
     "output_type": "execute_result"
    }
   ],
   "source": [
    "%%time\n",
    "# Fit GridSearch to training data.\n",
    "gs6.fit(X_train, y_train)"
   ]
  },
  {
   "cell_type": "code",
   "execution_count": 93,
   "id": "979251dc-2886-4cfc-b99e-7173c63fe065",
   "metadata": {},
   "outputs": [
    {
     "data": {
      "text/plain": [
       "{'dt__ccp_alpha': 0,\n",
       " 'dt__max_depth': 20,\n",
       " 'dt__min_samples_leaf': 1,\n",
       " 'dt__min_samples_split': 20,\n",
       " 'dt__random_state': 42,\n",
       " 'tvec__max_df': 0.85,\n",
       " 'tvec__max_features': 4500,\n",
       " 'tvec__min_df': 1,\n",
       " 'tvec__ngram_range': (1, 2)}"
      ]
     },
     "execution_count": 93,
     "metadata": {},
     "output_type": "execute_result"
    }
   ],
   "source": [
    "# Model 6 best parameters\n",
    "gs6.best_params_"
   ]
  },
  {
   "cell_type": "code",
   "execution_count": 94,
   "id": "d20917f0-8f5d-4ccb-933a-d5630b464769",
   "metadata": {},
   "outputs": [
    {
     "name": "stdout",
     "output_type": "stream",
     "text": [
      "Model 6 Train score: 0.7877587528750319\n",
      "Model 6 Test score: 0.717935615738375\n",
      "Model 6 CV score: 0.7216953716964735\n"
     ]
    }
   ],
   "source": [
    "print(f\"Model 6 Train score: {gs6.score(X_train, y_train)}\")\n",
    "print(f\"Model 6 Test score: {gs6.score(X_test, y_test)}\")\n",
    "print(f\"Model 6 CV score: {gs6.best_score_}\")"
   ]
  },
  {
   "cell_type": "code",
   "execution_count": 95,
   "id": "014c9eb6-040b-421e-bba7-80b3eaea73df",
   "metadata": {},
   "outputs": [],
   "source": [
    "# Get predictions\n",
    "preds = gs6.predict(X_test)\n",
    "\n",
    "# Save confusion matrix values\n",
    "tn, fp, fn, tp = confusion_matrix(y_test, preds).ravel()\n",
    "cm = confusion_matrix(y_test, preds)"
   ]
  },
  {
   "cell_type": "code",
   "execution_count": 96,
   "id": "a0ee8123-a9fd-46a8-b773-372442126156",
   "metadata": {},
   "outputs": [
    {
     "data": {
      "image/png": "[encoded data removed]",
      "text/plain": [
       "<Figure size 432x288 with 2 Axes>"
      ]
     },
     "metadata": {
      "needs_background": "light"
     },
     "output_type": "display_data"
    }
   ],
   "source": [
    "# View confusion matrix\n",
    "disp = ConfusionMatrixDisplay(cm)\n",
    "disp.plot();"
   ]
  },
  {
   "cell_type": "code",
   "execution_count": 97,
   "id": "2c722bed-6ed4-4620-8ae5-12e3c078813e",
   "metadata": {},
   "outputs": [
    {
     "name": "stdout",
     "output_type": "stream",
     "text": [
      "Model 6 F1 score: 0.8243157224697645\n"
     ]
    }
   ],
   "source": [
    "# Calculate F1 score\n",
    "print(f\"Model 6 F1 score: {f1_score(y_test, preds)}\")"
   ]
  },
  {
   "cell_type": "code",
   "execution_count": 98,
   "id": "8875dab5-6126-46d9-9308-916cfcf32d42",
   "metadata": {},
   "outputs": [
    {
     "data": {
      "text/plain": [
       "array(['aaa', 'ability', 'able', ..., 'zero dawn', 'zombie', 'zone'],\n",
       "      dtype=object)"
      ]
     },
     "execution_count": 98,
     "metadata": {},
     "output_type": "execute_result"
    }
   ],
   "source": [
    "gs6_features = gs6.best_estimator_[0].get_feature_names_out()\n",
    "gs6_features"
   ]
  },
  {
   "cell_type": "code",
   "execution_count": 99,
   "id": "553b90e1-7c2a-49fd-8c5a-b61e88856b05",
   "metadata": {},
   "outputs": [
    {
     "data": {
      "text/plain": [
       "array([0.        , 0.        , 0.00470747, ..., 0.        , 0.        ,\n",
       "       0.        ])"
      ]
     },
     "execution_count": 99,
     "metadata": {},
     "output_type": "execute_result"
    }
   ],
   "source": [
    "gs6_coef = gs6.best_estimator_.steps[1][1].feature_importances_\n",
    "gs6_coef"
   ]
  },
  {
   "cell_type": "code",
   "execution_count": 100,
   "id": "23c2cf39-6204-4815-9194-cb3b5d1b92bf",
   "metadata": {},
   "outputs": [],
   "source": [
    "gs6_df = pd.DataFrame(gs6_coef, index=gs6_features, columns=['node_prob'])"
   ]
  },
  {
   "cell_type": "code",
   "execution_count": 101,
   "id": "4c07e999-9291-4af9-b4c1-b5f2704ed6ce",
   "metadata": {},
   "outputs": [
    {
     "data": {
      "text/html": [
       "<div>\n",
       "<style scoped>\n",
       "    .dataframe tbody tr th:only-of-type {\n",
       "        vertical-align: middle;\n",
       "    }\n",
       "\n",
       "    .dataframe tbody tr th {\n",
       "        vertical-align: top;\n",
       "    }\n",
       "\n",
       "    .dataframe thead th {\n",
       "        text-align: right;\n",
       "    }\n",
       "</style>\n",
       "<table border=\"1\" class=\"dataframe\">\n",
       "  <thead>\n",
       "    <tr style=\"text-align: right;\">\n",
       "      <th></th>\n",
       "      <th>node_prob</th>\n",
       "    </tr>\n",
       "  </thead>\n",
       "  <tbody>\n",
       "    <tr>\n",
       "      <th>server</th>\n",
       "      <td>0.068507</td>\n",
       "    </tr>\n",
       "    <tr>\n",
       "      <th>trailer</th>\n",
       "      <td>0.063527</td>\n",
       "    </tr>\n",
       "    <tr>\n",
       "      <th>good</th>\n",
       "      <td>0.045855</td>\n",
       "    </tr>\n",
       "    <tr>\n",
       "      <th>play</th>\n",
       "      <td>0.036589</td>\n",
       "    </tr>\n",
       "    <tr>\n",
       "      <th>slim</th>\n",
       "      <td>0.035068</td>\n",
       "    </tr>\n",
       "    <tr>\n",
       "      <th>friend</th>\n",
       "      <td>0.032456</td>\n",
       "    </tr>\n",
       "    <tr>\n",
       "      <th>episode</th>\n",
       "      <td>0.028104</td>\n",
       "    </tr>\n",
       "    <tr>\n",
       "      <th>get</th>\n",
       "      <td>0.024333</td>\n",
       "    </tr>\n",
       "    <tr>\n",
       "      <th>someone</th>\n",
       "      <td>0.023153</td>\n",
       "    </tr>\n",
       "    <tr>\n",
       "      <th>support</th>\n",
       "      <td>0.022674</td>\n",
       "    </tr>\n",
       "    <tr>\n",
       "      <th>played</th>\n",
       "      <td>0.022266</td>\n",
       "    </tr>\n",
       "    <tr>\n",
       "      <th>opinion</th>\n",
       "      <td>0.022022</td>\n",
       "    </tr>\n",
       "    <tr>\n",
       "      <th>great</th>\n",
       "      <td>0.018451</td>\n",
       "    </tr>\n",
       "    <tr>\n",
       "      <th>simulation</th>\n",
       "      <td>0.017982</td>\n",
       "    </tr>\n",
       "    <tr>\n",
       "      <th>dualsense</th>\n",
       "      <td>0.017394</td>\n",
       "    </tr>\n",
       "    <tr>\n",
       "      <th>sekiro</th>\n",
       "      <td>0.016560</td>\n",
       "    </tr>\n",
       "    <tr>\n",
       "      <th>one</th>\n",
       "      <td>0.016292</td>\n",
       "    </tr>\n",
       "    <tr>\n",
       "      <th>vrr</th>\n",
       "      <td>0.014870</td>\n",
       "    </tr>\n",
       "    <tr>\n",
       "      <th>code</th>\n",
       "      <td>0.013590</td>\n",
       "    </tr>\n",
       "    <tr>\n",
       "      <th>guy</th>\n",
       "      <td>0.012992</td>\n",
       "    </tr>\n",
       "    <tr>\n",
       "      <th>oled</th>\n",
       "      <td>0.012733</td>\n",
       "    </tr>\n",
       "    <tr>\n",
       "      <th>dualshock</th>\n",
       "      <td>0.012669</td>\n",
       "    </tr>\n",
       "    <tr>\n",
       "      <th>looking</th>\n",
       "      <td>0.012147</td>\n",
       "    </tr>\n",
       "    <tr>\n",
       "      <th>everyone</th>\n",
       "      <td>0.012100</td>\n",
       "    </tr>\n",
       "    <tr>\n",
       "      <th>mainly</th>\n",
       "      <td>0.010792</td>\n",
       "    </tr>\n",
       "    <tr>\n",
       "      <th>add</th>\n",
       "      <td>0.010502</td>\n",
       "    </tr>\n",
       "    <tr>\n",
       "      <th>last</th>\n",
       "      <td>0.010061</td>\n",
       "    </tr>\n",
       "    <tr>\n",
       "      <th>like</th>\n",
       "      <td>0.009645</td>\n",
       "    </tr>\n",
       "    <tr>\n",
       "      <th>beat</th>\n",
       "      <td>0.007845</td>\n",
       "    </tr>\n",
       "    <tr>\n",
       "      <th>join</th>\n",
       "      <td>0.007842</td>\n",
       "    </tr>\n",
       "  </tbody>\n",
       "</table>\n",
       "</div>"
      ],
      "text/plain": [
       "            node_prob\n",
       "server       0.068507\n",
       "trailer      0.063527\n",
       "good         0.045855\n",
       "play         0.036589\n",
       "slim         0.035068\n",
       "friend       0.032456\n",
       "episode      0.028104\n",
       "get          0.024333\n",
       "someone      0.023153\n",
       "support      0.022674\n",
       "played       0.022266\n",
       "opinion      0.022022\n",
       "great        0.018451\n",
       "simulation   0.017982\n",
       "dualsense    0.017394\n",
       "sekiro       0.016560\n",
       "one          0.016292\n",
       "vrr          0.014870\n",
       "code         0.013590\n",
       "guy          0.012992\n",
       "oled         0.012733\n",
       "dualshock    0.012669\n",
       "looking      0.012147\n",
       "everyone     0.012100\n",
       "mainly       0.010792\n",
       "add          0.010502\n",
       "last         0.010061\n",
       "like         0.009645\n",
       "beat         0.007845\n",
       "join         0.007842"
      ]
     },
     "execution_count": 101,
     "metadata": {},
     "output_type": "execute_result"
    }
   ],
   "source": [
    "gs6_df.sort_values(by='node_prob', ascending=False).head(30)"
   ]
  },
  {
   "cell_type": "markdown",
   "id": "9e9f245f-3f61-4512-a11e-ab3960282edf",
   "metadata": {},
   "source": [
    "#### Model 7 - CountVectorizer + Random Forest"
   ]
  },
  {
   "cell_type": "code",
   "execution_count": 102,
   "id": "08d64118-9482-4f61-b00c-e40fa87ccf71",
   "metadata": {},
   "outputs": [],
   "source": [
    "# Set up pipeline, hyperparameters and GridSearch\n",
    "pipe7 = Pipeline([\n",
    "    ('cvec', CountVectorizer()),\n",
    "    ('rt', RandomForestClassifier())\n",
    "])\n",
    "\n",
    "pipe7_params = {\n",
    "    'cvec__max_features': [4500],         #[4000, 5000]      \n",
    "    'cvec__min_df': [1],                  #[2]        \n",
    "    'cvec__max_df': [0.85],               #[0.90]\n",
    "    'cvec__ngram_range': [(1,2)],         #[(1,3)]     \n",
    "    'rt__ccp_alpha': [0],                 #[1, 0.1]         \n",
    "    'rt__max_depth': [None],              #[20]         \n",
    "    'rt__min_samples_leaf': [1],            \n",
    "    'rt__min_samples_split': [40],        #[20, 60] \n",
    "    'rt__n_estimators': [200],            #[100, 300]\n",
    "    'rt__random_state': [42]                   \n",
    "}\n",
    "\n",
    "gs7 = GridSearchCV(pipe7,\n",
    "                   param_grid=pipe7_params, \n",
    "                   cv=5,\n",
    "                   n_jobs=-1,\n",
    "                   verbose=1\n",
    "                  )"
   ]
  },
  {
   "cell_type": "code",
   "execution_count": 103,
   "id": "a7546626-1503-4a49-abda-e4f9bdd759e0",
   "metadata": {},
   "outputs": [
    {
     "data": {
      "text/plain": [
       "dict_keys(['cv', 'error_score', 'estimator__memory', 'estimator__steps', 'estimator__verbose', 'estimator__cvec', 'estimator__rt', 'estimator__cvec__analyzer', 'estimator__cvec__binary', 'estimator__cvec__decode_error', 'estimator__cvec__dtype', 'estimator__cvec__encoding', 'estimator__cvec__input', 'estimator__cvec__lowercase', 'estimator__cvec__max_df', 'estimator__cvec__max_features', 'estimator__cvec__min_df', 'estimator__cvec__ngram_range', 'estimator__cvec__preprocessor', 'estimator__cvec__stop_words', 'estimator__cvec__strip_accents', 'estimator__cvec__token_pattern', 'estimator__cvec__tokenizer', 'estimator__cvec__vocabulary', 'estimator__rt__bootstrap', 'estimator__rt__ccp_alpha', 'estimator__rt__class_weight', 'estimator__rt__criterion', 'estimator__rt__max_depth', 'estimator__rt__max_features', 'estimator__rt__max_leaf_nodes', 'estimator__rt__max_samples', 'estimator__rt__min_impurity_decrease', 'estimator__rt__min_samples_leaf', 'estimator__rt__min_samples_split', 'estimator__rt__min_weight_fraction_leaf', 'estimator__rt__n_estimators', 'estimator__rt__n_jobs', 'estimator__rt__oob_score', 'estimator__rt__random_state', 'estimator__rt__verbose', 'estimator__rt__warm_start', 'estimator', 'n_jobs', 'param_grid', 'pre_dispatch', 'refit', 'return_train_score', 'scoring', 'verbose'])"
      ]
     },
     "execution_count": 103,
     "metadata": {},
     "output_type": "execute_result"
    }
   ],
   "source": [
    "gs7.get_params().keys()"
   ]
  },
  {
   "cell_type": "code",
   "execution_count": 104,
   "id": "0b2089bf-e215-4c1f-8dba-41d0c6e16b4c",
   "metadata": {
    "tags": []
   },
   "outputs": [
    {
     "name": "stdout",
     "output_type": "stream",
     "text": [
      "Fitting 5 folds for each of 1 candidates, totalling 5 fits\n",
      "CPU times: total: 4.19 s\n",
      "Wall time: 10.1 s\n"
     ]
    },
    {
     "data": {
      "text/plain": [
       "GridSearchCV(cv=5,\n",
       "             estimator=Pipeline(steps=[('cvec', CountVectorizer()),\n",
       "                                       ('rt', RandomForestClassifier())]),\n",
       "             n_jobs=-1,\n",
       "             param_grid={'cvec__max_df': [0.85], 'cvec__max_features': [4500],\n",
       "                         'cvec__min_df': [1], 'cvec__ngram_range': [(1, 2)],\n",
       "                         'rt__ccp_alpha': [0], 'rt__max_depth': [None],\n",
       "                         'rt__min_samples_leaf': [1],\n",
       "                         'rt__min_samples_split': [40],\n",
       "                         'rt__n_estimators': [200], 'rt__random_state': [42]},\n",
       "             verbose=1)"
      ]
     },
     "execution_count": 104,
     "metadata": {},
     "output_type": "execute_result"
    }
   ],
   "source": [
    "%%time\n",
    "# Fit GridSearch to training data.\n",
    "gs7.fit(X_train, y_train)"
   ]
  },
  {
   "cell_type": "code",
   "execution_count": 105,
   "id": "51cd5824-376a-4180-9b67-d67ee106fa24",
   "metadata": {},
   "outputs": [
    {
     "data": {
      "text/plain": [
       "{'cvec__max_df': 0.85,\n",
       " 'cvec__max_features': 4500,\n",
       " 'cvec__min_df': 1,\n",
       " 'cvec__ngram_range': (1, 2),\n",
       " 'rt__ccp_alpha': 0,\n",
       " 'rt__max_depth': None,\n",
       " 'rt__min_samples_leaf': 1,\n",
       " 'rt__min_samples_split': 40,\n",
       " 'rt__n_estimators': 200,\n",
       " 'rt__random_state': 42}"
      ]
     },
     "execution_count": 105,
     "metadata": {},
     "output_type": "execute_result"
    }
   ],
   "source": [
    "# Model 7 best parameters\n",
    "gs7.best_params_"
   ]
  },
  {
   "cell_type": "code",
   "execution_count": 106,
   "id": "7974a089-f537-4081-b0b7-a1c83c916acc",
   "metadata": {},
   "outputs": [
    {
     "name": "stdout",
     "output_type": "stream",
     "text": [
      "Model 7 Train score: 0.9308714541272681\n",
      "Model 7 Test score: 0.7301992846193153\n",
      "Model 7 CV score: 0.7386905446815109\n"
     ]
    }
   ],
   "source": [
    "print(f\"Model 7 Train score: {gs7.score(X_train, y_train)}\")\n",
    "print(f\"Model 7 Test score: {gs7.score(X_test, y_test)}\")\n",
    "print(f\"Model 7 CV score: {gs7.best_score_}\")"
   ]
  },
  {
   "cell_type": "code",
   "execution_count": 107,
   "id": "fdf03c0a-7508-4e84-9ead-935b65b73be1",
   "metadata": {},
   "outputs": [],
   "source": [
    "# Get predictions\n",
    "preds = gs7.predict(X_test)\n",
    "\n",
    "# Save confusion matrix values\n",
    "tn, fp, fn, tp = confusion_matrix(y_test, preds).ravel()\n",
    "cm = confusion_matrix(y_test, preds)"
   ]
  },
  {
   "cell_type": "code",
   "execution_count": 108,
   "id": "60745918-73dc-4e0f-beeb-f7d1874780ab",
   "metadata": {},
   "outputs": [
    {
     "name": "stdout",
     "output_type": "stream",
     "text": [
      "Model 7 F1 score: 0.8308776425368353\n"
     ]
    }
   ],
   "source": [
    "# Calculate F1 score\n",
    "print(f\"Model 7 F1 score: {f1_score(y_test, preds)}\")"
   ]
  },
  {
   "cell_type": "code",
   "execution_count": 109,
   "id": "b4a07413-0b3d-4365-8ba0-e66db5b4666e",
   "metadata": {},
   "outputs": [],
   "source": [
    "gs7_features = gs7.best_estimator_[0].get_feature_names_out()"
   ]
  },
  {
   "cell_type": "code",
   "execution_count": 110,
   "id": "ac8076d4-62ee-41d9-8692-c798aa34bfd6",
   "metadata": {},
   "outputs": [
    {
     "data": {
      "text/plain": [
       "array([4.37301294e-05, 5.24183462e-05, 5.21537733e-04, ...,\n",
       "       5.43149262e-04, 4.70661129e-04, 2.54452105e-04])"
      ]
     },
     "execution_count": 110,
     "metadata": {},
     "output_type": "execute_result"
    }
   ],
   "source": [
    "gs7_coef = gs7.best_estimator_.steps[1][1].feature_importances_\n",
    "gs7_coef"
   ]
  },
  {
   "cell_type": "code",
   "execution_count": 111,
   "id": "e64a3615-a8e5-42b6-9eeb-447468533863",
   "metadata": {},
   "outputs": [],
   "source": [
    "gs7_df = pd.DataFrame(gs7_coef, index=gs7_features, columns=['node_prob'])"
   ]
  },
  {
   "cell_type": "code",
   "execution_count": 112,
   "id": "161bdc7f-1936-4acb-b689-5d77458d99e8",
   "metadata": {},
   "outputs": [
    {
     "data": {
      "text/html": [
       "<div>\n",
       "<style scoped>\n",
       "    .dataframe tbody tr th:only-of-type {\n",
       "        vertical-align: middle;\n",
       "    }\n",
       "\n",
       "    .dataframe tbody tr th {\n",
       "        vertical-align: top;\n",
       "    }\n",
       "\n",
       "    .dataframe thead th {\n",
       "        text-align: right;\n",
       "    }\n",
       "</style>\n",
       "<table border=\"1\" class=\"dataframe\">\n",
       "  <thead>\n",
       "    <tr style=\"text-align: right;\">\n",
       "      <th></th>\n",
       "      <th>node_prob</th>\n",
       "    </tr>\n",
       "  </thead>\n",
       "  <tbody>\n",
       "    <tr>\n",
       "      <th>trailer</th>\n",
       "      <td>0.009043</td>\n",
       "    </tr>\n",
       "    <tr>\n",
       "      <th>play</th>\n",
       "      <td>0.005815</td>\n",
       "    </tr>\n",
       "    <tr>\n",
       "      <th>server</th>\n",
       "      <td>0.005746</td>\n",
       "    </tr>\n",
       "    <tr>\n",
       "      <th>played</th>\n",
       "      <td>0.005467</td>\n",
       "    </tr>\n",
       "    <tr>\n",
       "      <th>good</th>\n",
       "      <td>0.005176</td>\n",
       "    </tr>\n",
       "    <tr>\n",
       "      <th>slim</th>\n",
       "      <td>0.004881</td>\n",
       "    </tr>\n",
       "    <tr>\n",
       "      <th>simulation</th>\n",
       "      <td>0.004279</td>\n",
       "    </tr>\n",
       "    <tr>\n",
       "      <th>episode</th>\n",
       "      <td>0.003959</td>\n",
       "    </tr>\n",
       "    <tr>\n",
       "      <th>friend</th>\n",
       "      <td>0.003694</td>\n",
       "    </tr>\n",
       "    <tr>\n",
       "      <th>looking</th>\n",
       "      <td>0.003406</td>\n",
       "    </tr>\n",
       "    <tr>\n",
       "      <th>someone</th>\n",
       "      <td>0.003273</td>\n",
       "    </tr>\n",
       "    <tr>\n",
       "      <th>avenger episode</th>\n",
       "      <td>0.003154</td>\n",
       "    </tr>\n",
       "    <tr>\n",
       "      <th>wanna</th>\n",
       "      <td>0.003101</td>\n",
       "    </tr>\n",
       "    <tr>\n",
       "      <th>vrr</th>\n",
       "      <td>0.003094</td>\n",
       "    </tr>\n",
       "    <tr>\n",
       "      <th>gta</th>\n",
       "      <td>0.003065</td>\n",
       "    </tr>\n",
       "    <tr>\n",
       "      <th>sony</th>\n",
       "      <td>0.003042</td>\n",
       "    </tr>\n",
       "    <tr>\n",
       "      <th>guy</th>\n",
       "      <td>0.003021</td>\n",
       "    </tr>\n",
       "    <tr>\n",
       "      <th>code</th>\n",
       "      <td>0.002908</td>\n",
       "    </tr>\n",
       "    <tr>\n",
       "      <th>sekiro</th>\n",
       "      <td>0.002864</td>\n",
       "    </tr>\n",
       "    <tr>\n",
       "      <th>dualsense</th>\n",
       "      <td>0.002860</td>\n",
       "    </tr>\n",
       "    <tr>\n",
       "      <th>money</th>\n",
       "      <td>0.002645</td>\n",
       "    </tr>\n",
       "    <tr>\n",
       "      <th>great</th>\n",
       "      <td>0.002584</td>\n",
       "    </tr>\n",
       "    <tr>\n",
       "      <th>need help</th>\n",
       "      <td>0.002581</td>\n",
       "    </tr>\n",
       "    <tr>\n",
       "      <th>please</th>\n",
       "      <td>0.002576</td>\n",
       "    </tr>\n",
       "    <tr>\n",
       "      <th>account</th>\n",
       "      <td>0.002565</td>\n",
       "    </tr>\n",
       "    <tr>\n",
       "      <th>discord server</th>\n",
       "      <td>0.002378</td>\n",
       "    </tr>\n",
       "    <tr>\n",
       "      <th>gaming tv</th>\n",
       "      <td>0.002361</td>\n",
       "    </tr>\n",
       "    <tr>\n",
       "      <th>dead</th>\n",
       "      <td>0.002291</td>\n",
       "    </tr>\n",
       "    <tr>\n",
       "      <th>review</th>\n",
       "      <td>0.002288</td>\n",
       "    </tr>\n",
       "    <tr>\n",
       "      <th>want</th>\n",
       "      <td>0.002264</td>\n",
       "    </tr>\n",
       "  </tbody>\n",
       "</table>\n",
       "</div>"
      ],
      "text/plain": [
       "                 node_prob\n",
       "trailer           0.009043\n",
       "play              0.005815\n",
       "server            0.005746\n",
       "played            0.005467\n",
       "good              0.005176\n",
       "slim              0.004881\n",
       "simulation        0.004279\n",
       "episode           0.003959\n",
       "friend            0.003694\n",
       "looking           0.003406\n",
       "someone           0.003273\n",
       "avenger episode   0.003154\n",
       "wanna             0.003101\n",
       "vrr               0.003094\n",
       "gta               0.003065\n",
       "sony              0.003042\n",
       "guy               0.003021\n",
       "code              0.002908\n",
       "sekiro            0.002864\n",
       "dualsense         0.002860\n",
       "money             0.002645\n",
       "great             0.002584\n",
       "need help         0.002581\n",
       "please            0.002576\n",
       "account           0.002565\n",
       "discord server    0.002378\n",
       "gaming tv         0.002361\n",
       "dead              0.002291\n",
       "review            0.002288\n",
       "want              0.002264"
      ]
     },
     "execution_count": 112,
     "metadata": {},
     "output_type": "execute_result"
    }
   ],
   "source": [
    "gs7_df.sort_values(by='node_prob', ascending=False).head(30)"
   ]
  },
  {
   "cell_type": "markdown",
   "id": "dcc82987-2617-4121-80c1-89cf613b4046",
   "metadata": {},
   "source": [
    "#### Model 8 - TF-IDF Vectorizer + Random Forest"
   ]
  },
  {
   "cell_type": "code",
   "execution_count": 113,
   "id": "3c36c280-f57a-4a44-a6ba-692cdaa54447",
   "metadata": {},
   "outputs": [],
   "source": [
    "# Set up pipeline, hyperparameters and GridSearch\n",
    "pipe8 = Pipeline([\n",
    "    ('tvec', TfidfVectorizer()),\n",
    "    ('rt', RandomForestClassifier())\n",
    "])\n",
    "\n",
    "pipe8_params = {\n",
    "    'tvec__max_features': [4500],      #[4000, 5000]      \n",
    "    'tvec__min_df': [2],               #[1,3 ]        \n",
    "    'tvec__max_df': [0.85],                  \n",
    "    'tvec__ngram_range': [(1,3)],      #[(1,2), (1,4)]     \n",
    "    'rt__ccp_alpha': [0],                              \n",
    "    'rt__max_depth': [None],           #[20]         \n",
    "    'rt__min_samples_leaf': [1],            \n",
    "    'rt__min_samples_split': [40],    #[20, 60] \n",
    "    'rt__n_estimators': [200],         # [100, 300]\n",
    "    'rt__random_state': [42]                     \n",
    "}\n",
    "\n",
    "gs8 = GridSearchCV(pipe8,\n",
    "                   param_grid=pipe8_params, \n",
    "                   cv=5,\n",
    "                   n_jobs=-1,\n",
    "                   verbose=1\n",
    "                  )"
   ]
  },
  {
   "cell_type": "code",
   "execution_count": 114,
   "id": "3710e752-8ea6-4d12-ba22-65b85ba4d3ec",
   "metadata": {
    "tags": []
   },
   "outputs": [
    {
     "name": "stdout",
     "output_type": "stream",
     "text": [
      "Fitting 5 folds for each of 1 candidates, totalling 5 fits\n",
      "CPU times: total: 6.47 s\n",
      "Wall time: 15.6 s\n"
     ]
    },
    {
     "data": {
      "text/plain": [
       "GridSearchCV(cv=5,\n",
       "             estimator=Pipeline(steps=[('tvec', TfidfVectorizer()),\n",
       "                                       ('rt', RandomForestClassifier())]),\n",
       "             n_jobs=-1,\n",
       "             param_grid={'rt__ccp_alpha': [0], 'rt__max_depth': [None],\n",
       "                         'rt__min_samples_leaf': [1],\n",
       "                         'rt__min_samples_split': [40],\n",
       "                         'rt__n_estimators': [200], 'rt__random_state': [42],\n",
       "                         'tvec__max_df': [0.85], 'tvec__max_features': [4500],\n",
       "                         'tvec__min_df': [2], 'tvec__ngram_range': [(1, 3)]},\n",
       "             verbose=1)"
      ]
     },
     "execution_count": 114,
     "metadata": {},
     "output_type": "execute_result"
    }
   ],
   "source": [
    "%%time\n",
    "# Fit GridSearch to training data.\n",
    "gs8.fit(X_train, y_train)"
   ]
  },
  {
   "cell_type": "code",
   "execution_count": 115,
   "id": "fce5a276-a341-4fa2-9fd2-b7db920ba53c",
   "metadata": {},
   "outputs": [
    {
     "data": {
      "text/plain": [
       "{'rt__ccp_alpha': 0,\n",
       " 'rt__max_depth': None,\n",
       " 'rt__min_samples_leaf': 1,\n",
       " 'rt__min_samples_split': 40,\n",
       " 'rt__n_estimators': 200,\n",
       " 'rt__random_state': 42,\n",
       " 'tvec__max_df': 0.85,\n",
       " 'tvec__max_features': 4500,\n",
       " 'tvec__min_df': 2,\n",
       " 'tvec__ngram_range': (1, 3)}"
      ]
     },
     "execution_count": 115,
     "metadata": {},
     "output_type": "execute_result"
    }
   ],
   "source": [
    "# Model 8 best parameters\n",
    "gs8.best_params_"
   ]
  },
  {
   "cell_type": "code",
   "execution_count": 116,
   "id": "db6330ef-0604-4099-ad57-5456ff315945",
   "metadata": {},
   "outputs": [
    {
     "name": "stdout",
     "output_type": "stream",
     "text": [
      "Model 8 Train score: 0.9617940199335548\n",
      "Model 8 Test score: 0.7368421052631579\n",
      "Model 8 CV score: 0.742395390873963\n"
     ]
    }
   ],
   "source": [
    "print(f\"Model 8 Train score: {gs8.score(X_train, y_train)}\")\n",
    "print(f\"Model 8 Test score: {gs8.score(X_test, y_test)}\")\n",
    "print(f\"Model 8 CV score: {gs8.best_score_}\")"
   ]
  },
  {
   "cell_type": "code",
   "execution_count": 117,
   "id": "53a7f09a-86a4-4612-ad74-135701cd719d",
   "metadata": {},
   "outputs": [],
   "source": [
    "# Get predictions\n",
    "preds = gs8.predict(X_test)\n",
    "\n",
    "# Save confusion matrix values\n",
    "tn, fp, fn, tp = confusion_matrix(y_test, preds).ravel()\n",
    "cm = confusion_matrix(y_test, preds)"
   ]
  },
  {
   "cell_type": "code",
   "execution_count": 118,
   "id": "ba153164-019c-4544-989e-33e489cbcc04",
   "metadata": {},
   "outputs": [
    {
     "data": {
      "image/png": "[encoded data removed]",
      "text/plain": [
       "<Figure size 432x288 with 2 Axes>"
      ]
     },
     "metadata": {
      "needs_background": "light"
     },
     "output_type": "display_data"
    }
   ],
   "source": [
    "# View confusion matrix\n",
    "disp = ConfusionMatrixDisplay(cm)\n",
    "disp.plot();"
   ]
  },
  {
   "cell_type": "code",
   "execution_count": 119,
   "id": "8184d454-e4ca-4fad-96fd-22ff46c08257",
   "metadata": {},
   "outputs": [
    {
     "name": "stdout",
     "output_type": "stream",
     "text": [
      "Model 8 F1 score: 0.8325203252032519\n"
     ]
    }
   ],
   "source": [
    "# Calculate F1 score\n",
    "print(f\"Model 8 F1 score: {f1_score(y_test, preds)}\")"
   ]
  },
  {
   "cell_type": "code",
   "execution_count": 120,
   "id": "47b34c17-d9e6-4288-b99a-86616cba66e9",
   "metadata": {},
   "outputs": [],
   "source": [
    "gs8_features = gs8.best_estimator_[0].get_feature_names_out()"
   ]
  },
  {
   "cell_type": "code",
   "execution_count": 121,
   "id": "e7971d55-5bca-45bf-9ea7-3e5560228daf",
   "metadata": {},
   "outputs": [
    {
     "data": {
      "text/plain": [
       "array([1.00465873e-05, 3.98173364e-05, 4.36823713e-04, ...,\n",
       "       7.17002590e-04, 3.29150120e-04, 1.22686821e-04])"
      ]
     },
     "execution_count": 121,
     "metadata": {},
     "output_type": "execute_result"
    }
   ],
   "source": [
    "gs8_coef = gs8.best_estimator_.steps[1][1].feature_importances_\n",
    "gs8_coef"
   ]
  },
  {
   "cell_type": "code",
   "execution_count": 122,
   "id": "a7dddb6f-c904-48a4-97ba-54a56adc8ed9",
   "metadata": {},
   "outputs": [],
   "source": [
    "gs8_df = pd.DataFrame(gs8_coef, index=gs8_features, columns=['node_prob'])"
   ]
  },
  {
   "cell_type": "code",
   "execution_count": 123,
   "id": "9f2ecfff-11f4-4ad5-ae6a-51fcb4db48b3",
   "metadata": {},
   "outputs": [
    {
     "data": {
      "text/html": [
       "<div>\n",
       "<style scoped>\n",
       "    .dataframe tbody tr th:only-of-type {\n",
       "        vertical-align: middle;\n",
       "    }\n",
       "\n",
       "    .dataframe tbody tr th {\n",
       "        vertical-align: top;\n",
       "    }\n",
       "\n",
       "    .dataframe thead th {\n",
       "        text-align: right;\n",
       "    }\n",
       "</style>\n",
       "<table border=\"1\" class=\"dataframe\">\n",
       "  <thead>\n",
       "    <tr style=\"text-align: right;\">\n",
       "      <th></th>\n",
       "      <th>node_prob</th>\n",
       "    </tr>\n",
       "  </thead>\n",
       "  <tbody>\n",
       "    <tr>\n",
       "      <th>trailer</th>\n",
       "      <td>0.008776</td>\n",
       "    </tr>\n",
       "    <tr>\n",
       "      <th>play</th>\n",
       "      <td>0.007587</td>\n",
       "    </tr>\n",
       "    <tr>\n",
       "      <th>looking</th>\n",
       "      <td>0.006918</td>\n",
       "    </tr>\n",
       "    <tr>\n",
       "      <th>played</th>\n",
       "      <td>0.006338</td>\n",
       "    </tr>\n",
       "    <tr>\n",
       "      <th>good</th>\n",
       "      <td>0.006093</td>\n",
       "    </tr>\n",
       "    <tr>\n",
       "      <th>server</th>\n",
       "      <td>0.005678</td>\n",
       "    </tr>\n",
       "    <tr>\n",
       "      <th>anyone</th>\n",
       "      <td>0.005305</td>\n",
       "    </tr>\n",
       "    <tr>\n",
       "      <th>friend</th>\n",
       "      <td>0.004810</td>\n",
       "    </tr>\n",
       "    <tr>\n",
       "      <th>code</th>\n",
       "      <td>0.004708</td>\n",
       "    </tr>\n",
       "    <tr>\n",
       "      <th>someone</th>\n",
       "      <td>0.004593</td>\n",
       "    </tr>\n",
       "    <tr>\n",
       "      <th>great</th>\n",
       "      <td>0.004395</td>\n",
       "    </tr>\n",
       "    <tr>\n",
       "      <th>slim</th>\n",
       "      <td>0.004365</td>\n",
       "    </tr>\n",
       "    <tr>\n",
       "      <th>simulation</th>\n",
       "      <td>0.004363</td>\n",
       "    </tr>\n",
       "    <tr>\n",
       "      <th>one</th>\n",
       "      <td>0.004340</td>\n",
       "    </tr>\n",
       "    <tr>\n",
       "      <th>sony</th>\n",
       "      <td>0.004321</td>\n",
       "    </tr>\n",
       "    <tr>\n",
       "      <th>opinion</th>\n",
       "      <td>0.004025</td>\n",
       "    </tr>\n",
       "    <tr>\n",
       "      <th>best</th>\n",
       "      <td>0.003847</td>\n",
       "    </tr>\n",
       "    <tr>\n",
       "      <th>want</th>\n",
       "      <td>0.003727</td>\n",
       "    </tr>\n",
       "    <tr>\n",
       "      <th>guy</th>\n",
       "      <td>0.003698</td>\n",
       "    </tr>\n",
       "    <tr>\n",
       "      <th>check</th>\n",
       "      <td>0.003593</td>\n",
       "    </tr>\n",
       "    <tr>\n",
       "      <th>episode</th>\n",
       "      <td>0.003461</td>\n",
       "    </tr>\n",
       "    <tr>\n",
       "      <th>know</th>\n",
       "      <td>0.003333</td>\n",
       "    </tr>\n",
       "    <tr>\n",
       "      <th>get</th>\n",
       "      <td>0.003249</td>\n",
       "    </tr>\n",
       "    <tr>\n",
       "      <th>please</th>\n",
       "      <td>0.003220</td>\n",
       "    </tr>\n",
       "    <tr>\n",
       "      <th>help</th>\n",
       "      <td>0.003128</td>\n",
       "    </tr>\n",
       "    <tr>\n",
       "      <th>money</th>\n",
       "      <td>0.003098</td>\n",
       "    </tr>\n",
       "    <tr>\n",
       "      <th>like</th>\n",
       "      <td>0.003056</td>\n",
       "    </tr>\n",
       "    <tr>\n",
       "      <th>time</th>\n",
       "      <td>0.003050</td>\n",
       "    </tr>\n",
       "    <tr>\n",
       "      <th>sekiro</th>\n",
       "      <td>0.003012</td>\n",
       "    </tr>\n",
       "    <tr>\n",
       "      <th>wanna</th>\n",
       "      <td>0.003007</td>\n",
       "    </tr>\n",
       "  </tbody>\n",
       "</table>\n",
       "</div>"
      ],
      "text/plain": [
       "            node_prob\n",
       "trailer      0.008776\n",
       "play         0.007587\n",
       "looking      0.006918\n",
       "played       0.006338\n",
       "good         0.006093\n",
       "server       0.005678\n",
       "anyone       0.005305\n",
       "friend       0.004810\n",
       "code         0.004708\n",
       "someone      0.004593\n",
       "great        0.004395\n",
       "slim         0.004365\n",
       "simulation   0.004363\n",
       "one          0.004340\n",
       "sony         0.004321\n",
       "opinion      0.004025\n",
       "best         0.003847\n",
       "want         0.003727\n",
       "guy          0.003698\n",
       "check        0.003593\n",
       "episode      0.003461\n",
       "know         0.003333\n",
       "get          0.003249\n",
       "please       0.003220\n",
       "help         0.003128\n",
       "money        0.003098\n",
       "like         0.003056\n",
       "time         0.003050\n",
       "sekiro       0.003012\n",
       "wanna        0.003007"
      ]
     },
     "execution_count": 123,
     "metadata": {},
     "output_type": "execute_result"
    }
   ],
   "source": [
    "gs8_df.sort_values(by='node_prob', ascending=False).head(30)"
   ]
  },
  {
   "cell_type": "markdown",
   "id": "2d58042b-1c79-43c7-95bd-7f2bde3be4f4",
   "metadata": {},
   "source": [
    "## Summary"
   ]
  },
  {
   "cell_type": "markdown",
   "id": "7752f8c6-995c-4881-9c5d-9f55e7d8c5c3",
   "metadata": {},
   "source": [
    "#### Classification Models"
   ]
  },
  {
   "cell_type": "markdown",
   "id": "6d7b09f0-7644-4ecd-9a9e-dc62cb5a3799",
   "metadata": {},
   "source": [
    "| Classification Model                       | Train Score | Test Score | Cross Val Score | F1 Score |\n",
    "|--------------------------------------------|-------------|------------|-----------------|----------|\n",
    "| 1. CountVectorizer + Multinomial NB        | 0.79849     | 0.73531    | 0.74214         | 0.82652  |\n",
    "| 2. TF-IDF Vectorizer + Multinomial NB      | 0.79223     | 0.74093    | 0.74840         | 0.83910  |\n",
    "| 3. CountVectorizer + Logistic Regression   | 0.83453     | 0.74604    | 0.75019         | 0.83710  |\n",
    "| **4. TF-IDF Vectorizer + Logistic Regression** | **0.81919**     | **0.75013**    | **0.75300**         | **0.84077**  |\n",
    "| 5. CountVectorizer + Decision Tree         | 0.78469     | 0.72305    | 0.72451         | 0.82750  |\n",
    "| 6. TF IDF Vectorizer + Decision Tree       | 0.78776     | 0.71794    | 0.72170         | 0.82432  |\n",
    "| 7. CountVectorizer + Random Forest         | 0.93087     | 0.73020    | 0.73869         | 0.83088  |\n",
    "| 8. TF IDF Vectorizer + Random Forest       | 0.96179     | 0.73684    | 0.74240         | 0.83252  |"
   ]
  },
  {
   "cell_type": "markdown",
   "id": "3c2945ed-be52-4993-b3b2-f7b7147e5e65",
   "metadata": {},
   "source": [
    "Results from the various models are summarised in the table above. The best performing model is using a combination of TF-IDF Vectorizer and Logistic Regression, obtaining the highest cross-validation and f1 score among all the models. \n",
    "\n",
    "All of the models are overfitted, with higher performance score observed on the train dataset and lower score on test dataset. By applying k-fold cross validation, the models are able to learn from more dataset and thus reducing overfitting. Therefore, the cross-validation scores obtained are much to their respective test scores. \n",
    "\n",
    "The classification models used did not obtain a much higher score over our baseline score. This is likely due to the imbalanced dataset used. The F1 score is calculated as it gives a better measure of incorrectly classified posts than accuracy score, using the harmonic mean to penalize extreme values. In our case, false positives and false negatives are of equal importance, hence F1 score is used.\n"
   ]
  },
  {
   "cell_type": "code",
   "execution_count": 124,
   "id": "01122559-bd27-4f42-b5f0-85ec3c80cf74",
   "metadata": {},
   "outputs": [
    {
     "data": {
      "image/png": "[encoded data removed]",
      "text/plain": [
       "<Figure size 432x288 with 1 Axes>"
      ]
     },
     "metadata": {
      "needs_background": "light"
     },
     "output_type": "display_data"
    }
   ],
   "source": [
    "# ROC curve\n",
    "RocCurveDisplay.from_estimator(gs4, X_test, y_test)\n",
    "\n",
    "# add worst case scenario line\n",
    "plt.plot([0,1], [0,1], label='baseline', linestyle='--')\n",
    "\n",
    "# add a legend\n",
    "plt.legend();"
   ]
  },
  {
   "cell_type": "code",
   "execution_count": 125,
   "id": "27cb58b1-bb60-4cbb-b97f-b97a50d2f22b",
   "metadata": {},
   "outputs": [
    {
     "data": {
      "text/plain": [
       "0.7598315876723684"
      ]
     },
     "execution_count": 125,
     "metadata": {},
     "output_type": "execute_result"
    }
   ],
   "source": [
    "# Calculate ROC AUC.\n",
    "roc_auc_score(y_test, gs4.predict_proba(X_test)[:,1])"
   ]
  },
  {
   "cell_type": "markdown",
   "id": "a1399b01-b0a7-4aff-960a-10c9142d316a",
   "metadata": {},
   "source": [
    "#### Top features"
   ]
  },
  {
   "cell_type": "code",
   "execution_count": 126,
   "id": "0c893d91-2cc5-4815-8981-b56a242445f2",
   "metadata": {},
   "outputs": [],
   "source": [
    "model_df = gs4_df.sort_values(by='coef', ascending=False).head(30)"
   ]
  },
  {
   "cell_type": "code",
   "execution_count": 127,
   "id": "a5448bf4-ae4e-43bf-b5e1-6d042a082f5c",
   "metadata": {},
   "outputs": [
    {
     "data": {
      "image/png": "[encoded data removed]",
      "text/plain": [
       "<Figure size 1080x576 with 1 Axes>"
      ]
     },
     "metadata": {
      "needs_background": "light"
     },
     "output_type": "display_data"
    }
   ],
   "source": [
    "plt.figure(figsize = (15,8))\n",
    "ax = sns.barplot(data=model_df, y=model_df.index, x='coef', color='slateblue')\n",
    "plt.ylabel('features', size=14)\n",
    "plt.xlabel('coefficient', size=14)\n",
    "plt.title('Top 30 features with highest coefficients', size=14);"
   ]
  },
  {
   "cell_type": "markdown",
   "id": "c1779a76-3e4a-47f2-ac53-471229bcae1e",
   "metadata": {},
   "source": [
    "From the list of top 30 words generated, 'trailer' has obtained the highest coefficient, which is likely referring to discussions of upcoming games to be released. Other words such as 'upgrade', 'preview' and 'development' also contribute to the list of features for r/PS5, reflecting the ongoing changes and development for the console. There are technical terms such as the DualSense wireless controller and Variable Refresh Rate (VRR) specific to PS5 listed here. Lastly, game titles exclusive to the PS5 such as 'Bloodhunt' and 'Returnal' are included as well.\n"
   ]
  },
  {
   "cell_type": "markdown",
   "id": "b9d2fed8-6b2c-4d00-a6f2-07df330d5928",
   "metadata": {},
   "source": [
    "## Recommendations and Future Works\n",
    "\n"
   ]
  },
  {
   "cell_type": "markdown",
   "id": "9c3fc02a-37dc-43a8-8422-2478df8ce8fc",
   "metadata": {},
   "source": [
    "We have created a classification model using TF-IDF Vectorizer and Logistic Regression to differentiate between r/PS5 and r/PS4 posts. Gamers can use the classifier to determine which subreddit is more suitable to submit their post.\n",
    "\n",
    "Our best model did not obtain a relatively higher score over our baseline model, likely due to the imbalanced dataset. To improve our model, we can consider scrapping more data from the subreddits and obtain a more balanced dataset to work with. Other classification models such as Support Vector Machines or K Nearest Neighbors can be explored and reviewed. \n",
    "\n",
    "For future works, we could expand the project to further classify other similar subreddits such as [r/playstation](https://www.reddit.com/r/playstation/) or [r/gaming](https://www.reddit.com/r/gaming/). Given that images and videos are commonly used in Reddit posts, we can consider decoding and adding such features to our models."
   ]
  },
  {
   "cell_type": "code",
   "execution_count": null,
   "id": "c14d4d33-0396-4c57-99d8-c0e09b2f7b1f",
   "metadata": {},
   "outputs": [],
   "source": []
  }
 ],
 "metadata": {
  "kernelspec": {
   "display_name": "Python 3 (ipykernel)",
   "language": "python",
   "name": "python3"
  },
  "language_info": {
   "codemirror_mode": {
    "name": "ipython",
    "version": 3
   },
   "file_extension": ".py",
   "mimetype": "text/x-python",
   "name": "python",
   "nbconvert_exporter": "python",
   "pygments_lexer": "ipython3",
   "version": "3.8.13"
  }
 },
 "nbformat": 4,
 "nbformat_minor": 5
}
