{
 "cells": [
  {
   "cell_type": "markdown",
   "id": "f8f151d2-6510-44c0-87e8-32c27692d1d0",
   "metadata": {},
   "source": [
    "# Project 3: Web APIs & NLP"
   ]
  },
  {
   "cell_type": "markdown",
   "id": "4f2c4fa0-9011-453a-9aff-2e80194946a2",
   "metadata": {},
   "source": [
    "---\n",
    "\n",
    "## Part 2: Data Cleaning & EDA\n",
    "\n",
    "### Contents:\n",
    "\n",
    "- [Data Cleaning](#Data-Cleaning)\n",
    "- [Exploratory Data Analysis](#Exploratory-Data-Analysis)\n",
    "\n",
    "---"
   ]
  },
  {
   "cell_type": "markdown",
   "id": "6ff92ade-5869-49a0-b24e-a222f891a29e",
   "metadata": {},
   "source": [
    "#### Import libraries"
   ]
  },
  {
   "cell_type": "code",
   "execution_count": 1,
   "id": "e79a5215-607e-41c2-a5f4-ffcae39ae9fe",
   "metadata": {},
   "outputs": [],
   "source": [
    "import pandas as pd\n",
    "import numpy as np\n",
    "import matplotlib.pyplot as plt\n",
    "import seaborn as sns\n",
    "import re\n",
    "\n",
    "from bs4 import BeautifulSoup\n",
    "\n",
    "from nltk.tokenize import sent_tokenize, word_tokenize, RegexpTokenizer\n",
    "from nltk.stem import WordNetLemmatizer\n",
    "from nltk.stem.porter import PorterStemmer\n",
    "from nltk.corpus import stopwords\n",
    "from nltk.sentiment.vader import SentimentIntensityAnalyzer\n",
    "\n",
    "from sklearn.model_selection import train_test_split, GridSearchCV\n",
    "from sklearn.linear_model import LogisticRegression\n",
    "from sklearn.pipeline import Pipeline\n",
    "from sklearn.naive_bayes import MultinomialNB\n",
    "from sklearn.metrics import confusion_matrix, ConfusionMatrixDisplay\n",
    "from sklearn.feature_extraction.text import CountVectorizer, TfidfVectorizer\n"
   ]
  },
  {
   "cell_type": "code",
   "execution_count": 2,
   "id": "95a6ab27-6e00-4bd0-9a0f-ce1a314e8b7f",
   "metadata": {},
   "outputs": [],
   "source": [
    "# this setting widens how many characters pandas will display in a column:\n",
    "pd.options.display.max_colwidth = 400"
   ]
  },
  {
   "cell_type": "markdown",
   "id": "664e38d2-8fbf-4afa-9ccc-dca7203e3287",
   "metadata": {},
   "source": [
    "#### Read in datasets"
   ]
  },
  {
   "cell_type": "code",
   "execution_count": 3,
   "id": "8f566673-af76-4810-acc8-0a190a9b33fd",
   "metadata": {},
   "outputs": [],
   "source": [
    "ps4 = pd.read_csv(\"../datasets/ps4.csv\")\n",
    "ps5 = pd.read_csv(\"../datasets/ps5.csv\")"
   ]
  },
  {
   "cell_type": "code",
   "execution_count": 4,
   "id": "e2f2dc52-d498-4977-9ef0-49f1df58670d",
   "metadata": {},
   "outputs": [
    {
     "data": {
      "text/html": [
       "<div>\n",
       "<style scoped>\n",
       "    .dataframe tbody tr th:only-of-type {\n",
       "        vertical-align: middle;\n",
       "    }\n",
       "\n",
       "    .dataframe tbody tr th {\n",
       "        vertical-align: top;\n",
       "    }\n",
       "\n",
       "    .dataframe thead th {\n",
       "        text-align: right;\n",
       "    }\n",
       "</style>\n",
       "<table border=\"1\" class=\"dataframe\">\n",
       "  <thead>\n",
       "    <tr style=\"text-align: right;\">\n",
       "      <th></th>\n",
       "      <th>subreddit</th>\n",
       "      <th>id</th>\n",
       "      <th>title</th>\n",
       "      <th>selftext</th>\n",
       "      <th>removed_by_category</th>\n",
       "      <th>created_utc</th>\n",
       "    </tr>\n",
       "  </thead>\n",
       "  <tbody>\n",
       "    <tr>\n",
       "      <th>0</th>\n",
       "      <td>PS4</td>\n",
       "      <td>vobsxp</td>\n",
       "      <td>help</td>\n",
       "      <td>[removed]</td>\n",
       "      <td>moderator</td>\n",
       "      <td>1656604717</td>\n",
       "    </tr>\n",
       "    <tr>\n",
       "      <th>1</th>\n",
       "      <td>PS4</td>\n",
       "      <td>vobgp9</td>\n",
       "      <td>How long do you play a game before you decide to give up on it?</td>\n",
       "      <td>I know that some games take some time to really get into them. However, I am curious how long it takes you all before you realize the game just isn’t for you and to move on?\\n\\nHow many days or hours? Been hitting a rough patch with games lately!</td>\n",
       "      <td>NaN</td>\n",
       "      <td>1656603840</td>\n",
       "    </tr>\n",
       "    <tr>\n",
       "      <th>2</th>\n",
       "      <td>PS4</td>\n",
       "      <td>vobdsi</td>\n",
       "      <td>Updating PS4 via Usb, questions.</td>\n",
       "      <td>[removed]</td>\n",
       "      <td>moderator</td>\n",
       "      <td>1656603632</td>\n",
       "    </tr>\n",
       "    <tr>\n",
       "      <th>3</th>\n",
       "      <td>PS4</td>\n",
       "      <td>vob0uc</td>\n",
       "      <td>God of War Ragnarok Release Date Announcement Delayed [Rumor]</td>\n",
       "      <td>NaN</td>\n",
       "      <td>NaN</td>\n",
       "      <td>1656602691</td>\n",
       "    </tr>\n",
       "    <tr>\n",
       "      <th>4</th>\n",
       "      <td>PS4</td>\n",
       "      <td>vob0m1</td>\n",
       "      <td>can someone help with ps4 blurryness on brand new tv</td>\n",
       "      <td>[removed]</td>\n",
       "      <td>moderator</td>\n",
       "      <td>1656602676</td>\n",
       "    </tr>\n",
       "  </tbody>\n",
       "</table>\n",
       "</div>"
      ],
      "text/plain": [
       "  subreddit      id  \\\n",
       "0       PS4  vobsxp   \n",
       "1       PS4  vobgp9   \n",
       "2       PS4  vobdsi   \n",
       "3       PS4  vob0uc   \n",
       "4       PS4  vob0m1   \n",
       "\n",
       "                                                             title  \\\n",
       "0                                                             help   \n",
       "1  How long do you play a game before you decide to give up on it?   \n",
       "2                                 Updating PS4 via Usb, questions.   \n",
       "3    God of War Ragnarok Release Date Announcement Delayed [Rumor]   \n",
       "4             can someone help with ps4 blurryness on brand new tv   \n",
       "\n",
       "                                                                                                                                                                                                                                                 selftext  \\\n",
       "0                                                                                                                                                                                                                                               [removed]   \n",
       "1  I know that some games take some time to really get into them. However, I am curious how long it takes you all before you realize the game just isn’t for you and to move on?\\n\\nHow many days or hours? Been hitting a rough patch with games lately!   \n",
       "2                                                                                                                                                                                                                                               [removed]   \n",
       "3                                                                                                                                                                                                                                                     NaN   \n",
       "4                                                                                                                                                                                                                                               [removed]   \n",
       "\n",
       "  removed_by_category  created_utc  \n",
       "0           moderator   1656604717  \n",
       "1                 NaN   1656603840  \n",
       "2           moderator   1656603632  \n",
       "3                 NaN   1656602691  \n",
       "4           moderator   1656602676  "
      ]
     },
     "execution_count": 4,
     "metadata": {},
     "output_type": "execute_result"
    }
   ],
   "source": [
    "ps4.head()"
   ]
  },
  {
   "cell_type": "code",
   "execution_count": 5,
   "id": "28b67bb4-48dd-4bb6-acb0-972b4774c6e7",
   "metadata": {},
   "outputs": [
    {
     "name": "stdout",
     "output_type": "stream",
     "text": [
      "<class 'pandas.core.frame.DataFrame'>\n",
      "RangeIndex: 9992 entries, 0 to 9991\n",
      "Data columns (total 6 columns):\n",
      " #   Column               Non-Null Count  Dtype \n",
      "---  ------               --------------  ----- \n",
      " 0   subreddit            9992 non-null   object\n",
      " 1   id                   9992 non-null   object\n",
      " 2   title                9992 non-null   object\n",
      " 3   selftext             8436 non-null   object\n",
      " 4   removed_by_category  7109 non-null   object\n",
      " 5   created_utc          9992 non-null   int64 \n",
      "dtypes: int64(1), object(5)\n",
      "memory usage: 468.5+ KB\n"
     ]
    }
   ],
   "source": [
    "ps4.info()"
   ]
  },
  {
   "cell_type": "code",
   "execution_count": 6,
   "id": "23bf9cc0-e164-41a7-b09f-62e7548a0a8f",
   "metadata": {},
   "outputs": [
    {
     "data": {
      "text/plain": [
       "(9992, 6)"
      ]
     },
     "execution_count": 6,
     "metadata": {},
     "output_type": "execute_result"
    }
   ],
   "source": [
    "ps4.shape"
   ]
  },
  {
   "cell_type": "code",
   "execution_count": 7,
   "id": "da8ac33a-d5c1-4d21-bb23-7df193e931e0",
   "metadata": {},
   "outputs": [
    {
     "data": {
      "text/html": [
       "<div>\n",
       "<style scoped>\n",
       "    .dataframe tbody tr th:only-of-type {\n",
       "        vertical-align: middle;\n",
       "    }\n",
       "\n",
       "    .dataframe tbody tr th {\n",
       "        vertical-align: top;\n",
       "    }\n",
       "\n",
       "    .dataframe thead th {\n",
       "        text-align: right;\n",
       "    }\n",
       "</style>\n",
       "<table border=\"1\" class=\"dataframe\">\n",
       "  <thead>\n",
       "    <tr style=\"text-align: right;\">\n",
       "      <th></th>\n",
       "      <th>subreddit</th>\n",
       "      <th>id</th>\n",
       "      <th>title</th>\n",
       "      <th>selftext</th>\n",
       "      <th>removed_by_category</th>\n",
       "      <th>created_utc</th>\n",
       "    </tr>\n",
       "  </thead>\n",
       "  <tbody>\n",
       "    <tr>\n",
       "      <th>0</th>\n",
       "      <td>PS5</td>\n",
       "      <td>vobq9m</td>\n",
       "      <td>F.I.S.T.: Forged In Shadow Torch | Retail Editions Trailer</td>\n",
       "      <td>NaN</td>\n",
       "      <td>NaN</td>\n",
       "      <td>1656604528</td>\n",
       "    </tr>\n",
       "    <tr>\n",
       "      <th>1</th>\n",
       "      <td>PS5</td>\n",
       "      <td>vobl0a</td>\n",
       "      <td>Mouse Lag On Warzone</td>\n",
       "      <td>[removed]</td>\n",
       "      <td>reddit</td>\n",
       "      <td>1656604142</td>\n",
       "    </tr>\n",
       "    <tr>\n",
       "      <th>2</th>\n",
       "      <td>PS5</td>\n",
       "      <td>vobhpk</td>\n",
       "      <td>PS5 wont show me the disney plus app</td>\n",
       "      <td>[removed]</td>\n",
       "      <td>reddit</td>\n",
       "      <td>1656603908</td>\n",
       "    </tr>\n",
       "    <tr>\n",
       "      <th>3</th>\n",
       "      <td>PS5</td>\n",
       "      <td>vobddg</td>\n",
       "      <td>F1 22: Silverstone Circuit Hot Lap, On Board with Lewis Hamilton. @F1® Games From Codemasters</td>\n",
       "      <td>NaN</td>\n",
       "      <td>NaN</td>\n",
       "      <td>1656603605</td>\n",
       "    </tr>\n",
       "    <tr>\n",
       "      <th>4</th>\n",
       "      <td>PS5</td>\n",
       "      <td>vobb3h</td>\n",
       "      <td>Tom Henderson reveals details about God of War Ragnarök Collectors’ editions</td>\n",
       "      <td>NaN</td>\n",
       "      <td>NaN</td>\n",
       "      <td>1656603436</td>\n",
       "    </tr>\n",
       "  </tbody>\n",
       "</table>\n",
       "</div>"
      ],
      "text/plain": [
       "  subreddit      id  \\\n",
       "0       PS5  vobq9m   \n",
       "1       PS5  vobl0a   \n",
       "2       PS5  vobhpk   \n",
       "3       PS5  vobddg   \n",
       "4       PS5  vobb3h   \n",
       "\n",
       "                                                                                           title  \\\n",
       "0                                     F.I.S.T.: Forged In Shadow Torch | Retail Editions Trailer   \n",
       "1                                                                           Mouse Lag On Warzone   \n",
       "2                                                           PS5 wont show me the disney plus app   \n",
       "3  F1 22: Silverstone Circuit Hot Lap, On Board with Lewis Hamilton. @F1® Games From Codemasters   \n",
       "4                   Tom Henderson reveals details about God of War Ragnarök Collectors’ editions   \n",
       "\n",
       "    selftext removed_by_category  created_utc  \n",
       "0        NaN                 NaN   1656604528  \n",
       "1  [removed]              reddit   1656604142  \n",
       "2  [removed]              reddit   1656603908  \n",
       "3        NaN                 NaN   1656603605  \n",
       "4        NaN                 NaN   1656603436  "
      ]
     },
     "execution_count": 7,
     "metadata": {},
     "output_type": "execute_result"
    }
   ],
   "source": [
    "ps5.head()"
   ]
  },
  {
   "cell_type": "code",
   "execution_count": 8,
   "id": "768931f6-7ae1-4225-97f5-2400654a1a2c",
   "metadata": {},
   "outputs": [
    {
     "name": "stdout",
     "output_type": "stream",
     "text": [
      "<class 'pandas.core.frame.DataFrame'>\n",
      "RangeIndex: 9992 entries, 0 to 9991\n",
      "Data columns (total 6 columns):\n",
      " #   Column               Non-Null Count  Dtype \n",
      "---  ------               --------------  ----- \n",
      " 0   subreddit            9992 non-null   object\n",
      " 1   id                   9992 non-null   object\n",
      " 2   title                9992 non-null   object\n",
      " 3   selftext             6032 non-null   object\n",
      " 4   removed_by_category  3092 non-null   object\n",
      " 5   created_utc          9992 non-null   int64 \n",
      "dtypes: int64(1), object(5)\n",
      "memory usage: 468.5+ KB\n"
     ]
    }
   ],
   "source": [
    "ps5.info()"
   ]
  },
  {
   "cell_type": "code",
   "execution_count": 9,
   "id": "3a19a0f1-2852-4456-b95a-63a5fbc3aa4a",
   "metadata": {},
   "outputs": [
    {
     "data": {
      "text/plain": [
       "(9992, 6)"
      ]
     },
     "execution_count": 9,
     "metadata": {},
     "output_type": "execute_result"
    }
   ],
   "source": [
    "ps5.shape"
   ]
  },
  {
   "cell_type": "markdown",
   "id": "9d4ed4d0-6287-4fb0-aed7-f4f04a5c93bb",
   "metadata": {},
   "source": [
    "## Data Cleaning"
   ]
  },
  {
   "cell_type": "code",
   "execution_count": 10,
   "id": "a6f122b8-c7d2-4969-88a2-415ed716ee67",
   "metadata": {},
   "outputs": [
    {
     "data": {
      "text/plain": [
       "subreddit                 0\n",
       "id                        0\n",
       "title                     0\n",
       "selftext               1556\n",
       "removed_by_category    2883\n",
       "created_utc               0\n",
       "dtype: int64"
      ]
     },
     "execution_count": 10,
     "metadata": {},
     "output_type": "execute_result"
    }
   ],
   "source": [
    "# Check for null values\n",
    "ps4.isnull().sum()"
   ]
  },
  {
   "cell_type": "code",
   "execution_count": 11,
   "id": "764712f6-c7cd-49a5-a1f5-194eb435792a",
   "metadata": {},
   "outputs": [
    {
     "data": {
      "text/plain": [
       "subreddit                 0\n",
       "id                        0\n",
       "title                     0\n",
       "selftext               3960\n",
       "removed_by_category    6900\n",
       "created_utc               0\n",
       "dtype: int64"
      ]
     },
     "execution_count": 11,
     "metadata": {},
     "output_type": "execute_result"
    }
   ],
   "source": [
    "ps5.isnull().sum()"
   ]
  },
  {
   "cell_type": "code",
   "execution_count": 12,
   "id": "fe4fdafd-f431-45ad-8486-f5fe04a66da6",
   "metadata": {},
   "outputs": [
    {
     "data": {
      "text/plain": [
       "0"
      ]
     },
     "execution_count": 12,
     "metadata": {},
     "output_type": "execute_result"
    }
   ],
   "source": [
    "# Check for duplicates\n",
    "ps4.duplicated().sum()"
   ]
  },
  {
   "cell_type": "code",
   "execution_count": 13,
   "id": "370e7702-b45f-4575-ad11-d69cedec2608",
   "metadata": {},
   "outputs": [
    {
     "data": {
      "text/plain": [
       "0"
      ]
     },
     "execution_count": 13,
     "metadata": {},
     "output_type": "execute_result"
    }
   ],
   "source": [
    "ps5.duplicated().sum()"
   ]
  },
  {
   "cell_type": "code",
   "execution_count": 14,
   "id": "839c9539-ebc9-43a4-94d4-681cd64ee5c0",
   "metadata": {},
   "outputs": [
    {
     "data": {
      "text/plain": [
       "moderator           6300\n",
       "reddit               780\n",
       "deleted               28\n",
       "automod_filtered       1\n",
       "Name: removed_by_category, dtype: int64"
      ]
     },
     "execution_count": 14,
     "metadata": {},
     "output_type": "execute_result"
    }
   ],
   "source": [
    "ps4['removed_by_category'].value_counts()"
   ]
  },
  {
   "cell_type": "markdown",
   "id": "68aa8dd3-55f9-46ad-81e7-f8a46c6df67c",
   "metadata": {},
   "source": [
    "Posts that are removed from its subreddit will be marked with the above categories. Hence, we will mask these posts and keep the undeleted posts for our analysis."
   ]
  },
  {
   "cell_type": "code",
   "execution_count": 15,
   "id": "f2b1c7fc-61cd-4dff-9864-8ff250d1fba3",
   "metadata": {},
   "outputs": [],
   "source": [
    "# Mask deleted posts\n",
    "ps4 = ps4[ps4['removed_by_category'].isnull()]"
   ]
  },
  {
   "cell_type": "code",
   "execution_count": 16,
   "id": "f10ad844-1bd8-4c7e-82df-0f3b999e1478",
   "metadata": {},
   "outputs": [
    {
     "name": "stdout",
     "output_type": "stream",
     "text": [
      "<class 'pandas.core.frame.DataFrame'>\n",
      "Int64Index: 2883 entries, 1 to 9990\n",
      "Data columns (total 6 columns):\n",
      " #   Column               Non-Null Count  Dtype \n",
      "---  ------               --------------  ----- \n",
      " 0   subreddit            2883 non-null   object\n",
      " 1   id                   2883 non-null   object\n",
      " 2   title                2883 non-null   object\n",
      " 3   selftext             2006 non-null   object\n",
      " 4   removed_by_category  0 non-null      object\n",
      " 5   created_utc          2883 non-null   int64 \n",
      "dtypes: int64(1), object(5)\n",
      "memory usage: 157.7+ KB\n"
     ]
    }
   ],
   "source": [
    "ps4.info()"
   ]
  },
  {
   "cell_type": "markdown",
   "id": "2629f447-ff48-41d8-905c-1902ca154a24",
   "metadata": {},
   "source": [
    "The null values in `selftext` and `removed_by_category` will be replaced with blank strings."
   ]
  },
  {
   "cell_type": "code",
   "execution_count": 17,
   "id": "98cc85ad-aff5-43d5-95f4-550ea52a4f12",
   "metadata": {
    "tags": []
   },
   "outputs": [],
   "source": [
    "# Replace NaN values with blank strings\n",
    "ps4['selftext'].fillna(' ', inplace=True)\n",
    "ps4['removed_by_category'].fillna(' ', inplace=True)"
   ]
  },
  {
   "cell_type": "code",
   "execution_count": 18,
   "id": "b166635b-b7c3-4c89-86c3-69769f39a222",
   "metadata": {},
   "outputs": [
    {
     "name": "stdout",
     "output_type": "stream",
     "text": [
      "<class 'pandas.core.frame.DataFrame'>\n",
      "Int64Index: 2883 entries, 1 to 9990\n",
      "Data columns (total 6 columns):\n",
      " #   Column               Non-Null Count  Dtype \n",
      "---  ------               --------------  ----- \n",
      " 0   subreddit            2883 non-null   object\n",
      " 1   id                   2883 non-null   object\n",
      " 2   title                2883 non-null   object\n",
      " 3   selftext             2883 non-null   object\n",
      " 4   removed_by_category  2883 non-null   object\n",
      " 5   created_utc          2883 non-null   int64 \n",
      "dtypes: int64(1), object(5)\n",
      "memory usage: 157.7+ KB\n"
     ]
    }
   ],
   "source": [
    "ps4.info()"
   ]
  },
  {
   "cell_type": "code",
   "execution_count": 19,
   "id": "954812fc-cc42-459a-bd3c-d0c8fb80e50e",
   "metadata": {},
   "outputs": [],
   "source": [
    "# Drop removed_by_category and created_utc\n",
    "ps4.drop(['removed_by_category', 'created_utc'], axis=1, inplace=True)"
   ]
  },
  {
   "cell_type": "code",
   "execution_count": 20,
   "id": "66218a4f-83d7-4877-8116-022621075db2",
   "metadata": {},
   "outputs": [],
   "source": [
    "#  Reset index\n",
    "ps4.reset_index(drop=True, inplace = True)"
   ]
  },
  {
   "cell_type": "code",
   "execution_count": 21,
   "id": "81423e67-86b2-440c-93c3-d723f2f9d436",
   "metadata": {},
   "outputs": [
    {
     "data": {
      "text/html": [
       "<div>\n",
       "<style scoped>\n",
       "    .dataframe tbody tr th:only-of-type {\n",
       "        vertical-align: middle;\n",
       "    }\n",
       "\n",
       "    .dataframe tbody tr th {\n",
       "        vertical-align: top;\n",
       "    }\n",
       "\n",
       "    .dataframe thead th {\n",
       "        text-align: right;\n",
       "    }\n",
       "</style>\n",
       "<table border=\"1\" class=\"dataframe\">\n",
       "  <thead>\n",
       "    <tr style=\"text-align: right;\">\n",
       "      <th></th>\n",
       "      <th>subreddit</th>\n",
       "      <th>id</th>\n",
       "      <th>title</th>\n",
       "      <th>selftext</th>\n",
       "    </tr>\n",
       "  </thead>\n",
       "  <tbody>\n",
       "    <tr>\n",
       "      <th>0</th>\n",
       "      <td>PS4</td>\n",
       "      <td>vobgp9</td>\n",
       "      <td>How long do you play a game before you decide to give up on it?</td>\n",
       "      <td>I know that some games take some time to really get into them. However, I am curious how long it takes you all before you realize the game just isn’t for you and to move on?\\n\\nHow many days or hours? Been hitting a rough patch with games lately!</td>\n",
       "    </tr>\n",
       "    <tr>\n",
       "      <th>1</th>\n",
       "      <td>PS4</td>\n",
       "      <td>vob0uc</td>\n",
       "      <td>God of War Ragnarok Release Date Announcement Delayed [Rumor]</td>\n",
       "      <td></td>\n",
       "    </tr>\n",
       "    <tr>\n",
       "      <th>2</th>\n",
       "      <td>PS4</td>\n",
       "      <td>vob0ek</td>\n",
       "      <td>One Piece Odyssey - Gameplay</td>\n",
       "      <td></td>\n",
       "    </tr>\n",
       "    <tr>\n",
       "      <th>3</th>\n",
       "      <td>PS4</td>\n",
       "      <td>voaq7b</td>\n",
       "      <td>One Piece Odyssey - Dev Diary</td>\n",
       "      <td></td>\n",
       "    </tr>\n",
       "    <tr>\n",
       "      <th>4</th>\n",
       "      <td>PS4</td>\n",
       "      <td>vo9fc1</td>\n",
       "      <td>Upgrade Ps4 to Ps5</td>\n",
       "      <td>I have the original Ps4 and can no longer run a lot of the mainstream multiplayer games without my console crashing. I have finally found a few Ps5 consoles in my area and am curious if Ps5 users think the upgrade was worth it?</td>\n",
       "    </tr>\n",
       "  </tbody>\n",
       "</table>\n",
       "</div>"
      ],
      "text/plain": [
       "  subreddit      id  \\\n",
       "0       PS4  vobgp9   \n",
       "1       PS4  vob0uc   \n",
       "2       PS4  vob0ek   \n",
       "3       PS4  voaq7b   \n",
       "4       PS4  vo9fc1   \n",
       "\n",
       "                                                             title  \\\n",
       "0  How long do you play a game before you decide to give up on it?   \n",
       "1    God of War Ragnarok Release Date Announcement Delayed [Rumor]   \n",
       "2                                     One Piece Odyssey - Gameplay   \n",
       "3                                    One Piece Odyssey - Dev Diary   \n",
       "4                                               Upgrade Ps4 to Ps5   \n",
       "\n",
       "                                                                                                                                                                                                                                                 selftext  \n",
       "0  I know that some games take some time to really get into them. However, I am curious how long it takes you all before you realize the game just isn’t for you and to move on?\\n\\nHow many days or hours? Been hitting a rough patch with games lately!  \n",
       "1                                                                                                                                                                                                                                                          \n",
       "2                                                                                                                                                                                                                                                          \n",
       "3                                                                                                                                                                                                                                                          \n",
       "4                     I have the original Ps4 and can no longer run a lot of the mainstream multiplayer games without my console crashing. I have finally found a few Ps5 consoles in my area and am curious if Ps5 users think the upgrade was worth it?  "
      ]
     },
     "execution_count": 21,
     "metadata": {},
     "output_type": "execute_result"
    }
   ],
   "source": [
    "ps4.head()"
   ]
  },
  {
   "cell_type": "code",
   "execution_count": 22,
   "id": "4fb36696-9fcf-4c79-a30a-0835b0362667",
   "metadata": {},
   "outputs": [
    {
     "name": "stdout",
     "output_type": "stream",
     "text": [
      "<class 'pandas.core.frame.DataFrame'>\n",
      "RangeIndex: 2883 entries, 0 to 2882\n",
      "Data columns (total 4 columns):\n",
      " #   Column     Non-Null Count  Dtype \n",
      "---  ------     --------------  ----- \n",
      " 0   subreddit  2883 non-null   object\n",
      " 1   id         2883 non-null   object\n",
      " 2   title      2883 non-null   object\n",
      " 3   selftext   2883 non-null   object\n",
      "dtypes: object(4)\n",
      "memory usage: 90.2+ KB\n"
     ]
    }
   ],
   "source": [
    "ps4.info()"
   ]
  },
  {
   "cell_type": "code",
   "execution_count": 23,
   "id": "821b2742-1645-42f0-8d9b-ac450a2d8dc5",
   "metadata": {},
   "outputs": [],
   "source": [
    "# Perform the same for ps5 dataset\n",
    "\n",
    "# Mask deleted posts\n",
    "ps5 = ps5[ps5['removed_by_category'].isnull()]\n",
    "\n",
    "# Replace NaN values with blank strings\n",
    "ps5['selftext'].fillna(' ', inplace=True)\n",
    "ps5['removed_by_category'].fillna(' ', inplace=True)\n",
    "\n",
    "# Drop removed_by_category and created_utc\n",
    "ps5.drop(['removed_by_category', 'created_utc'], axis=1, inplace=True)\n",
    "\n",
    "#  Reset index\n",
    "ps5.reset_index(drop=True, inplace = True)"
   ]
  },
  {
   "cell_type": "code",
   "execution_count": 24,
   "id": "a94b4f73-27db-4506-87ee-590686efea76",
   "metadata": {},
   "outputs": [
    {
     "data": {
      "text/html": [
       "<div>\n",
       "<style scoped>\n",
       "    .dataframe tbody tr th:only-of-type {\n",
       "        vertical-align: middle;\n",
       "    }\n",
       "\n",
       "    .dataframe tbody tr th {\n",
       "        vertical-align: top;\n",
       "    }\n",
       "\n",
       "    .dataframe thead th {\n",
       "        text-align: right;\n",
       "    }\n",
       "</style>\n",
       "<table border=\"1\" class=\"dataframe\">\n",
       "  <thead>\n",
       "    <tr style=\"text-align: right;\">\n",
       "      <th></th>\n",
       "      <th>subreddit</th>\n",
       "      <th>id</th>\n",
       "      <th>title</th>\n",
       "      <th>selftext</th>\n",
       "    </tr>\n",
       "  </thead>\n",
       "  <tbody>\n",
       "    <tr>\n",
       "      <th>0</th>\n",
       "      <td>PS5</td>\n",
       "      <td>vobq9m</td>\n",
       "      <td>F.I.S.T.: Forged In Shadow Torch | Retail Editions Trailer</td>\n",
       "      <td></td>\n",
       "    </tr>\n",
       "    <tr>\n",
       "      <th>1</th>\n",
       "      <td>PS5</td>\n",
       "      <td>vobddg</td>\n",
       "      <td>F1 22: Silverstone Circuit Hot Lap, On Board with Lewis Hamilton. @F1® Games From Codemasters</td>\n",
       "      <td></td>\n",
       "    </tr>\n",
       "    <tr>\n",
       "      <th>2</th>\n",
       "      <td>PS5</td>\n",
       "      <td>vobb3h</td>\n",
       "      <td>Tom Henderson reveals details about God of War Ragnarök Collectors’ editions</td>\n",
       "      <td></td>\n",
       "    </tr>\n",
       "    <tr>\n",
       "      <th>3</th>\n",
       "      <td>PS5</td>\n",
       "      <td>vob6le</td>\n",
       "      <td>So will more ps3 games be added to the new ps plus?</td>\n",
       "      <td>So I’m enjoying playing though some of the ps3 catalog though the new PS plus, however I noticed some games that I was hoping that would show up, aren’t there. So I was wondering if more will be added.\\n\\nCause I really want to play Killzone 2</td>\n",
       "    </tr>\n",
       "    <tr>\n",
       "      <th>4</th>\n",
       "      <td>PS5</td>\n",
       "      <td>vob13g</td>\n",
       "      <td>God of War Ragnarok Release Date Announcement Delayed</td>\n",
       "      <td></td>\n",
       "    </tr>\n",
       "  </tbody>\n",
       "</table>\n",
       "</div>"
      ],
      "text/plain": [
       "  subreddit      id  \\\n",
       "0       PS5  vobq9m   \n",
       "1       PS5  vobddg   \n",
       "2       PS5  vobb3h   \n",
       "3       PS5  vob6le   \n",
       "4       PS5  vob13g   \n",
       "\n",
       "                                                                                           title  \\\n",
       "0                                     F.I.S.T.: Forged In Shadow Torch | Retail Editions Trailer   \n",
       "1  F1 22: Silverstone Circuit Hot Lap, On Board with Lewis Hamilton. @F1® Games From Codemasters   \n",
       "2                   Tom Henderson reveals details about God of War Ragnarök Collectors’ editions   \n",
       "3                                            So will more ps3 games be added to the new ps plus?   \n",
       "4                                          God of War Ragnarok Release Date Announcement Delayed   \n",
       "\n",
       "                                                                                                                                                                                                                                              selftext  \n",
       "0                                                                                                                                                                                                                                                       \n",
       "1                                                                                                                                                                                                                                                       \n",
       "2                                                                                                                                                                                                                                                       \n",
       "3  So I’m enjoying playing though some of the ps3 catalog though the new PS plus, however I noticed some games that I was hoping that would show up, aren’t there. So I was wondering if more will be added.\\n\\nCause I really want to play Killzone 2  \n",
       "4                                                                                                                                                                                                                                                       "
      ]
     },
     "execution_count": 24,
     "metadata": {},
     "output_type": "execute_result"
    }
   ],
   "source": [
    "ps5.head()"
   ]
  },
  {
   "cell_type": "code",
   "execution_count": 25,
   "id": "a4be230f-0a38-4824-acc7-0cda6ad2d710",
   "metadata": {},
   "outputs": [
    {
     "name": "stdout",
     "output_type": "stream",
     "text": [
      "<class 'pandas.core.frame.DataFrame'>\n",
      "RangeIndex: 6900 entries, 0 to 6899\n",
      "Data columns (total 4 columns):\n",
      " #   Column     Non-Null Count  Dtype \n",
      "---  ------     --------------  ----- \n",
      " 0   subreddit  6900 non-null   object\n",
      " 1   id         6900 non-null   object\n",
      " 2   title      6900 non-null   object\n",
      " 3   selftext   6900 non-null   object\n",
      "dtypes: object(4)\n",
      "memory usage: 215.8+ KB\n"
     ]
    }
   ],
   "source": [
    "ps5.info()"
   ]
  },
  {
   "cell_type": "markdown",
   "id": "544c2050-4743-4bf4-8107-7573bd54719a",
   "metadata": {},
   "source": [
    "## Exploratory Data Analysis"
   ]
  },
  {
   "cell_type": "markdown",
   "id": "912f9657-1dc6-475f-831f-a250f9567c62",
   "metadata": {},
   "source": [
    "CountVectorizer will be used to obtain the most frequently occurring words from `title` and `selftext`in both subreddits."
   ]
  },
  {
   "cell_type": "code",
   "execution_count": 26,
   "id": "12cafe4c-8d03-4b9d-b7e6-cf35c32d6c9c",
   "metadata": {},
   "outputs": [],
   "source": [
    "# Instantiate CountVectorizer\n",
    "cvec = CountVectorizer(max_features = 1000,\n",
    "                       stop_words = 'english'\n",
    "                      )"
   ]
  },
  {
   "cell_type": "code",
   "execution_count": 27,
   "id": "48f49e69-2b13-44c8-bee9-e64662ac3223",
   "metadata": {},
   "outputs": [],
   "source": [
    "ps4_title = pd.DataFrame(cvec.fit_transform(ps4['title']).todense(),\n",
    "                            columns = cvec.get_feature_names_out())\n",
    "\n",
    "ps4_title_30 = ps4_title.sum().sort_values(ascending=False).head(30)"
   ]
  },
  {
   "cell_type": "code",
   "execution_count": 28,
   "id": "5741831c-57d1-4638-91c1-dbcbea172c3d",
   "metadata": {},
   "outputs": [],
   "source": [
    "ps5_title = pd.DataFrame(cvec.fit_transform(ps5['title']).todense(),\n",
    "                            columns = cvec.get_feature_names_out())\n",
    "\n",
    "ps5_title_30 = ps5_title.sum().sort_values(ascending=False).head(30)"
   ]
  },
  {
   "cell_type": "code",
   "execution_count": 29,
   "id": "3db909a5-9765-407b-b7bd-17e0e548b0dc",
   "metadata": {},
   "outputs": [
    {
     "data": {
      "image/png": "[encoded data removed]",
      "text/plain": [
       "<Figure size 720x720 with 2 Axes>"
      ]
     },
     "metadata": {
      "needs_background": "light"
     },
     "output_type": "display_data"
    }
   ],
   "source": [
    "# Plot results for `title`\n",
    "fit, ax = plt.subplots(nrows = 1, ncols = 2, figsize=(10,10))\n",
    "\n",
    "sns.barplot(y=ps4_title_30.index.values, x=ps4_title_30, color='blue', ax=ax[0]);\n",
    "ax[0].set_title('r/PS4 top 30 words from `title`')\n",
    "ax[0].set_xlabel('count')\n",
    "\n",
    "sns.barplot(y=ps5_title_30.index.values, x=ps5_title_30, color='blue', ax=ax[1]);\n",
    "ax[1].set_title('r/PS5 top 30 words from `title`')\n",
    "ax[1].set_xlabel('count')\n",
    "\n",
    "plt.tight_layout()\n",
    "plt.show()"
   ]
  },
  {
   "cell_type": "code",
   "execution_count": 30,
   "id": "353f8aa9-c2bc-4b36-92d3-76f5e4f2aa76",
   "metadata": {},
   "outputs": [],
   "source": [
    "ps4_selftext = pd.DataFrame(cvec.fit_transform(ps4['selftext']).todense(),\n",
    "                            columns = cvec.get_feature_names_out())\n",
    "\n",
    "ps4_selftext_30 = ps4_selftext.sum().sort_values(ascending=False).head(30)\n",
    "\n",
    "ps5_selftext = pd.DataFrame(cvec.fit_transform(ps5['selftext']).todense(),\n",
    "                            columns = cvec.get_feature_names_out())\n",
    "\n",
    "ps5_selftext_30 = ps5_selftext.sum().sort_values(ascending=False).head(30)"
   ]
  },
  {
   "cell_type": "code",
   "execution_count": 31,
   "id": "54ebf3ec-4553-4a13-a769-36da13ac3795",
   "metadata": {},
   "outputs": [
    {
     "data": {
      "image/png": "[encoded data removed]",
      "text/plain": [
       "<Figure size 720x720 with 2 Axes>"
      ]
     },
     "metadata": {
      "needs_background": "light"
     },
     "output_type": "display_data"
    }
   ],
   "source": [
    "# Plot results for `selftext`\n",
    "fit, ax = plt.subplots(nrows = 1, ncols = 2, figsize=(10,10))\n",
    "\n",
    "sns.barplot(y=ps4_selftext_30.index.values, x=ps4_selftext_30, color='blue', ax=ax[0]);\n",
    "ax[0].set_title('r/PS4 top 30 words from `selftext`')\n",
    "ax[0].set_xlabel('count')\n",
    "\n",
    "sns.barplot(y=ps5_selftext_30.index.values, x=ps5_selftext_30, color='blue', ax=ax[1]);\n",
    "ax[1].set_title('r/PS5 top 30 words from `selftext`')\n",
    "ax[1].set_xlabel('count')\n",
    "\n",
    "plt.tight_layout()\n",
    "plt.show()"
   ]
  },
  {
   "cell_type": "markdown",
   "id": "ea9d7415-8637-47e9-a992-824297923612",
   "metadata": {},
   "source": [
    "We can consider including the common words from both subreddits such as 'game', 'playstation', 'ps4' and 'ps5' into our list of stopwords during data preprocessing, as these words may not be helpful in differentiating an unclassified post. N-grams can be reviewed as well, as it could consist of differentiators such as technical terms or game titles."
   ]
  },
  {
   "cell_type": "code",
   "execution_count": 32,
   "id": "bb3797ed-2b06-4456-ad3e-1983843e7c5e",
   "metadata": {},
   "outputs": [],
   "source": [
    "# Instantiate CountVectorizer\n",
    "cvec = CountVectorizer(max_features = 1000,\n",
    "                       stop_words = 'english',\n",
    "                       ngram_range = (2,4))"
   ]
  },
  {
   "cell_type": "code",
   "execution_count": 33,
   "id": "b7144ccc-ac79-4ac8-8928-927de901e8fd",
   "metadata": {
    "tags": []
   },
   "outputs": [],
   "source": [
    "ps4_features = pd.DataFrame(cvec.fit_transform(ps4['title']).todense(),\n",
    "                            columns = cvec.get_feature_names_out())\n",
    "\n",
    "ps4_features_30 = ps4_features.sum().sort_values(ascending=False).head(30)\n",
    "\n",
    "ps5_features = pd.DataFrame(cvec.fit_transform(ps5['title']).todense(),\n",
    "                            columns = cvec.get_feature_names_out())\n",
    "\n",
    "ps5_features_30 = ps5_features.sum().sort_values(ascending=False).head(30)"
   ]
  },
  {
   "cell_type": "code",
   "execution_count": 34,
   "id": "33ed00a6-55d1-4036-b48d-907001824594",
   "metadata": {},
   "outputs": [
    {
     "data": {
      "image/png": "[encoded data removed]",
      "text/plain": [
       "<Figure size 720x720 with 2 Axes>"
      ]
     },
     "metadata": {
      "needs_background": "light"
     },
     "output_type": "display_data"
    }
   ],
   "source": [
    "# Plot results\n",
    "fit, ax = plt.subplots(nrows = 1, ncols = 2, figsize=(10,10))\n",
    "\n",
    "sns.barplot(y=ps4_features_30.index.values, x=ps4_features_30, color='blue', ax=ax[0]);\n",
    "ax[0].set_title('r/PS4 top 30 phrases from `title`')\n",
    "ax[0].set_xlabel('count')\n",
    "\n",
    "sns.barplot(y=ps5_features_30.index.values, x=ps5_features_30, color='blue', ax=ax[1]);\n",
    "ax[1].set_title('r/PS5 top 30 phrases from `title`')\n",
    "ax[1].set_xlabel('count')\n",
    "\n",
    "plt.tight_layout()\n",
    "plt.show()"
   ]
  },
  {
   "cell_type": "code",
   "execution_count": 35,
   "id": "24dd5080-0d5b-4522-95e0-3c493d854155",
   "metadata": {},
   "outputs": [],
   "source": [
    "ps4.to_csv(\"../datasets/ps4_clean.csv\", index=False)\n",
    "ps5.to_csv(\"../datasets/ps5_clean.csv\", index=False)"
   ]
  },
  {
   "cell_type": "code",
   "execution_count": null,
   "id": "9159ea67-7be7-43c4-95e0-5b32a877e9ab",
   "metadata": {},
   "outputs": [],
   "source": []
  }
 ],
 "metadata": {
  "kernelspec": {
   "display_name": "Python 3 (ipykernel)",
   "language": "python",
   "name": "python3"
  },
  "language_info": {
   "codemirror_mode": {
    "name": "ipython",
    "version": 3
   },
   "file_extension": ".py",
   "mimetype": "text/x-python",
   "name": "python",
   "nbconvert_exporter": "python",
   "pygments_lexer": "ipython3",
   "version": "3.8.13"
  }
 },
 "nbformat": 4,
 "nbformat_minor": 5
}
